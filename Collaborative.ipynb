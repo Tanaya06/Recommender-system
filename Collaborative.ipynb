{
  "nbformat": 4,
  "nbformat_minor": 0,
  "metadata": {
    "colab": {
      "name": "Collaborative.ipynb",
      "provenance": [],
      "collapsed_sections": []
    },
    "kernelspec": {
      "name": "python3",
      "display_name": "Python 3"
    },
    "language_info": {
      "name": "python"
    }
  },
  "cells": [
    {
      "cell_type": "code",
      "metadata": {
        "id": "u2UYaNntdqkn"
      },
      "source": [
        "import warnings\n",
        "warnings.filterwarnings('ignore')\n",
        "import numpy as np\n",
        "import pandas as pd\n",
        "import pandas_profiling \n",
        "import matplotlib.pyplot as plt\n",
        "import seaborn as sns\n",
        "sns.set_color_codes()\n",
        "sns.set(style=\"whitegrid\")\n",
        "%matplotlib inline\n",
        "from scipy.stats import zscore\n",
        "from sklearn import metrics\n",
        "from sklearn.model_selection import train_test_split\n",
        "from sklearn.model_selection import KFold\n",
        "from sklearn.model_selection import cross_val_score\n",
        "from sklearn.decomposition import PCA\n",
        "from sklearn.preprocessing import StandardScaler\n",
        "from sklearn.metrics import mean_squared_error\n",
        "from math import sqrt\n",
        "\n",
        "import requests\n",
        "from io import StringIO\n",
        "\n",
        "#setting up for customized printing\n",
        "from IPython.display import Markdown, display\n",
        "from IPython.display import HTML\n",
        "def printmd(string, color=None):\n",
        "    colorstr = \"<span style='color:{}'>{}</span>\".format(color, string)\n",
        "    display(Markdown(colorstr))\n",
        "    \n",
        "#function to display dataframes side by side    \n",
        "from IPython.display import display_html\n",
        "def display_side_by_side(args):\n",
        "    html_str=''\n",
        "    for df in args:\n",
        "        html_str+=df.to_html()\n",
        "    display_html(html_str.replace('table','table style=\"display:inline;margin-left:50px !important;margin-right: 40px !important\"'),raw=True)"
      ],
      "execution_count": null,
      "outputs": []
    },
    {
      "cell_type": "code",
      "metadata": {
        "colab": {
          "base_uri": "https://localhost:8080/",
          "height": 423
        },
        "id": "fsnGkcfmd_V_",
        "outputId": "b888a374-c2a3-44e0-96ac-a5a4693bf981"
      },
      "source": [
        "electronics_data = pd.read_csv('/content/drive/MyDrive/Colab Notebooks/20191226-items.csv')\n",
        "reviews = pd.read_csv('/content/drive/MyDrive/Colab Notebooks/20191226-reviews.csv')\n",
        "reviews = reviews.drop('rating',1)\n",
        "reviews = reviews.drop('title',1)\n",
        "electronics_data = pd.merge(electronics_data,reviews,on='asin')\n",
        "electronics_data = electronics_data[['name','asin','rating']]\n",
        "electronics_data"
      ],
      "execution_count": null,
      "outputs": [
        {
          "output_type": "execute_result",
          "data": {
            "text/html": [
              "<div>\n",
              "<style scoped>\n",
              "    .dataframe tbody tr th:only-of-type {\n",
              "        vertical-align: middle;\n",
              "    }\n",
              "\n",
              "    .dataframe tbody tr th {\n",
              "        vertical-align: top;\n",
              "    }\n",
              "\n",
              "    .dataframe thead th {\n",
              "        text-align: right;\n",
              "    }\n",
              "</style>\n",
              "<table border=\"1\" class=\"dataframe\">\n",
              "  <thead>\n",
              "    <tr style=\"text-align: right;\">\n",
              "      <th></th>\n",
              "      <th>name</th>\n",
              "      <th>asin</th>\n",
              "      <th>rating</th>\n",
              "    </tr>\n",
              "  </thead>\n",
              "  <tbody>\n",
              "    <tr>\n",
              "      <th>0</th>\n",
              "      <td>Janet</td>\n",
              "      <td>B0000SX2UC</td>\n",
              "      <td>3.0</td>\n",
              "    </tr>\n",
              "    <tr>\n",
              "      <th>1</th>\n",
              "      <td>Luke Wyatt</td>\n",
              "      <td>B0000SX2UC</td>\n",
              "      <td>3.0</td>\n",
              "    </tr>\n",
              "    <tr>\n",
              "      <th>2</th>\n",
              "      <td>Brooke</td>\n",
              "      <td>B0000SX2UC</td>\n",
              "      <td>3.0</td>\n",
              "    </tr>\n",
              "    <tr>\n",
              "      <th>3</th>\n",
              "      <td>amy m. teague</td>\n",
              "      <td>B0000SX2UC</td>\n",
              "      <td>3.0</td>\n",
              "    </tr>\n",
              "    <tr>\n",
              "      <th>4</th>\n",
              "      <td>tristazbimmer</td>\n",
              "      <td>B0000SX2UC</td>\n",
              "      <td>3.0</td>\n",
              "    </tr>\n",
              "    <tr>\n",
              "      <th>...</th>\n",
              "      <td>...</td>\n",
              "      <td>...</td>\n",
              "      <td>...</td>\n",
              "    </tr>\n",
              "    <tr>\n",
              "      <th>67981</th>\n",
              "      <td>jande</td>\n",
              "      <td>B081H6STQQ</td>\n",
              "      <td>4.5</td>\n",
              "    </tr>\n",
              "    <tr>\n",
              "      <th>67982</th>\n",
              "      <td>2cool4u</td>\n",
              "      <td>B081H6STQQ</td>\n",
              "      <td>4.5</td>\n",
              "    </tr>\n",
              "    <tr>\n",
              "      <th>67983</th>\n",
              "      <td>simon</td>\n",
              "      <td>B081H6STQQ</td>\n",
              "      <td>4.5</td>\n",
              "    </tr>\n",
              "    <tr>\n",
              "      <th>67984</th>\n",
              "      <td>Tobiasz Jedrysiak</td>\n",
              "      <td>B081TJFVCJ</td>\n",
              "      <td>5.0</td>\n",
              "    </tr>\n",
              "    <tr>\n",
              "      <th>67985</th>\n",
              "      <td>Owen Gonzalez</td>\n",
              "      <td>B0825BB7SG</td>\n",
              "      <td>5.0</td>\n",
              "    </tr>\n",
              "  </tbody>\n",
              "</table>\n",
              "<p>67986 rows × 3 columns</p>\n",
              "</div>"
            ],
            "text/plain": [
              "                    name        asin  rating\n",
              "0                  Janet  B0000SX2UC     3.0\n",
              "1             Luke Wyatt  B0000SX2UC     3.0\n",
              "2                 Brooke  B0000SX2UC     3.0\n",
              "3          amy m. teague  B0000SX2UC     3.0\n",
              "4          tristazbimmer  B0000SX2UC     3.0\n",
              "...                  ...         ...     ...\n",
              "67981              jande  B081H6STQQ     4.5\n",
              "67982            2cool4u  B081H6STQQ     4.5\n",
              "67983              simon  B081H6STQQ     4.5\n",
              "67984  Tobiasz Jedrysiak  B081TJFVCJ     5.0\n",
              "67985      Owen Gonzalez  B0825BB7SG     5.0\n",
              "\n",
              "[67986 rows x 3 columns]"
            ]
          },
          "metadata": {
            "tags": []
          },
          "execution_count": 223
        }
      ]
    },
    {
      "cell_type": "code",
      "metadata": {
        "id": "ihyDRoPpi8FR"
      },
      "source": [
        "electronics_groupby_users_Ratings = electronics_data.groupby('name')['rating']\n",
        "electronics_groupby_users_Ratings = pd.DataFrame(electronics_groupby_users_Ratings.count())"
      ],
      "execution_count": null,
      "outputs": []
    },
    {
      "cell_type": "code",
      "metadata": {
        "colab": {
          "base_uri": "https://localhost:8080/",
          "height": 423
        },
        "id": "nVVnCLeRkb4G",
        "outputId": "06ce1c65-0433-4cfb-9d62-a4012595bae6"
      },
      "source": [
        "user_list_min50_ratings = electronics_groupby_users_Ratings[electronics_groupby_users_Ratings['rating'] >= 50].index\n",
        "electronics_data =  electronics_data[electronics_data['name'].isin(user_list_min50_ratings)]\n",
        "electronics_data"
      ],
      "execution_count": null,
      "outputs": [
        {
          "output_type": "execute_result",
          "data": {
            "text/html": [
              "<div>\n",
              "<style scoped>\n",
              "    .dataframe tbody tr th:only-of-type {\n",
              "        vertical-align: middle;\n",
              "    }\n",
              "\n",
              "    .dataframe tbody tr th {\n",
              "        vertical-align: top;\n",
              "    }\n",
              "\n",
              "    .dataframe thead th {\n",
              "        text-align: right;\n",
              "    }\n",
              "</style>\n",
              "<table border=\"1\" class=\"dataframe\">\n",
              "  <thead>\n",
              "    <tr style=\"text-align: right;\">\n",
              "      <th></th>\n",
              "      <th>name</th>\n",
              "      <th>asin</th>\n",
              "      <th>rating</th>\n",
              "    </tr>\n",
              "  </thead>\n",
              "  <tbody>\n",
              "    <tr>\n",
              "      <th>9</th>\n",
              "      <td>Amazon Customer</td>\n",
              "      <td>B0000SX2UC</td>\n",
              "      <td>3.0</td>\n",
              "    </tr>\n",
              "    <tr>\n",
              "      <th>27</th>\n",
              "      <td>Amazon Customer</td>\n",
              "      <td>B000SKTZ0S</td>\n",
              "      <td>2.7</td>\n",
              "    </tr>\n",
              "    <tr>\n",
              "      <th>45</th>\n",
              "      <td>Amazon Customer</td>\n",
              "      <td>B001AO4OUC</td>\n",
              "      <td>3.3</td>\n",
              "    </tr>\n",
              "    <tr>\n",
              "      <th>64</th>\n",
              "      <td>Kindle Customer</td>\n",
              "      <td>B001DCJAJG</td>\n",
              "      <td>3.1</td>\n",
              "    </tr>\n",
              "    <tr>\n",
              "      <th>109</th>\n",
              "      <td>Amazon Customer</td>\n",
              "      <td>B002AS9WEA</td>\n",
              "      <td>2.9</td>\n",
              "    </tr>\n",
              "    <tr>\n",
              "      <th>...</th>\n",
              "      <td>...</td>\n",
              "      <td>...</td>\n",
              "      <td>...</td>\n",
              "    </tr>\n",
              "    <tr>\n",
              "      <th>67910</th>\n",
              "      <td>David</td>\n",
              "      <td>B07ZHPCJW3</td>\n",
              "      <td>3.2</td>\n",
              "    </tr>\n",
              "    <tr>\n",
              "      <th>67921</th>\n",
              "      <td>Amazon Customer</td>\n",
              "      <td>B07ZPKZSSC</td>\n",
              "      <td>1.0</td>\n",
              "    </tr>\n",
              "    <tr>\n",
              "      <th>67941</th>\n",
              "      <td>Amazon Customer</td>\n",
              "      <td>B081H6STQQ</td>\n",
              "      <td>4.5</td>\n",
              "    </tr>\n",
              "    <tr>\n",
              "      <th>67946</th>\n",
              "      <td>Amazon Customer</td>\n",
              "      <td>B081H6STQQ</td>\n",
              "      <td>4.5</td>\n",
              "    </tr>\n",
              "    <tr>\n",
              "      <th>67951</th>\n",
              "      <td>Amazon Customer</td>\n",
              "      <td>B081H6STQQ</td>\n",
              "      <td>4.5</td>\n",
              "    </tr>\n",
              "  </tbody>\n",
              "</table>\n",
              "<p>7503 rows × 3 columns</p>\n",
              "</div>"
            ],
            "text/plain": [
              "                  name        asin  rating\n",
              "9      Amazon Customer  B0000SX2UC     3.0\n",
              "27     Amazon Customer  B000SKTZ0S     2.7\n",
              "45     Amazon Customer  B001AO4OUC     3.3\n",
              "64     Kindle Customer  B001DCJAJG     3.1\n",
              "109    Amazon Customer  B002AS9WEA     2.9\n",
              "...                ...         ...     ...\n",
              "67910            David  B07ZHPCJW3     3.2\n",
              "67921  Amazon Customer  B07ZPKZSSC     1.0\n",
              "67941  Amazon Customer  B081H6STQQ     4.5\n",
              "67946  Amazon Customer  B081H6STQQ     4.5\n",
              "67951  Amazon Customer  B081H6STQQ     4.5\n",
              "\n",
              "[7503 rows x 3 columns]"
            ]
          },
          "metadata": {
            "tags": []
          },
          "execution_count": 225
        }
      ]
    },
    {
      "cell_type": "code",
      "metadata": {
        "colab": {
          "base_uri": "https://localhost:8080/"
        },
        "id": "fHRgKeeUkuSB",
        "outputId": "312a04e5-e02a-4705-cad8-91240f268d0a"
      },
      "source": [
        "print('The total number of rows :', electronics_data.shape[0])\n",
        "print('The total number of columns :', electronics_data.shape[1])"
      ],
      "execution_count": null,
      "outputs": [
        {
          "output_type": "stream",
          "text": [
            "The total number of rows : 7503\n",
            "The total number of columns : 3\n"
          ],
          "name": "stdout"
        }
      ]
    },
    {
      "cell_type": "code",
      "metadata": {
        "colab": {
          "base_uri": "https://localhost:8080/"
        },
        "id": "cVBqjg7WlDQ7",
        "outputId": "8b985601-8412-4e76-b4cb-012fedc7a281"
      },
      "source": [
        "electronics_data.info()"
      ],
      "execution_count": null,
      "outputs": [
        {
          "output_type": "stream",
          "text": [
            "<class 'pandas.core.frame.DataFrame'>\n",
            "Int64Index: 7503 entries, 9 to 67951\n",
            "Data columns (total 3 columns):\n",
            " #   Column  Non-Null Count  Dtype  \n",
            "---  ------  --------------  -----  \n",
            " 0   name    7503 non-null   object \n",
            " 1   asin    7503 non-null   object \n",
            " 2   rating  7503 non-null   float64\n",
            "dtypes: float64(1), object(2)\n",
            "memory usage: 234.5+ KB\n"
          ],
          "name": "stdout"
        }
      ]
    },
    {
      "cell_type": "code",
      "metadata": {
        "colab": {
          "base_uri": "https://localhost:8080/",
          "height": 133
        },
        "id": "6r0OxKDblJn3",
        "outputId": "55b4ba10-4fe0-40bb-a2a3-305b704b1d8e"
      },
      "source": [
        "display(electronics_data.isna().sum().sort_values())\n",
        "print('===================')\n",
        "printmd('**CONCLUSION**: As seen from the data above, we conclude there are **\"No Missing\"** values in the data', color=\"blue\")"
      ],
      "execution_count": null,
      "outputs": [
        {
          "output_type": "display_data",
          "data": {
            "text/plain": [
              "name      0\n",
              "asin      0\n",
              "rating    0\n",
              "dtype: int64"
            ]
          },
          "metadata": {
            "tags": []
          }
        },
        {
          "output_type": "stream",
          "text": [
            "===================\n"
          ],
          "name": "stdout"
        },
        {
          "output_type": "display_data",
          "data": {
            "text/markdown": "<span style='color:blue'>**CONCLUSION**: As seen from the data above, we conclude there are **\"No Missing\"** values in the data</span>",
            "text/plain": [
              "<IPython.core.display.Markdown object>"
            ]
          },
          "metadata": {
            "tags": []
          }
        }
      ]
    },
    {
      "cell_type": "code",
      "metadata": {
        "colab": {
          "base_uri": "https://localhost:8080/",
          "height": 81
        },
        "id": "4PGUSuDMlRH9",
        "outputId": "f4916cee-f386-4319-bb55-e970ff3f5024"
      },
      "source": [
        "display(electronics_data[['rating']].describe().transpose())"
      ],
      "execution_count": null,
      "outputs": [
        {
          "output_type": "display_data",
          "data": {
            "text/html": [
              "<div>\n",
              "<style scoped>\n",
              "    .dataframe tbody tr th:only-of-type {\n",
              "        vertical-align: middle;\n",
              "    }\n",
              "\n",
              "    .dataframe tbody tr th {\n",
              "        vertical-align: top;\n",
              "    }\n",
              "\n",
              "    .dataframe thead th {\n",
              "        text-align: right;\n",
              "    }\n",
              "</style>\n",
              "<table border=\"1\" class=\"dataframe\">\n",
              "  <thead>\n",
              "    <tr style=\"text-align: right;\">\n",
              "      <th></th>\n",
              "      <th>count</th>\n",
              "      <th>mean</th>\n",
              "      <th>std</th>\n",
              "      <th>min</th>\n",
              "      <th>25%</th>\n",
              "      <th>50%</th>\n",
              "      <th>75%</th>\n",
              "      <th>max</th>\n",
              "    </tr>\n",
              "  </thead>\n",
              "  <tbody>\n",
              "    <tr>\n",
              "      <th>rating</th>\n",
              "      <td>7503.0</td>\n",
              "      <td>3.731721</td>\n",
              "      <td>0.42714</td>\n",
              "      <td>1.0</td>\n",
              "      <td>3.5</td>\n",
              "      <td>3.8</td>\n",
              "      <td>4.0</td>\n",
              "      <td>5.0</td>\n",
              "    </tr>\n",
              "  </tbody>\n",
              "</table>\n",
              "</div>"
            ],
            "text/plain": [
              "         count      mean      std  min  25%  50%  75%  max\n",
              "rating  7503.0  3.731721  0.42714  1.0  3.5  3.8  4.0  5.0"
            ]
          },
          "metadata": {
            "tags": []
          }
        }
      ]
    },
    {
      "cell_type": "code",
      "metadata": {
        "colab": {
          "base_uri": "https://localhost:8080/"
        },
        "id": "oFQUUJaold3Y",
        "outputId": "9f4c7a16-372d-4108-dbf7-76c3d0c52628"
      },
      "source": [
        "print('Total unique users in the dataset', electronics_data['name'].nunique())\n",
        "print('Total unique products in the dataset', electronics_data['asin'].nunique())"
      ],
      "execution_count": null,
      "outputs": [
        {
          "output_type": "stream",
          "text": [
            "Total unique users in the dataset 11\n",
            "Total unique products in the dataset 546\n"
          ],
          "name": "stdout"
        }
      ]
    },
    {
      "cell_type": "code",
      "metadata": {
        "colab": {
          "base_uri": "https://localhost:8080/"
        },
        "id": "lI0BvWoFwp57",
        "outputId": "b5ff2c12-e7f0-4513-adc6-9e4b898895a1"
      },
      "source": [
        "!pip install surprise"
      ],
      "execution_count": null,
      "outputs": [
        {
          "output_type": "stream",
          "text": [
            "Requirement already satisfied: surprise in /usr/local/lib/python3.7/dist-packages (0.1)\n",
            "Requirement already satisfied: scikit-surprise in /usr/local/lib/python3.7/dist-packages (from surprise) (1.1.1)\n",
            "Requirement already satisfied: joblib>=0.11 in /usr/local/lib/python3.7/dist-packages (from scikit-surprise->surprise) (1.0.1)\n",
            "Requirement already satisfied: numpy>=1.11.2 in /usr/local/lib/python3.7/dist-packages (from scikit-surprise->surprise) (1.19.5)\n",
            "Requirement already satisfied: six>=1.10.0 in /usr/local/lib/python3.7/dist-packages (from scikit-surprise->surprise) (1.15.0)\n",
            "Requirement already satisfied: scipy>=1.0.0 in /usr/local/lib/python3.7/dist-packages (from scikit-surprise->surprise) (1.4.1)\n"
          ],
          "name": "stdout"
        }
      ]
    },
    {
      "cell_type": "code",
      "metadata": {
        "id": "mGpuVmFdmuRW"
      },
      "source": [
        "from surprise import accuracy\n",
        "from surprise.model_selection.validation import cross_validate\n",
        "from surprise.dataset import Dataset\n",
        "from surprise.reader import Reader\n",
        "from surprise import SVD\n",
        "from surprise import KNNBasic\n",
        "from surprise import KNNWithMeans\n",
        "reader = Reader()\n",
        "surprise_data = Dataset.load_from_df(electronics_data, reader)\n",
        "\n",
        "\n",
        "\n"
      ],
      "execution_count": null,
      "outputs": []
    },
    {
      "cell_type": "code",
      "metadata": {
        "id": "BBzUZwrPzD8n"
      },
      "source": [
        "from surprise.model_selection import train_test_split\n",
        "trainset, testset = train_test_split(surprise_data, test_size=.3, random_state=10)"
      ],
      "execution_count": null,
      "outputs": []
    },
    {
      "cell_type": "code",
      "metadata": {
        "id": "rtw8-aKjwlvg"
      },
      "source": [
        "from collections import defaultdict\n",
        "\n",
        "def get_top_n(predictions, n=10):\n",
        "    # First map the predictions to each user.\n",
        "    top_n = defaultdict(list)\n",
        "    for uid, iid, true_r, est, _ in predictions:\n",
        "        top_n[uid].append((iid, est))\n",
        "\n",
        "    # Then sort the predictions for each user and retrieve the k highest ones.\n",
        "    for uid, user_ratings in top_n.items():\n",
        "        user_ratings.sort(key=lambda x: x[1], reverse=True)\n",
        "        top_n[uid] = user_ratings[:n]\n",
        "\n",
        "    return top_n"
      ],
      "execution_count": null,
      "outputs": []
    },
    {
      "cell_type": "code",
      "metadata": {
        "id": "Ii9Kk9Y9xObS"
      },
      "source": [
        "class collab_filtering_based_recommender_model():\n",
        "    def __init__(self, model, trainset, testset, data):\n",
        "        self.model = model\n",
        "        self.trainset = trainset\n",
        "        self.testset = testset\n",
        "        self.data = data\n",
        "        self.pred_test = None\n",
        "        self.recommendations = None\n",
        "        self.top_n = None\n",
        "        self.recommenddf = None\n",
        "\n",
        "    def fit_and_predict(self):        \n",
        "        printmd('**Fitting the train data...**', color='brown')\n",
        "        self.model.fit(self.trainset)       \n",
        "\n",
        "        printmd('**Predicting the test data...**', color='brown')\n",
        "        self.pred_test = self.model.test(self.testset)        \n",
        "        rmse = round(accuracy.rmse(self.pred_test), 3)\n",
        "        printmd('**RMSE for the predicted result is ' + str(rmse) + '**', color='brown')   \n",
        "        \n",
        "        self.top_n = get_top_n(self.pred_test)\n",
        "        self.recommenddf = pd.DataFrame(columns=['userId', 'productId', 'Rating'])\n",
        "        for item in self.top_n:\n",
        "            subdf = pd.DataFrame(self.top_n[item], columns=['productId', 'Rating'])\n",
        "            subdf['userId'] = item\n",
        "            cols = subdf.columns.tolist()\n",
        "            cols = cols[-1:] + cols[:-1]\n",
        "            subdf = subdf[cols]        \n",
        "            self.recommenddf = pd.concat([self.recommenddf, subdf], axis = 0)        \n",
        "        return rmse\n",
        "        \n",
        "    def cross_validate(self):\n",
        "        printmd('**Cross Validating the data...**', color='brown')\n",
        "        cv_result = cross_validate(self.model, self.data, n_jobs=-1)\n",
        "        cv_result = round(cv_result['test_rmse'].mean(),3)\n",
        "        printmd('**Mean CV RMSE is ' + str(cv_result)  + '**', color='brown')\n",
        "        return cv_result\n",
        "\n",
        "    def recommend(self, user_id, n=5):\n",
        "        printmd('**Recommending top ' + str(n)+ ' products for userid : ' + user_id + ' ...**', color='brown')\n",
        "        \n",
        "        #df = pd.DataFrame(self.top_n[user_id], columns=['productId', 'Rating'])\n",
        "        #df['UserId'] = user_id\n",
        "        #cols = df.columns.tolist()\n",
        "        #cols = cols[-1:] + cols[:-1]\n",
        "        #df = df[cols].head(n)\n",
        "        df = self.recommenddf[self.recommenddf['userId'] == user_id].head(n)\n",
        "        display(df)\n",
        "        return df"
      ],
      "execution_count": null,
      "outputs": []
    },
    {
      "cell_type": "code",
      "metadata": {
        "id": "03W6Lp2mxZnr"
      },
      "source": [
        "from surprise.model_selection import RandomizedSearchCV\n",
        "\n",
        "def find_best_model(model, parameters,data):\n",
        "    clf = RandomizedSearchCV(model, parameters, n_jobs=-1, measures=['rmse'])\n",
        "    clf.fit(data)             \n",
        "    print(clf.best_score)\n",
        "    print(clf.best_params)\n",
        "    print(clf.best_estimator)\n",
        "    return clf"
      ],
      "execution_count": null,
      "outputs": []
    },
    {
      "cell_type": "code",
      "metadata": {
        "colab": {
          "base_uri": "https://localhost:8080/"
        },
        "id": "z00WyJ0lxeUU",
        "outputId": "b8c716e1-99a7-4455-e05f-fec4229d7cf1"
      },
      "source": [
        "sim_options = {\n",
        "    \"name\": [\"msd\", \"cosine\", \"pearson\", \"pearson_baseline\"],\n",
        "    \"min_support\": [3, 4, 5],\n",
        "    \"user_based\": [True],\n",
        "}\n",
        "params = { 'k': range(30,50,1), 'sim_options': sim_options}\n",
        "clf = find_best_model(KNNWithMeans, params, surprise_data)"
      ],
      "execution_count": null,
      "outputs": [
        {
          "output_type": "stream",
          "text": [
            "{'rmse': 0.11501978411099664}\n",
            "{'rmse': {'k': 41, 'sim_options': {'name': 'pearson_baseline', 'min_support': 4, 'user_based': True}}}\n",
            "{'rmse': <surprise.prediction_algorithms.knns.KNNWithMeans object at 0x7f1307ba4810>}\n"
          ],
          "name": "stdout"
        }
      ]
    },
    {
      "cell_type": "code",
      "metadata": {
        "id": "RJb3Z-n_xjps"
      },
      "source": [
        "knnwithmeans = clf.best_estimator['rmse']\n",
        "col_fil_knnwithmeans = collab_filtering_based_recommender_model(knnwithmeans, trainset, testset, surprise_data)"
      ],
      "execution_count": null,
      "outputs": []
    },
    {
      "cell_type": "code",
      "metadata": {
        "colab": {
          "base_uri": "https://localhost:8080/",
          "height": 175
        },
        "id": "lGFktmvnylzC",
        "outputId": "b9e82e8b-80e2-4f98-a1bf-608e35240665"
      },
      "source": [
        "knnwithmeans_rmse = col_fil_knnwithmeans.fit_and_predict()"
      ],
      "execution_count": null,
      "outputs": [
        {
          "output_type": "display_data",
          "data": {
            "text/markdown": "<span style='color:brown'>**Fitting the train data...**</span>",
            "text/plain": [
              "<IPython.core.display.Markdown object>"
            ]
          },
          "metadata": {
            "tags": []
          }
        },
        {
          "output_type": "stream",
          "text": [
            "Estimating biases using als...\n",
            "Computing the pearson_baseline similarity matrix...\n",
            "Done computing similarity matrix.\n"
          ],
          "name": "stdout"
        },
        {
          "output_type": "display_data",
          "data": {
            "text/markdown": "<span style='color:brown'>**Predicting the test data...**</span>",
            "text/plain": [
              "<IPython.core.display.Markdown object>"
            ]
          },
          "metadata": {
            "tags": []
          }
        },
        {
          "output_type": "stream",
          "text": [
            "RMSE: 0.0863\n"
          ],
          "name": "stdout"
        },
        {
          "output_type": "display_data",
          "data": {
            "text/markdown": "<span style='color:brown'>**RMSE for the predicted result is 0.086**</span>",
            "text/plain": [
              "<IPython.core.display.Markdown object>"
            ]
          },
          "metadata": {
            "tags": []
          }
        }
      ]
    },
    {
      "cell_type": "code",
      "metadata": {
        "colab": {
          "base_uri": "https://localhost:8080/",
          "height": 70
        },
        "id": "Iwj-fVwxzV8A",
        "outputId": "3ca6277e-2b13-4399-b77b-4268b2c6db1d"
      },
      "source": [
        "knnwithmeans_cv_rmse = col_fil_knnwithmeans.cross_validate()"
      ],
      "execution_count": null,
      "outputs": [
        {
          "output_type": "display_data",
          "data": {
            "text/markdown": "<span style='color:brown'>**Cross Validating the data...**</span>",
            "text/plain": [
              "<IPython.core.display.Markdown object>"
            ]
          },
          "metadata": {
            "tags": []
          }
        },
        {
          "output_type": "display_data",
          "data": {
            "text/markdown": "<span style='color:brown'>**Mean CV RMSE is 0.112**</span>",
            "text/plain": [
              "<IPython.core.display.Markdown object>"
            ]
          },
          "metadata": {
            "tags": []
          }
        }
      ]
    },
    {
      "cell_type": "code",
      "metadata": {
        "colab": {
          "base_uri": "https://localhost:8080/",
          "height": 672
        },
        "id": "2PXJUeNezfP1",
        "outputId": "3005929a-48c7-40d9-aab5-dfa2fc142c0f"
      },
      "source": [
        "result_knn_user1 = col_fil_knnwithmeans.recommend(user_id='Amazon Customer', n=5)\n",
        "result_knn_user2 = col_fil_knnwithmeans.recommend(user_id='Kindle Customer', n=5)\n",
        "result_knn_user3 = col_fil_knnwithmeans.recommend(user_id='David', n=5)"
      ],
      "execution_count": null,
      "outputs": [
        {
          "output_type": "display_data",
          "data": {
            "text/markdown": "<span style='color:brown'>**Recommending top 5 products for userid : Amazon Customer ...**</span>",
            "text/plain": [
              "<IPython.core.display.Markdown object>"
            ]
          },
          "metadata": {
            "tags": []
          }
        },
        {
          "output_type": "display_data",
          "data": {
            "text/html": [
              "<div>\n",
              "<style scoped>\n",
              "    .dataframe tbody tr th:only-of-type {\n",
              "        vertical-align: middle;\n",
              "    }\n",
              "\n",
              "    .dataframe tbody tr th {\n",
              "        vertical-align: top;\n",
              "    }\n",
              "\n",
              "    .dataframe thead th {\n",
              "        text-align: right;\n",
              "    }\n",
              "</style>\n",
              "<table border=\"1\" class=\"dataframe\">\n",
              "  <thead>\n",
              "    <tr style=\"text-align: right;\">\n",
              "      <th></th>\n",
              "      <th>userId</th>\n",
              "      <th>productId</th>\n",
              "      <th>Rating</th>\n",
              "    </tr>\n",
              "  </thead>\n",
              "  <tbody>\n",
              "    <tr>\n",
              "      <th>0</th>\n",
              "      <td>Amazon Customer</td>\n",
              "      <td>B07R5ZYR77</td>\n",
              "      <td>4.7</td>\n",
              "    </tr>\n",
              "    <tr>\n",
              "      <th>1</th>\n",
              "      <td>Amazon Customer</td>\n",
              "      <td>B07R5ZYR77</td>\n",
              "      <td>4.7</td>\n",
              "    </tr>\n",
              "    <tr>\n",
              "      <th>2</th>\n",
              "      <td>Amazon Customer</td>\n",
              "      <td>B07V5NSD8N</td>\n",
              "      <td>4.7</td>\n",
              "    </tr>\n",
              "    <tr>\n",
              "      <th>3</th>\n",
              "      <td>Amazon Customer</td>\n",
              "      <td>B07K1M36CM</td>\n",
              "      <td>4.6</td>\n",
              "    </tr>\n",
              "    <tr>\n",
              "      <th>4</th>\n",
              "      <td>Amazon Customer</td>\n",
              "      <td>B07YQ58NPF</td>\n",
              "      <td>4.6</td>\n",
              "    </tr>\n",
              "  </tbody>\n",
              "</table>\n",
              "</div>"
            ],
            "text/plain": [
              "            userId   productId  Rating\n",
              "0  Amazon Customer  B07R5ZYR77     4.7\n",
              "1  Amazon Customer  B07R5ZYR77     4.7\n",
              "2  Amazon Customer  B07V5NSD8N     4.7\n",
              "3  Amazon Customer  B07K1M36CM     4.6\n",
              "4  Amazon Customer  B07YQ58NPF     4.6"
            ]
          },
          "metadata": {
            "tags": []
          }
        },
        {
          "output_type": "display_data",
          "data": {
            "text/markdown": "<span style='color:brown'>**Recommending top 5 products for userid : Kindle Customer ...**</span>",
            "text/plain": [
              "<IPython.core.display.Markdown object>"
            ]
          },
          "metadata": {
            "tags": []
          }
        },
        {
          "output_type": "display_data",
          "data": {
            "text/html": [
              "<div>\n",
              "<style scoped>\n",
              "    .dataframe tbody tr th:only-of-type {\n",
              "        vertical-align: middle;\n",
              "    }\n",
              "\n",
              "    .dataframe tbody tr th {\n",
              "        vertical-align: top;\n",
              "    }\n",
              "\n",
              "    .dataframe thead th {\n",
              "        text-align: right;\n",
              "    }\n",
              "</style>\n",
              "<table border=\"1\" class=\"dataframe\">\n",
              "  <thead>\n",
              "    <tr style=\"text-align: right;\">\n",
              "      <th></th>\n",
              "      <th>userId</th>\n",
              "      <th>productId</th>\n",
              "      <th>Rating</th>\n",
              "    </tr>\n",
              "  </thead>\n",
              "  <tbody>\n",
              "    <tr>\n",
              "      <th>0</th>\n",
              "      <td>Kindle Customer</td>\n",
              "      <td>B07YQ58NPF</td>\n",
              "      <td>4.566319</td>\n",
              "    </tr>\n",
              "    <tr>\n",
              "      <th>1</th>\n",
              "      <td>Kindle Customer</td>\n",
              "      <td>B07Q26V49K</td>\n",
              "      <td>4.467010</td>\n",
              "    </tr>\n",
              "    <tr>\n",
              "      <th>2</th>\n",
              "      <td>Kindle Customer</td>\n",
              "      <td>B07Q26V49K</td>\n",
              "      <td>4.467010</td>\n",
              "    </tr>\n",
              "    <tr>\n",
              "      <th>3</th>\n",
              "      <td>Kindle Customer</td>\n",
              "      <td>B07K3X5JTP</td>\n",
              "      <td>4.466319</td>\n",
              "    </tr>\n",
              "    <tr>\n",
              "      <th>4</th>\n",
              "      <td>Kindle Customer</td>\n",
              "      <td>B07C6FCC8G</td>\n",
              "      <td>4.366266</td>\n",
              "    </tr>\n",
              "  </tbody>\n",
              "</table>\n",
              "</div>"
            ],
            "text/plain": [
              "            userId   productId    Rating\n",
              "0  Kindle Customer  B07YQ58NPF  4.566319\n",
              "1  Kindle Customer  B07Q26V49K  4.467010\n",
              "2  Kindle Customer  B07Q26V49K  4.467010\n",
              "3  Kindle Customer  B07K3X5JTP  4.466319\n",
              "4  Kindle Customer  B07C6FCC8G  4.366266"
            ]
          },
          "metadata": {
            "tags": []
          }
        },
        {
          "output_type": "display_data",
          "data": {
            "text/markdown": "<span style='color:brown'>**Recommending top 5 products for userid : David ...**</span>",
            "text/plain": [
              "<IPython.core.display.Markdown object>"
            ]
          },
          "metadata": {
            "tags": []
          }
        },
        {
          "output_type": "display_data",
          "data": {
            "text/html": [
              "<div>\n",
              "<style scoped>\n",
              "    .dataframe tbody tr th:only-of-type {\n",
              "        vertical-align: middle;\n",
              "    }\n",
              "\n",
              "    .dataframe tbody tr th {\n",
              "        vertical-align: top;\n",
              "    }\n",
              "\n",
              "    .dataframe thead th {\n",
              "        text-align: right;\n",
              "    }\n",
              "</style>\n",
              "<table border=\"1\" class=\"dataframe\">\n",
              "  <thead>\n",
              "    <tr style=\"text-align: right;\">\n",
              "      <th></th>\n",
              "      <th>userId</th>\n",
              "      <th>productId</th>\n",
              "      <th>Rating</th>\n",
              "    </tr>\n",
              "  </thead>\n",
              "  <tbody>\n",
              "    <tr>\n",
              "      <th>0</th>\n",
              "      <td>David</td>\n",
              "      <td>B07JNKYBZ4</td>\n",
              "      <td>4.530803</td>\n",
              "    </tr>\n",
              "    <tr>\n",
              "      <th>1</th>\n",
              "      <td>David</td>\n",
              "      <td>B07QCXPP71</td>\n",
              "      <td>4.527634</td>\n",
              "    </tr>\n",
              "    <tr>\n",
              "      <th>2</th>\n",
              "      <td>David</td>\n",
              "      <td>B07VZL3L5V</td>\n",
              "      <td>4.428592</td>\n",
              "    </tr>\n",
              "    <tr>\n",
              "      <th>3</th>\n",
              "      <td>David</td>\n",
              "      <td>B07NZX5BKH</td>\n",
              "      <td>4.326601</td>\n",
              "    </tr>\n",
              "    <tr>\n",
              "      <th>4</th>\n",
              "      <td>David</td>\n",
              "      <td>B07455VT9F</td>\n",
              "      <td>4.227634</td>\n",
              "    </tr>\n",
              "  </tbody>\n",
              "</table>\n",
              "</div>"
            ],
            "text/plain": [
              "  userId   productId    Rating\n",
              "0  David  B07JNKYBZ4  4.530803\n",
              "1  David  B07QCXPP71  4.527634\n",
              "2  David  B07VZL3L5V  4.428592\n",
              "3  David  B07NZX5BKH  4.326601\n",
              "4  David  B07455VT9F  4.227634"
            ]
          },
          "metadata": {
            "tags": []
          }
        }
      ]
    },
    {
      "cell_type": "code",
      "metadata": {
        "colab": {
          "base_uri": "https://localhost:8080/"
        },
        "id": "TN_lnSonzuPi",
        "outputId": "fb497290-bdae-41fd-ab30-9223f3842564"
      },
      "source": [
        "params= {\n",
        "    \"n_epochs\": [5, 10, 15, 20],\n",
        "    \"lr_all\": [0.002, 0.005],\n",
        "    \"reg_all\": [0.4, 0.6]\n",
        "}\n",
        "clf = find_best_model(SVD, params, surprise_data)"
      ],
      "execution_count": null,
      "outputs": [
        {
          "output_type": "stream",
          "text": [
            "{'rmse': 0.21647588165489928}\n",
            "{'rmse': {'n_epochs': 20, 'lr_all': 0.005, 'reg_all': 0.4}}\n",
            "{'rmse': <surprise.prediction_algorithms.matrix_factorization.SVD object at 0x7f130a3e1890>}\n"
          ],
          "name": "stdout"
        }
      ]
    },
    {
      "cell_type": "code",
      "metadata": {
        "id": "PXktFdu84yGl"
      },
      "source": [
        "svd = clf.best_estimator['rmse']\n",
        "col_fil_svd = collab_filtering_based_recommender_model(svd, trainset, testset, surprise_data)"
      ],
      "execution_count": null,
      "outputs": []
    },
    {
      "cell_type": "code",
      "metadata": {
        "colab": {
          "base_uri": "https://localhost:8080/",
          "height": 117
        },
        "id": "IiNGLbEG431p",
        "outputId": "bc40537a-3b14-4355-a5a0-2e1d6642eeec"
      },
      "source": [
        "svd_rmse = col_fil_svd.fit_and_predict()"
      ],
      "execution_count": null,
      "outputs": [
        {
          "output_type": "display_data",
          "data": {
            "text/markdown": "<span style='color:brown'>**Fitting the train data...**</span>",
            "text/plain": [
              "<IPython.core.display.Markdown object>"
            ]
          },
          "metadata": {
            "tags": []
          }
        },
        {
          "output_type": "display_data",
          "data": {
            "text/markdown": "<span style='color:brown'>**Predicting the test data...**</span>",
            "text/plain": [
              "<IPython.core.display.Markdown object>"
            ]
          },
          "metadata": {
            "tags": []
          }
        },
        {
          "output_type": "stream",
          "text": [
            "RMSE: 0.2135\n"
          ],
          "name": "stdout"
        },
        {
          "output_type": "display_data",
          "data": {
            "text/markdown": "<span style='color:brown'>**RMSE for the predicted result is 0.214**</span>",
            "text/plain": [
              "<IPython.core.display.Markdown object>"
            ]
          },
          "metadata": {
            "tags": []
          }
        }
      ]
    },
    {
      "cell_type": "code",
      "metadata": {
        "colab": {
          "base_uri": "https://localhost:8080/",
          "height": 70
        },
        "id": "SJc5jD0E46UH",
        "outputId": "1cd36af1-5216-41d2-994e-ffb7c96c34f2"
      },
      "source": [
        "svd_cv_rmse = col_fil_svd.cross_validate()"
      ],
      "execution_count": null,
      "outputs": [
        {
          "output_type": "display_data",
          "data": {
            "text/markdown": "<span style='color:brown'>**Cross Validating the data...**</span>",
            "text/plain": [
              "<IPython.core.display.Markdown object>"
            ]
          },
          "metadata": {
            "tags": []
          }
        },
        {
          "output_type": "display_data",
          "data": {
            "text/markdown": "<span style='color:brown'>**Mean CV RMSE is 0.217**</span>",
            "text/plain": [
              "<IPython.core.display.Markdown object>"
            ]
          },
          "metadata": {
            "tags": []
          }
        }
      ]
    },
    {
      "cell_type": "code",
      "metadata": {
        "colab": {
          "base_uri": "https://localhost:8080/",
          "height": 672
        },
        "id": "csJrUAZL482A",
        "outputId": "da80b654-df8b-4938-a76a-6f2a1c799f22"
      },
      "source": [
        "result_svd_user1 = col_fil_svd.recommend(user_id='Amazon Customer', n=5)\n",
        "result_svd_user2 = col_fil_svd.recommend(user_id='Kindle Customer', n=5)\n",
        "result_svd_user3 = col_fil_svd.recommend(user_id='David', n=5)"
      ],
      "execution_count": null,
      "outputs": [
        {
          "output_type": "display_data",
          "data": {
            "text/markdown": "<span style='color:brown'>**Recommending top 5 products for userid : Amazon Customer ...**</span>",
            "text/plain": [
              "<IPython.core.display.Markdown object>"
            ]
          },
          "metadata": {
            "tags": []
          }
        },
        {
          "output_type": "display_data",
          "data": {
            "text/html": [
              "<div>\n",
              "<style scoped>\n",
              "    .dataframe tbody tr th:only-of-type {\n",
              "        vertical-align: middle;\n",
              "    }\n",
              "\n",
              "    .dataframe tbody tr th {\n",
              "        vertical-align: top;\n",
              "    }\n",
              "\n",
              "    .dataframe thead th {\n",
              "        text-align: right;\n",
              "    }\n",
              "</style>\n",
              "<table border=\"1\" class=\"dataframe\">\n",
              "  <thead>\n",
              "    <tr style=\"text-align: right;\">\n",
              "      <th></th>\n",
              "      <th>userId</th>\n",
              "      <th>productId</th>\n",
              "      <th>Rating</th>\n",
              "    </tr>\n",
              "  </thead>\n",
              "  <tbody>\n",
              "    <tr>\n",
              "      <th>0</th>\n",
              "      <td>Amazon Customer</td>\n",
              "      <td>B07Q26V49K</td>\n",
              "      <td>4.252284</td>\n",
              "    </tr>\n",
              "    <tr>\n",
              "      <th>1</th>\n",
              "      <td>Amazon Customer</td>\n",
              "      <td>B07Q26V49K</td>\n",
              "      <td>4.252284</td>\n",
              "    </tr>\n",
              "    <tr>\n",
              "      <th>2</th>\n",
              "      <td>Amazon Customer</td>\n",
              "      <td>B07Q26V49K</td>\n",
              "      <td>4.252284</td>\n",
              "    </tr>\n",
              "    <tr>\n",
              "      <th>3</th>\n",
              "      <td>Amazon Customer</td>\n",
              "      <td>B07Q26V49K</td>\n",
              "      <td>4.252284</td>\n",
              "    </tr>\n",
              "    <tr>\n",
              "      <th>4</th>\n",
              "      <td>Amazon Customer</td>\n",
              "      <td>B07Q26V49K</td>\n",
              "      <td>4.252284</td>\n",
              "    </tr>\n",
              "  </tbody>\n",
              "</table>\n",
              "</div>"
            ],
            "text/plain": [
              "            userId   productId    Rating\n",
              "0  Amazon Customer  B07Q26V49K  4.252284\n",
              "1  Amazon Customer  B07Q26V49K  4.252284\n",
              "2  Amazon Customer  B07Q26V49K  4.252284\n",
              "3  Amazon Customer  B07Q26V49K  4.252284\n",
              "4  Amazon Customer  B07Q26V49K  4.252284"
            ]
          },
          "metadata": {
            "tags": []
          }
        },
        {
          "output_type": "display_data",
          "data": {
            "text/markdown": "<span style='color:brown'>**Recommending top 5 products for userid : Kindle Customer ...**</span>",
            "text/plain": [
              "<IPython.core.display.Markdown object>"
            ]
          },
          "metadata": {
            "tags": []
          }
        },
        {
          "output_type": "display_data",
          "data": {
            "text/html": [
              "<div>\n",
              "<style scoped>\n",
              "    .dataframe tbody tr th:only-of-type {\n",
              "        vertical-align: middle;\n",
              "    }\n",
              "\n",
              "    .dataframe tbody tr th {\n",
              "        vertical-align: top;\n",
              "    }\n",
              "\n",
              "    .dataframe thead th {\n",
              "        text-align: right;\n",
              "    }\n",
              "</style>\n",
              "<table border=\"1\" class=\"dataframe\">\n",
              "  <thead>\n",
              "    <tr style=\"text-align: right;\">\n",
              "      <th></th>\n",
              "      <th>userId</th>\n",
              "      <th>productId</th>\n",
              "      <th>Rating</th>\n",
              "    </tr>\n",
              "  </thead>\n",
              "  <tbody>\n",
              "    <tr>\n",
              "      <th>0</th>\n",
              "      <td>Kindle Customer</td>\n",
              "      <td>B07Q26V49K</td>\n",
              "      <td>4.232537</td>\n",
              "    </tr>\n",
              "    <tr>\n",
              "      <th>1</th>\n",
              "      <td>Kindle Customer</td>\n",
              "      <td>B07Q26V49K</td>\n",
              "      <td>4.232537</td>\n",
              "    </tr>\n",
              "    <tr>\n",
              "      <th>2</th>\n",
              "      <td>Kindle Customer</td>\n",
              "      <td>B07C6FCC8G</td>\n",
              "      <td>4.182807</td>\n",
              "    </tr>\n",
              "    <tr>\n",
              "      <th>3</th>\n",
              "      <td>Kindle Customer</td>\n",
              "      <td>B07RWFC6NY</td>\n",
              "      <td>4.148102</td>\n",
              "    </tr>\n",
              "    <tr>\n",
              "      <th>4</th>\n",
              "      <td>Kindle Customer</td>\n",
              "      <td>B07V5KS95Y</td>\n",
              "      <td>4.070741</td>\n",
              "    </tr>\n",
              "  </tbody>\n",
              "</table>\n",
              "</div>"
            ],
            "text/plain": [
              "            userId   productId    Rating\n",
              "0  Kindle Customer  B07Q26V49K  4.232537\n",
              "1  Kindle Customer  B07Q26V49K  4.232537\n",
              "2  Kindle Customer  B07C6FCC8G  4.182807\n",
              "3  Kindle Customer  B07RWFC6NY  4.148102\n",
              "4  Kindle Customer  B07V5KS95Y  4.070741"
            ]
          },
          "metadata": {
            "tags": []
          }
        },
        {
          "output_type": "display_data",
          "data": {
            "text/markdown": "<span style='color:brown'>**Recommending top 5 products for userid : David ...**</span>",
            "text/plain": [
              "<IPython.core.display.Markdown object>"
            ]
          },
          "metadata": {
            "tags": []
          }
        },
        {
          "output_type": "display_data",
          "data": {
            "text/html": [
              "<div>\n",
              "<style scoped>\n",
              "    .dataframe tbody tr th:only-of-type {\n",
              "        vertical-align: middle;\n",
              "    }\n",
              "\n",
              "    .dataframe tbody tr th {\n",
              "        vertical-align: top;\n",
              "    }\n",
              "\n",
              "    .dataframe thead th {\n",
              "        text-align: right;\n",
              "    }\n",
              "</style>\n",
              "<table border=\"1\" class=\"dataframe\">\n",
              "  <thead>\n",
              "    <tr style=\"text-align: right;\">\n",
              "      <th></th>\n",
              "      <th>userId</th>\n",
              "      <th>productId</th>\n",
              "      <th>Rating</th>\n",
              "    </tr>\n",
              "  </thead>\n",
              "  <tbody>\n",
              "    <tr>\n",
              "      <th>0</th>\n",
              "      <td>David</td>\n",
              "      <td>B07VZL3L5V</td>\n",
              "      <td>4.199521</td>\n",
              "    </tr>\n",
              "    <tr>\n",
              "      <th>1</th>\n",
              "      <td>David</td>\n",
              "      <td>B07NZX5BKH</td>\n",
              "      <td>3.989627</td>\n",
              "    </tr>\n",
              "    <tr>\n",
              "      <th>2</th>\n",
              "      <td>David</td>\n",
              "      <td>B07JNKYBZ4</td>\n",
              "      <td>3.950359</td>\n",
              "    </tr>\n",
              "    <tr>\n",
              "      <th>3</th>\n",
              "      <td>David</td>\n",
              "      <td>B07QCXPP71</td>\n",
              "      <td>3.949593</td>\n",
              "    </tr>\n",
              "    <tr>\n",
              "      <th>4</th>\n",
              "      <td>David</td>\n",
              "      <td>B07QK32C8M</td>\n",
              "      <td>3.943245</td>\n",
              "    </tr>\n",
              "  </tbody>\n",
              "</table>\n",
              "</div>"
            ],
            "text/plain": [
              "  userId   productId    Rating\n",
              "0  David  B07VZL3L5V  4.199521\n",
              "1  David  B07NZX5BKH  3.989627\n",
              "2  David  B07JNKYBZ4  3.950359\n",
              "3  David  B07QCXPP71  3.949593\n",
              "4  David  B07QK32C8M  3.943245"
            ]
          },
          "metadata": {
            "tags": []
          }
        }
      ]
    },
    {
      "cell_type": "code",
      "metadata": {
        "id": "sClDZLNW5Ssn"
      },
      "source": [
        ""
      ],
      "execution_count": null,
      "outputs": []
    }
  ]
}