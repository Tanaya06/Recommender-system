{
  "nbformat": 4,
  "nbformat_minor": 0,
  "metadata": {
    "colab": {
      "name": "Content_Based.ipynb",
      "provenance": [],
      "collapsed_sections": []
    },
    "kernelspec": {
      "name": "python3",
      "display_name": "Python 3"
    },
    "language_info": {
      "name": "python"
    }
  },
  "cells": [
    {
      "cell_type": "code",
      "metadata": {
        "colab": {
          "base_uri": "https://localhost:8080/"
        },
        "id": "Yqp9qKPaZHbh",
        "outputId": "9a735d51-35de-4366-cb60-fcc3e0211b6c"
      },
      "source": [
        "import numpy as np # linear algebra\n",
        "import pandas as pd # data processing, CSV file I/O (e.g. pd.read_csv)\n",
        "import os\n",
        "from IPython.core.interactiveshell import InteractiveShell\n",
        "InteractiveShell.ast_node_interactivity = \"all\"\n",
        "import math\n",
        "import json\n",
        "import time\n",
        "import matplotlib.pyplot as plt\n",
        "import seaborn as sns\n",
        "from sklearn.metrics.pairwise import cosine_similarity\n",
        "from sklearn.model_selection import train_test_split\n",
        "from sklearn.neighbors import NearestNeighbors\n",
        "from sklearn.externals import joblib\n",
        "import scipy.sparse\n",
        "from scipy.sparse import csr_matrix\n",
        "from scipy.sparse.linalg import svds\n",
        "import warnings; warnings.simplefilter('ignore')\n",
        "%matplotlib inline"
      ],
      "execution_count": null,
      "outputs": [
        {
          "output_type": "stream",
          "text": [
            "/usr/local/lib/python3.7/dist-packages/sklearn/externals/joblib/__init__.py:15: FutureWarning: sklearn.externals.joblib is deprecated in 0.21 and will be removed in 0.23. Please import this functionality directly from joblib, which can be installed with: pip install joblib. If this warning is raised when loading pickled models, you may need to re-serialize those models with scikit-learn 0.21+.\n",
            "  warnings.warn(msg, category=FutureWarning)\n"
          ],
          "name": "stderr"
        }
      ]
    },
    {
      "cell_type": "code",
      "metadata": {
        "colab": {
          "base_uri": "https://localhost:8080/"
        },
        "id": "zyVv7t7cWeUj",
        "outputId": "e93a3a6d-d135-4e02-c99e-69c9287b2997"
      },
      "source": [
        "from google.colab import drive\n",
        "drive.mount('/content/drive')"
      ],
      "execution_count": null,
      "outputs": [
        {
          "output_type": "stream",
          "text": [
            "Mounted at /content/drive\n"
          ],
          "name": "stdout"
        }
      ]
    },
    {
      "cell_type": "code",
      "metadata": {
        "id": "DsDqSPSaZ9sQ"
      },
      "source": [
        "electronics_data = pd.read_csv('/content/drive/MyDrive/Revolutinaries/20191226-items.csv')\n",
        "reviews = pd.read_csv('/content/drive/MyDrive/Revolutinaries/20191226-reviews.csv')\n",
        "reviews = reviews.drop('rating',1)\n",
        "reviews = reviews.drop('title',1)\n",
        "electronics_data = pd.merge(electronics_data,reviews,on='asin')\n",
        "electronics_data = electronics_data.drop('totalReviews',1) "
      ],
      "execution_count": null,
      "outputs": []
    },
    {
      "cell_type": "code",
      "metadata": {
        "colab": {
          "base_uri": "https://localhost:8080/",
          "height": 903
        },
        "id": "AiS5JOWgas6q",
        "outputId": "b728862b-2795-4a56-a93f-31040f4df992"
      },
      "source": [
        "electronics_data.head()"
      ],
      "execution_count": null,
      "outputs": [
        {
          "output_type": "execute_result",
          "data": {
            "text/html": [
              "<div>\n",
              "<style scoped>\n",
              "    .dataframe tbody tr th:only-of-type {\n",
              "        vertical-align: middle;\n",
              "    }\n",
              "\n",
              "    .dataframe tbody tr th {\n",
              "        vertical-align: top;\n",
              "    }\n",
              "\n",
              "    .dataframe thead th {\n",
              "        text-align: right;\n",
              "    }\n",
              "</style>\n",
              "<table border=\"1\" class=\"dataframe\">\n",
              "  <thead>\n",
              "    <tr style=\"text-align: right;\">\n",
              "      <th></th>\n",
              "      <th>asin</th>\n",
              "      <th>brand</th>\n",
              "      <th>title</th>\n",
              "      <th>url</th>\n",
              "      <th>image</th>\n",
              "      <th>rating</th>\n",
              "      <th>reviewUrl</th>\n",
              "      <th>price</th>\n",
              "      <th>originalPrice</th>\n",
              "      <th>name</th>\n",
              "      <th>date</th>\n",
              "      <th>verified</th>\n",
              "      <th>body</th>\n",
              "      <th>helpfulVotes</th>\n",
              "    </tr>\n",
              "  </thead>\n",
              "  <tbody>\n",
              "    <tr>\n",
              "      <th>0</th>\n",
              "      <td>B0000SX2UC</td>\n",
              "      <td>NaN</td>\n",
              "      <td>Dual-Band / Tri-Mode Sprint PCS Phone w/ Voice...</td>\n",
              "      <td>https://www.amazon.com/Dual-Band-Tri-Mode-Acti...</td>\n",
              "      <td>https://m.media-amazon.com/images/I/2143EBQ210...</td>\n",
              "      <td>3.0</td>\n",
              "      <td>https://www.amazon.com/product-reviews/B0000SX2UC</td>\n",
              "      <td>0.0</td>\n",
              "      <td>0.0</td>\n",
              "      <td>Janet</td>\n",
              "      <td>October 11, 2005</td>\n",
              "      <td>False</td>\n",
              "      <td>I had the Samsung A600 for awhile which is abs...</td>\n",
              "      <td>1.0</td>\n",
              "    </tr>\n",
              "    <tr>\n",
              "      <th>1</th>\n",
              "      <td>B0000SX2UC</td>\n",
              "      <td>NaN</td>\n",
              "      <td>Dual-Band / Tri-Mode Sprint PCS Phone w/ Voice...</td>\n",
              "      <td>https://www.amazon.com/Dual-Band-Tri-Mode-Acti...</td>\n",
              "      <td>https://m.media-amazon.com/images/I/2143EBQ210...</td>\n",
              "      <td>3.0</td>\n",
              "      <td>https://www.amazon.com/product-reviews/B0000SX2UC</td>\n",
              "      <td>0.0</td>\n",
              "      <td>0.0</td>\n",
              "      <td>Luke Wyatt</td>\n",
              "      <td>January 7, 2004</td>\n",
              "      <td>False</td>\n",
              "      <td>Due to a software issue between Nokia and Spri...</td>\n",
              "      <td>17.0</td>\n",
              "    </tr>\n",
              "    <tr>\n",
              "      <th>2</th>\n",
              "      <td>B0000SX2UC</td>\n",
              "      <td>NaN</td>\n",
              "      <td>Dual-Band / Tri-Mode Sprint PCS Phone w/ Voice...</td>\n",
              "      <td>https://www.amazon.com/Dual-Band-Tri-Mode-Acti...</td>\n",
              "      <td>https://m.media-amazon.com/images/I/2143EBQ210...</td>\n",
              "      <td>3.0</td>\n",
              "      <td>https://www.amazon.com/product-reviews/B0000SX2UC</td>\n",
              "      <td>0.0</td>\n",
              "      <td>0.0</td>\n",
              "      <td>Brooke</td>\n",
              "      <td>December 30, 2003</td>\n",
              "      <td>False</td>\n",
              "      <td>This is a great, reliable phone. I also purcha...</td>\n",
              "      <td>5.0</td>\n",
              "    </tr>\n",
              "    <tr>\n",
              "      <th>3</th>\n",
              "      <td>B0000SX2UC</td>\n",
              "      <td>NaN</td>\n",
              "      <td>Dual-Band / Tri-Mode Sprint PCS Phone w/ Voice...</td>\n",
              "      <td>https://www.amazon.com/Dual-Band-Tri-Mode-Acti...</td>\n",
              "      <td>https://m.media-amazon.com/images/I/2143EBQ210...</td>\n",
              "      <td>3.0</td>\n",
              "      <td>https://www.amazon.com/product-reviews/B0000SX2UC</td>\n",
              "      <td>0.0</td>\n",
              "      <td>0.0</td>\n",
              "      <td>amy m. teague</td>\n",
              "      <td>March 18, 2004</td>\n",
              "      <td>False</td>\n",
              "      <td>I love the phone and all, because I really did...</td>\n",
              "      <td>1.0</td>\n",
              "    </tr>\n",
              "    <tr>\n",
              "      <th>4</th>\n",
              "      <td>B0000SX2UC</td>\n",
              "      <td>NaN</td>\n",
              "      <td>Dual-Band / Tri-Mode Sprint PCS Phone w/ Voice...</td>\n",
              "      <td>https://www.amazon.com/Dual-Band-Tri-Mode-Acti...</td>\n",
              "      <td>https://m.media-amazon.com/images/I/2143EBQ210...</td>\n",
              "      <td>3.0</td>\n",
              "      <td>https://www.amazon.com/product-reviews/B0000SX2UC</td>\n",
              "      <td>0.0</td>\n",
              "      <td>0.0</td>\n",
              "      <td>tristazbimmer</td>\n",
              "      <td>August 28, 2005</td>\n",
              "      <td>False</td>\n",
              "      <td>The phone has been great for every purpose it ...</td>\n",
              "      <td>1.0</td>\n",
              "    </tr>\n",
              "  </tbody>\n",
              "</table>\n",
              "</div>"
            ],
            "text/plain": [
              "         asin  ... helpfulVotes\n",
              "0  B0000SX2UC  ...          1.0\n",
              "1  B0000SX2UC  ...         17.0\n",
              "2  B0000SX2UC  ...          5.0\n",
              "3  B0000SX2UC  ...          1.0\n",
              "4  B0000SX2UC  ...          1.0\n",
              "\n",
              "[5 rows x 14 columns]"
            ]
          },
          "metadata": {
            "tags": []
          },
          "execution_count": 5
        }
      ]
    },
    {
      "cell_type": "code",
      "metadata": {
        "colab": {
          "base_uri": "https://localhost:8080/"
        },
        "id": "_3wQq3lbbACV",
        "outputId": "5007959d-0325-469c-d74d-40256a14b858"
      },
      "source": [
        "electronics_data.shape"
      ],
      "execution_count": null,
      "outputs": [
        {
          "output_type": "execute_result",
          "data": {
            "text/plain": [
              "(67986, 14)"
            ]
          },
          "metadata": {
            "tags": []
          },
          "execution_count": 6
        }
      ]
    },
    {
      "cell_type": "code",
      "metadata": {
        "colab": {
          "base_uri": "https://localhost:8080/"
        },
        "id": "MUeaZXRSbDKc",
        "outputId": "a8b15d02-2dfb-46d4-efb4-bca785e44ed2"
      },
      "source": [
        "electronics_data.dtypes"
      ],
      "execution_count": null,
      "outputs": [
        {
          "output_type": "execute_result",
          "data": {
            "text/plain": [
              "asin              object\n",
              "brand             object\n",
              "title             object\n",
              "url               object\n",
              "image             object\n",
              "rating           float64\n",
              "reviewUrl         object\n",
              "price            float64\n",
              "originalPrice    float64\n",
              "name              object\n",
              "date              object\n",
              "verified            bool\n",
              "body              object\n",
              "helpfulVotes     float64\n",
              "dtype: object"
            ]
          },
          "metadata": {
            "tags": []
          },
          "execution_count": 7
        }
      ]
    },
    {
      "cell_type": "code",
      "metadata": {
        "colab": {
          "base_uri": "https://localhost:8080/"
        },
        "id": "3PRwIqkcbNOf",
        "outputId": "7197f383-a499-4921-cf23-8f599f597c3f"
      },
      "source": [
        "electronics_data.info()"
      ],
      "execution_count": null,
      "outputs": [
        {
          "output_type": "stream",
          "text": [
            "<class 'pandas.core.frame.DataFrame'>\n",
            "Int64Index: 67986 entries, 0 to 67985\n",
            "Data columns (total 14 columns):\n",
            " #   Column         Non-Null Count  Dtype  \n",
            "---  ------         --------------  -----  \n",
            " 0   asin           67986 non-null  object \n",
            " 1   brand          67786 non-null  object \n",
            " 2   title          67986 non-null  object \n",
            " 3   url            67986 non-null  object \n",
            " 4   image          67986 non-null  object \n",
            " 5   rating         67986 non-null  float64\n",
            " 6   reviewUrl      67986 non-null  object \n",
            " 7   price          67986 non-null  float64\n",
            " 8   originalPrice  67986 non-null  float64\n",
            " 9   name           67984 non-null  object \n",
            " 10  date           67986 non-null  object \n",
            " 11  verified       67986 non-null  bool   \n",
            " 12  body           67965 non-null  object \n",
            " 13  helpfulVotes   27215 non-null  float64\n",
            "dtypes: bool(1), float64(4), object(9)\n",
            "memory usage: 7.3+ MB\n"
          ],
          "name": "stdout"
        }
      ]
    },
    {
      "cell_type": "code",
      "metadata": {
        "colab": {
          "base_uri": "https://localhost:8080/"
        },
        "id": "IUj7P3FDbQR9",
        "outputId": "e97a074f-37a8-4778-d0e1-7707b4a844b8"
      },
      "source": [
        "electronics_data.describe()['rating'].T"
      ],
      "execution_count": null,
      "outputs": [
        {
          "output_type": "execute_result",
          "data": {
            "text/plain": [
              "count    67986.000000\n",
              "mean         3.766826\n",
              "std          0.429197\n",
              "min          1.000000\n",
              "25%          3.500000\n",
              "50%          3.800000\n",
              "75%          4.100000\n",
              "max          5.000000\n",
              "Name: rating, dtype: float64"
            ]
          },
          "metadata": {
            "tags": []
          },
          "execution_count": 9
        }
      ]
    },
    {
      "cell_type": "code",
      "metadata": {
        "colab": {
          "base_uri": "https://localhost:8080/"
        },
        "id": "JjiMTL2gbXPf",
        "outputId": "48167852-a671-4a4e-ddad-f3242a7e038c"
      },
      "source": [
        "print('Minimum rating is: %d' %(electronics_data.rating.min()))\n",
        "print('Maximum rating is: %d' %(electronics_data.rating.max()))"
      ],
      "execution_count": null,
      "outputs": [
        {
          "output_type": "stream",
          "text": [
            "Minimum rating is: 1\n",
            "Maximum rating is: 5\n"
          ],
          "name": "stdout"
        }
      ]
    },
    {
      "cell_type": "code",
      "metadata": {
        "colab": {
          "base_uri": "https://localhost:8080/"
        },
        "id": "n6tAiVVdbbks",
        "outputId": "9a54d1cb-bab4-44fb-fd87-1188a437f252"
      },
      "source": [
        "print('Number of missing values across columns: \\n',electronics_data.isnull().sum())"
      ],
      "execution_count": null,
      "outputs": [
        {
          "output_type": "stream",
          "text": [
            "Number of missing values across columns: \n",
            " asin                 0\n",
            "brand              200\n",
            "title                0\n",
            "url                  0\n",
            "image                0\n",
            "rating               0\n",
            "reviewUrl            0\n",
            "price                0\n",
            "originalPrice        0\n",
            "name                 2\n",
            "date                 0\n",
            "verified             0\n",
            "body                21\n",
            "helpfulVotes     40771\n",
            "dtype: int64\n"
          ],
          "name": "stdout"
        }
      ]
    },
    {
      "cell_type": "code",
      "metadata": {
        "colab": {
          "base_uri": "https://localhost:8080/",
          "height": 401
        },
        "id": "q-Hchvilbkpc",
        "outputId": "3dbcdaa4-5a13-4f12-d8b3-eb4c935ba9ec"
      },
      "source": [
        "with sns.axes_style('white'):\n",
        "    g = sns.factorplot(\"rating\", data=electronics_data, aspect=2.0,kind='count')\n",
        "    g.set_ylabels(\"Total number of ratings\")"
      ],
      "execution_count": null,
      "outputs": [
        {
          "output_type": "execute_result",
          "data": {
            "text/plain": [
              "<seaborn.axisgrid.FacetGrid at 0x7fd10078f650>"
            ]
          },
          "metadata": {
            "tags": []
          },
          "execution_count": 12
        },
        {
          "output_type": "display_data",
          "data": {
            "image/png": "[encoded data removed]",
            "text/plain": [
              "<Figure size 720x360 with 1 Axes>"
            ]
          },
          "metadata": {
            "tags": []
          }
        }
      ]
    },
    {
      "cell_type": "code",
      "metadata": {
        "colab": {
          "base_uri": "https://localhost:8080/"
        },
        "id": "M4dSaHzXboRS",
        "outputId": "41bd9269-334b-4c70-a658-79ae70d19318"
      },
      "source": [
        "print(\"Total data \")\n",
        "print(\"-\"*50)\n",
        "print(\"\\nTotal no of ratings :\",electronics_data.shape[0])\n",
        "print(\"Total No of Users   :\", len(electronics_data.name.unique()))\n",
        "print(\"Total No of products  :\", len(np.unique(electronics_data.asin)))"
      ],
      "execution_count": null,
      "outputs": [
        {
          "output_type": "stream",
          "text": [
            "Total data \n",
            "--------------------------------------------------\n",
            "\n",
            "Total no of ratings : 67986\n",
            "Total No of Users   : 47324\n",
            "Total No of products  : 720\n"
          ],
          "name": "stdout"
        }
      ]
    },
    {
      "cell_type": "code",
      "metadata": {
        "colab": {
          "base_uri": "https://localhost:8080/"
        },
        "id": "3d2GkiSbb5m4",
        "outputId": "811dfeb9-3b87-4968-9663-8d95914c38c8"
      },
      "source": [
        "#Analysis of rating given by the user \n",
        "\n",
        "no_of_rated_products_per_user = electronics_data.groupby(by='name')['rating'].count().sort_values(ascending=False)\n",
        "\n",
        "no_of_rated_products_per_user.head()"
      ],
      "execution_count": null,
      "outputs": [
        {
          "output_type": "execute_result",
          "data": {
            "text/plain": [
              "name\n",
              "Amazon Customer    6507\n",
              "Kindle Customer     360\n",
              "Chris                89\n",
              "John                 87\n",
              "Michael              77\n",
              "Name: rating, dtype: int64"
            ]
          },
          "metadata": {
            "tags": []
          },
          "execution_count": 14
        }
      ]
    },
    {
      "cell_type": "code",
      "metadata": {
        "colab": {
          "base_uri": "https://localhost:8080/"
        },
        "id": "aurrwdlfb-7l",
        "outputId": "0a03b6f7-092b-4179-86b6-eb4a45e03a10"
      },
      "source": [
        "no_of_rated_products_per_user.describe()"
      ],
      "execution_count": null,
      "outputs": [
        {
          "output_type": "execute_result",
          "data": {
            "text/plain": [
              "count    47323.000000\n",
              "mean         1.436595\n",
              "std         30.005139\n",
              "min          1.000000\n",
              "25%          1.000000\n",
              "50%          1.000000\n",
              "75%          1.000000\n",
              "max       6507.000000\n",
              "Name: rating, dtype: float64"
            ]
          },
          "metadata": {
            "tags": []
          },
          "execution_count": 15
        }
      ]
    },
    {
      "cell_type": "code",
      "metadata": {
        "id": "JppesGcgcSax"
      },
      "source": [
        "quantiles = no_of_rated_products_per_user.quantile(np.arange(0,1.01,0.01), interpolation='higher')"
      ],
      "execution_count": null,
      "outputs": []
    },
    {
      "cell_type": "code",
      "metadata": {
        "colab": {
          "base_uri": "https://localhost:8080/",
          "height": 712
        },
        "id": "XiSqbz3ScVug",
        "outputId": "25597553-32b4-41cc-f450-2e6c1663553a"
      },
      "source": [
        "plt.figure(figsize=(10,10))\n",
        "plt.title(\"Quantiles and their Values\")\n",
        "quantiles.plot()\n",
        "# quantiles with 0.05 difference\n",
        "plt.scatter(x=quantiles.index[::5], y=quantiles.values[::5], c='orange', label=\"quantiles with 0.05 intervals\")\n",
        "# quantiles with 0.25 difference\n",
        "plt.scatter(x=quantiles.index[::25], y=quantiles.values[::25], c='m', label = \"quantiles with 0.25 intervals\")\n",
        "plt.ylabel('No of ratings by user')\n",
        "plt.xlabel('Value at the quantile')\n",
        "plt.legend(loc='best')\n",
        "plt.show()"
      ],
      "execution_count": null,
      "outputs": [
        {
          "output_type": "execute_result",
          "data": {
            "text/plain": [
              "<Figure size 720x720 with 0 Axes>"
            ]
          },
          "metadata": {
            "tags": []
          },
          "execution_count": 17
        },
        {
          "output_type": "execute_result",
          "data": {
            "text/plain": [
              "Text(0.5, 1.0, 'Quantiles and their Values')"
            ]
          },
          "metadata": {
            "tags": []
          },
          "execution_count": 17
        },
        {
          "output_type": "execute_result",
          "data": {
            "text/plain": [
              "<matplotlib.axes._subplots.AxesSubplot at 0x7fd0fffda410>"
            ]
          },
          "metadata": {
            "tags": []
          },
          "execution_count": 17
        },
        {
          "output_type": "execute_result",
          "data": {
            "text/plain": [
              "<matplotlib.collections.PathCollection at 0x7fd0fef19190>"
            ]
          },
          "metadata": {
            "tags": []
          },
          "execution_count": 17
        },
        {
          "output_type": "execute_result",
          "data": {
            "text/plain": [
              "<matplotlib.collections.PathCollection at 0x7fd0f6337f90>"
            ]
          },
          "metadata": {
            "tags": []
          },
          "execution_count": 17
        },
        {
          "output_type": "execute_result",
          "data": {
            "text/plain": [
              "Text(0, 0.5, 'No of ratings by user')"
            ]
          },
          "metadata": {
            "tags": []
          },
          "execution_count": 17
        },
        {
          "output_type": "execute_result",
          "data": {
            "text/plain": [
              "Text(0.5, 0, 'Value at the quantile')"
            ]
          },
          "metadata": {
            "tags": []
          },
          "execution_count": 17
        },
        {
          "output_type": "execute_result",
          "data": {
            "text/plain": [
              "<matplotlib.legend.Legend at 0x7fd0ff2db890>"
            ]
          },
          "metadata": {
            "tags": []
          },
          "execution_count": 17
        },
        {
          "output_type": "display_data",
          "data": {
            "image/png": "[encoded data removed]",
            "text/plain": [
              "<Figure size 720x720 with 1 Axes>"
            ]
          },
          "metadata": {
            "tags": [],
            "needs_background": "light"
          }
        }
      ]
    },
    {
      "cell_type": "code",
      "metadata": {
        "colab": {
          "base_uri": "https://localhost:8080/"
        },
        "id": "iyySsCQzcaBZ",
        "outputId": "e9a11fef-0723-4ea3-aeae-2fd26685e4b3"
      },
      "source": [
        "print('\\n No of rated product more than 50 per user : {}\\n'.format(sum(no_of_rated_products_per_user >= 50)) )"
      ],
      "execution_count": null,
      "outputs": [
        {
          "output_type": "stream",
          "text": [
            "\n",
            " No of rated product more than 50 per user : 11\n",
            "\n"
          ],
          "name": "stdout"
        }
      ]
    },
    {
      "cell_type": "code",
      "metadata": {
        "id": "-xGX1cVAcdQ1",
        "colab": {
          "base_uri": "https://localhost:8080/",
          "height": 1000
        },
        "outputId": "0cd27e15-cdc9-450b-b8d5-baf4dcbf9245"
      },
      "source": [
        "new_df=electronics_data.groupby(\"asin\").filter(lambda x:x['rating'].count() >=50)\n",
        "new_df"
      ],
      "execution_count": null,
      "outputs": [
        {
          "output_type": "execute_result",
          "data": {
            "text/html": [
              "<div>\n",
              "<style scoped>\n",
              "    .dataframe tbody tr th:only-of-type {\n",
              "        vertical-align: middle;\n",
              "    }\n",
              "\n",
              "    .dataframe tbody tr th {\n",
              "        vertical-align: top;\n",
              "    }\n",
              "\n",
              "    .dataframe thead th {\n",
              "        text-align: right;\n",
              "    }\n",
              "</style>\n",
              "<table border=\"1\" class=\"dataframe\">\n",
              "  <thead>\n",
              "    <tr style=\"text-align: right;\">\n",
              "      <th></th>\n",
              "      <th>asin</th>\n",
              "      <th>brand</th>\n",
              "      <th>title</th>\n",
              "      <th>url</th>\n",
              "      <th>image</th>\n",
              "      <th>rating</th>\n",
              "      <th>reviewUrl</th>\n",
              "      <th>price</th>\n",
              "      <th>originalPrice</th>\n",
              "      <th>name</th>\n",
              "      <th>date</th>\n",
              "      <th>verified</th>\n",
              "      <th>body</th>\n",
              "      <th>helpfulVotes</th>\n",
              "    </tr>\n",
              "  </thead>\n",
              "  <tbody>\n",
              "    <tr>\n",
              "      <th>126</th>\n",
              "      <td>B002UHS0UI</td>\n",
              "      <td>Motorola</td>\n",
              "      <td>Verizon Wireless Motorola RAZR V3m - Silver</td>\n",
              "      <td>https://www.amazon.com/Verizon-Wireless-Motoro...</td>\n",
              "      <td>https://m.media-amazon.com/images/I/61pVtPaTkM...</td>\n",
              "      <td>2.7</td>\n",
              "      <td>https://www.amazon.com/product-reviews/B002UHS0UI</td>\n",
              "      <td>0.0</td>\n",
              "      <td>0.0</td>\n",
              "      <td>Joyful</td>\n",
              "      <td>August 25, 2016</td>\n",
              "      <td>True</td>\n",
              "      <td>First of all I need to delete my lst review si...</td>\n",
              "      <td>24.0</td>\n",
              "    </tr>\n",
              "    <tr>\n",
              "      <th>127</th>\n",
              "      <td>B002UHS0UI</td>\n",
              "      <td>Motorola</td>\n",
              "      <td>Verizon Wireless Motorola RAZR V3m - Silver</td>\n",
              "      <td>https://www.amazon.com/Verizon-Wireless-Motoro...</td>\n",
              "      <td>https://m.media-amazon.com/images/I/61pVtPaTkM...</td>\n",
              "      <td>2.7</td>\n",
              "      <td>https://www.amazon.com/product-reviews/B002UHS0UI</td>\n",
              "      <td>0.0</td>\n",
              "      <td>0.0</td>\n",
              "      <td>Educated Consumer</td>\n",
              "      <td>November 21, 2019</td>\n",
              "      <td>True</td>\n",
              "      <td>I made a three hour international call and it ...</td>\n",
              "      <td>NaN</td>\n",
              "    </tr>\n",
              "    <tr>\n",
              "      <th>128</th>\n",
              "      <td>B002UHS0UI</td>\n",
              "      <td>Motorola</td>\n",
              "      <td>Verizon Wireless Motorola RAZR V3m - Silver</td>\n",
              "      <td>https://www.amazon.com/Verizon-Wireless-Motoro...</td>\n",
              "      <td>https://m.media-amazon.com/images/I/61pVtPaTkM...</td>\n",
              "      <td>2.7</td>\n",
              "      <td>https://www.amazon.com/product-reviews/B002UHS0UI</td>\n",
              "      <td>0.0</td>\n",
              "      <td>0.0</td>\n",
              "      <td>mike k</td>\n",
              "      <td>May 1, 2019</td>\n",
              "      <td>True</td>\n",
              "      <td>Horrible purchase. Came today and first thing ...</td>\n",
              "      <td>1.0</td>\n",
              "    </tr>\n",
              "    <tr>\n",
              "      <th>129</th>\n",
              "      <td>B002UHS0UI</td>\n",
              "      <td>Motorola</td>\n",
              "      <td>Verizon Wireless Motorola RAZR V3m - Silver</td>\n",
              "      <td>https://www.amazon.com/Verizon-Wireless-Motoro...</td>\n",
              "      <td>https://m.media-amazon.com/images/I/61pVtPaTkM...</td>\n",
              "      <td>2.7</td>\n",
              "      <td>https://www.amazon.com/product-reviews/B002UHS0UI</td>\n",
              "      <td>0.0</td>\n",
              "      <td>0.0</td>\n",
              "      <td>Eddie Gamble</td>\n",
              "      <td>September 5, 2018</td>\n",
              "      <td>True</td>\n",
              "      <td>After only having this phone for a month it wo...</td>\n",
              "      <td>1.0</td>\n",
              "    </tr>\n",
              "    <tr>\n",
              "      <th>130</th>\n",
              "      <td>B002UHS0UI</td>\n",
              "      <td>Motorola</td>\n",
              "      <td>Verizon Wireless Motorola RAZR V3m - Silver</td>\n",
              "      <td>https://www.amazon.com/Verizon-Wireless-Motoro...</td>\n",
              "      <td>https://m.media-amazon.com/images/I/61pVtPaTkM...</td>\n",
              "      <td>2.7</td>\n",
              "      <td>https://www.amazon.com/product-reviews/B002UHS0UI</td>\n",
              "      <td>0.0</td>\n",
              "      <td>0.0</td>\n",
              "      <td>Andrew</td>\n",
              "      <td>February 14, 2015</td>\n",
              "      <td>True</td>\n",
              "      <td>The phone arrived with some scratches on the f...</td>\n",
              "      <td>4.0</td>\n",
              "    </tr>\n",
              "    <tr>\n",
              "      <th>...</th>\n",
              "      <td>...</td>\n",
              "      <td>...</td>\n",
              "      <td>...</td>\n",
              "      <td>...</td>\n",
              "      <td>...</td>\n",
              "      <td>...</td>\n",
              "      <td>...</td>\n",
              "      <td>...</td>\n",
              "      <td>...</td>\n",
              "      <td>...</td>\n",
              "      <td>...</td>\n",
              "      <td>...</td>\n",
              "      <td>...</td>\n",
              "      <td>...</td>\n",
              "    </tr>\n",
              "    <tr>\n",
              "      <th>67979</th>\n",
              "      <td>B081H6STQQ</td>\n",
              "      <td>Sony</td>\n",
              "      <td>Sony Xperia 1 Unlocked Smartphone and WH1000XM...</td>\n",
              "      <td>https://www.amazon.com/Sony-Smartphone-WH1000X...</td>\n",
              "      <td>https://m.media-amazon.com/images/I/51zZTAXZTP...</td>\n",
              "      <td>4.5</td>\n",
              "      <td>https://www.amazon.com/product-reviews/B081H6STQQ</td>\n",
              "      <td>948.0</td>\n",
              "      <td>0.0</td>\n",
              "      <td>Cindy Cowles</td>\n",
              "      <td>July 17, 2019</td>\n",
              "      <td>False</td>\n",
              "      <td>Update: If you like sending and receiving pict...</td>\n",
              "      <td>2.0</td>\n",
              "    </tr>\n",
              "    <tr>\n",
              "      <th>67980</th>\n",
              "      <td>B081H6STQQ</td>\n",
              "      <td>Sony</td>\n",
              "      <td>Sony Xperia 1 Unlocked Smartphone and WH1000XM...</td>\n",
              "      <td>https://www.amazon.com/Sony-Smartphone-WH1000X...</td>\n",
              "      <td>https://m.media-amazon.com/images/I/51zZTAXZTP...</td>\n",
              "      <td>4.5</td>\n",
              "      <td>https://www.amazon.com/product-reviews/B081H6STQQ</td>\n",
              "      <td>948.0</td>\n",
              "      <td>0.0</td>\n",
              "      <td>Los Kositos</td>\n",
              "      <td>October 7, 2019</td>\n",
              "      <td>False</td>\n",
              "      <td>I love my new phone. I've been dying to do a r...</td>\n",
              "      <td>1.0</td>\n",
              "    </tr>\n",
              "    <tr>\n",
              "      <th>67981</th>\n",
              "      <td>B081H6STQQ</td>\n",
              "      <td>Sony</td>\n",
              "      <td>Sony Xperia 1 Unlocked Smartphone and WH1000XM...</td>\n",
              "      <td>https://www.amazon.com/Sony-Smartphone-WH1000X...</td>\n",
              "      <td>https://m.media-amazon.com/images/I/51zZTAXZTP...</td>\n",
              "      <td>4.5</td>\n",
              "      <td>https://www.amazon.com/product-reviews/B081H6STQQ</td>\n",
              "      <td>948.0</td>\n",
              "      <td>0.0</td>\n",
              "      <td>jande</td>\n",
              "      <td>August 16, 2019</td>\n",
              "      <td>False</td>\n",
              "      <td>I love the camera on this phone. The screen is...</td>\n",
              "      <td>1.0</td>\n",
              "    </tr>\n",
              "    <tr>\n",
              "      <th>67982</th>\n",
              "      <td>B081H6STQQ</td>\n",
              "      <td>Sony</td>\n",
              "      <td>Sony Xperia 1 Unlocked Smartphone and WH1000XM...</td>\n",
              "      <td>https://www.amazon.com/Sony-Smartphone-WH1000X...</td>\n",
              "      <td>https://m.media-amazon.com/images/I/51zZTAXZTP...</td>\n",
              "      <td>4.5</td>\n",
              "      <td>https://www.amazon.com/product-reviews/B081H6STQQ</td>\n",
              "      <td>948.0</td>\n",
              "      <td>0.0</td>\n",
              "      <td>2cool4u</td>\n",
              "      <td>September 14, 2019</td>\n",
              "      <td>False</td>\n",
              "      <td>I've been an Xperia user for several years and...</td>\n",
              "      <td>1.0</td>\n",
              "    </tr>\n",
              "    <tr>\n",
              "      <th>67983</th>\n",
              "      <td>B081H6STQQ</td>\n",
              "      <td>Sony</td>\n",
              "      <td>Sony Xperia 1 Unlocked Smartphone and WH1000XM...</td>\n",
              "      <td>https://www.amazon.com/Sony-Smartphone-WH1000X...</td>\n",
              "      <td>https://m.media-amazon.com/images/I/51zZTAXZTP...</td>\n",
              "      <td>4.5</td>\n",
              "      <td>https://www.amazon.com/product-reviews/B081H6STQQ</td>\n",
              "      <td>948.0</td>\n",
              "      <td>0.0</td>\n",
              "      <td>simon</td>\n",
              "      <td>July 14, 2019</td>\n",
              "      <td>False</td>\n",
              "      <td>buy one more for my cousin</td>\n",
              "      <td>NaN</td>\n",
              "    </tr>\n",
              "  </tbody>\n",
              "</table>\n",
              "<p>61669 rows × 14 columns</p>\n",
              "</div>"
            ],
            "text/plain": [
              "             asin  ... helpfulVotes\n",
              "126    B002UHS0UI  ...         24.0\n",
              "127    B002UHS0UI  ...          NaN\n",
              "128    B002UHS0UI  ...          1.0\n",
              "129    B002UHS0UI  ...          1.0\n",
              "130    B002UHS0UI  ...          4.0\n",
              "...           ...  ...          ...\n",
              "67979  B081H6STQQ  ...          2.0\n",
              "67980  B081H6STQQ  ...          1.0\n",
              "67981  B081H6STQQ  ...          1.0\n",
              "67982  B081H6STQQ  ...          1.0\n",
              "67983  B081H6STQQ  ...          NaN\n",
              "\n",
              "[61669 rows x 14 columns]"
            ]
          },
          "metadata": {
            "tags": []
          },
          "execution_count": 19
        }
      ]
    },
    {
      "cell_type": "code",
      "metadata": {
        "colab": {
          "base_uri": "https://localhost:8080/",
          "height": 341
        },
        "id": "PJ-piRylcluv",
        "outputId": "5efd30b7-d710-48ce-bf16-46d9cb1973c4"
      },
      "source": [
        "no_of_ratings_per_product = new_df.groupby(by='asin')['rating'].count().sort_values(ascending=False)\n",
        "\n",
        "fig = plt.figure(figsize=plt.figaspect(.5))\n",
        "ax = plt.gca()\n",
        "plt.plot(no_of_ratings_per_product.values)\n",
        "plt.title('# RATINGS per Product')\n",
        "plt.xlabel('Product')\n",
        "plt.ylabel('No of ratings per product')\n",
        "ax.set_xticklabels([])\n",
        "\n",
        "plt.show()"
      ],
      "execution_count": null,
      "outputs": [
        {
          "output_type": "execute_result",
          "data": {
            "text/plain": [
              "[<matplotlib.lines.Line2D at 0x7fd0ff3aa090>]"
            ]
          },
          "metadata": {
            "tags": []
          },
          "execution_count": 20
        },
        {
          "output_type": "execute_result",
          "data": {
            "text/plain": [
              "Text(0.5, 1.0, '# RATINGS per Product')"
            ]
          },
          "metadata": {
            "tags": []
          },
          "execution_count": 20
        },
        {
          "output_type": "execute_result",
          "data": {
            "text/plain": [
              "Text(0.5, 0, 'Product')"
            ]
          },
          "metadata": {
            "tags": []
          },
          "execution_count": 20
        },
        {
          "output_type": "execute_result",
          "data": {
            "text/plain": [
              "Text(0, 0.5, 'No of ratings per product')"
            ]
          },
          "metadata": {
            "tags": []
          },
          "execution_count": 20
        },
        {
          "output_type": "execute_result",
          "data": {
            "text/plain": [
              "[]"
            ]
          },
          "metadata": {
            "tags": []
          },
          "execution_count": 20
        },
        {
          "output_type": "display_data",
          "data": {
            "image/png": "[encoded data removed]",
            "text/plain": [
              "<Figure size 576x288 with 1 Axes>"
            ]
          },
          "metadata": {
            "tags": [],
            "needs_background": "light"
          }
        }
      ]
    },
    {
      "cell_type": "code",
      "metadata": {
        "colab": {
          "base_uri": "https://localhost:8080/"
        },
        "id": "-8PdFQYddKFg",
        "outputId": "5579e411-cfd5-4282-d4e0-3b8062b3fe73"
      },
      "source": [
        "new_df.groupby('asin')['rating'].mean().head()"
      ],
      "execution_count": null,
      "outputs": [
        {
          "output_type": "execute_result",
          "data": {
            "text/plain": [
              "asin\n",
              "B002UHS0UI    2.7\n",
              "B002WTC1NG    3.6\n",
              "B0033SFV5A    3.3\n",
              "B003FCO9XE    2.6\n",
              "B003P2VNAQ    3.6\n",
              "Name: rating, dtype: float64"
            ]
          },
          "metadata": {
            "tags": []
          },
          "execution_count": 21
        }
      ]
    },
    {
      "cell_type": "code",
      "metadata": {
        "colab": {
          "base_uri": "https://localhost:8080/"
        },
        "id": "E_lgtUtpdR-X",
        "outputId": "ab871c54-6d36-48d8-fc5f-2ca5387f9bff"
      },
      "source": [
        "new_df.groupby('asin')['rating'].mean().sort_values(ascending=False).head()"
      ],
      "execution_count": null,
      "outputs": [
        {
          "output_type": "execute_result",
          "data": {
            "text/plain": [
              "asin\n",
              "B07K1M36CM    4.6\n",
              "B07YQ58NPF    4.6\n",
              "B07YZLRS3Z    4.6\n",
              "B07YJHXZT6    4.6\n",
              "B07WW25BSV    4.6\n",
              "Name: rating, dtype: float64"
            ]
          },
          "metadata": {
            "tags": []
          },
          "execution_count": 22
        }
      ]
    },
    {
      "cell_type": "code",
      "metadata": {
        "colab": {
          "base_uri": "https://localhost:8080/"
        },
        "id": "ZvnTRd0qdY_M",
        "outputId": "23d5c133-e751-4eb2-dad9-2673adb9edd9"
      },
      "source": [
        "new_df.groupby('asin')['rating'].count().sort_values(ascending=False).head()"
      ],
      "execution_count": null,
      "outputs": [
        {
          "output_type": "execute_result",
          "data": {
            "text/plain": [
              "asin\n",
              "B00F2SKPIM    981\n",
              "B00836Y6B2    925\n",
              "B07FZH9BGV    791\n",
              "B01D1J9BGU    775\n",
              "B018OMP8ES    773\n",
              "Name: rating, dtype: int64"
            ]
          },
          "metadata": {
            "tags": []
          },
          "execution_count": 23
        }
      ]
    },
    {
      "cell_type": "code",
      "metadata": {
        "id": "AkfhzZ_UdjV5"
      },
      "source": [
        "ratings_mean_count = pd.DataFrame(new_df.groupby('asin')['rating'].mean())"
      ],
      "execution_count": null,
      "outputs": []
    },
    {
      "cell_type": "code",
      "metadata": {
        "id": "96HHrGf2dqDu"
      },
      "source": [
        "ratings_mean_count['rating_counts'] = pd.DataFrame(new_df.groupby('asin')['rating'].count())\n",
        "ratings_mean_count['score'] = (0.5*ratings_mean_count['rating_counts'])+(0.5*ratings_mean_count[\"rating\"])"
      ],
      "execution_count": null,
      "outputs": []
    },
    {
      "cell_type": "code",
      "metadata": {
        "colab": {
          "base_uri": "https://localhost:8080/",
          "height": 228
        },
        "id": "ADR-Snt7dwIU",
        "outputId": "4fd01408-0dcb-40f1-d693-37347d11981f"
      },
      "source": [
        "ratings_mean_count.head()"
      ],
      "execution_count": null,
      "outputs": [
        {
          "output_type": "execute_result",
          "data": {
            "text/html": [
              "<div>\n",
              "<style scoped>\n",
              "    .dataframe tbody tr th:only-of-type {\n",
              "        vertical-align: middle;\n",
              "    }\n",
              "\n",
              "    .dataframe tbody tr th {\n",
              "        vertical-align: top;\n",
              "    }\n",
              "\n",
              "    .dataframe thead th {\n",
              "        text-align: right;\n",
              "    }\n",
              "</style>\n",
              "<table border=\"1\" class=\"dataframe\">\n",
              "  <thead>\n",
              "    <tr style=\"text-align: right;\">\n",
              "      <th></th>\n",
              "      <th>rating</th>\n",
              "      <th>rating_counts</th>\n",
              "      <th>score</th>\n",
              "    </tr>\n",
              "    <tr>\n",
              "      <th>asin</th>\n",
              "      <th></th>\n",
              "      <th></th>\n",
              "      <th></th>\n",
              "    </tr>\n",
              "  </thead>\n",
              "  <tbody>\n",
              "    <tr>\n",
              "      <th>B002UHS0UI</th>\n",
              "      <td>2.7</td>\n",
              "      <td>207</td>\n",
              "      <td>104.85</td>\n",
              "    </tr>\n",
              "    <tr>\n",
              "      <th>B002WTC1NG</th>\n",
              "      <td>3.6</td>\n",
              "      <td>348</td>\n",
              "      <td>175.80</td>\n",
              "    </tr>\n",
              "    <tr>\n",
              "      <th>B0033SFV5A</th>\n",
              "      <td>3.3</td>\n",
              "      <td>56</td>\n",
              "      <td>29.65</td>\n",
              "    </tr>\n",
              "    <tr>\n",
              "      <th>B003FCO9XE</th>\n",
              "      <td>2.6</td>\n",
              "      <td>77</td>\n",
              "      <td>39.80</td>\n",
              "    </tr>\n",
              "    <tr>\n",
              "      <th>B003P2VNAQ</th>\n",
              "      <td>3.6</td>\n",
              "      <td>67</td>\n",
              "      <td>35.30</td>\n",
              "    </tr>\n",
              "  </tbody>\n",
              "</table>\n",
              "</div>"
            ],
            "text/plain": [
              "            rating  rating_counts   score\n",
              "asin                                     \n",
              "B002UHS0UI     2.7            207  104.85\n",
              "B002WTC1NG     3.6            348  175.80\n",
              "B0033SFV5A     3.3             56   29.65\n",
              "B003FCO9XE     2.6             77   39.80\n",
              "B003P2VNAQ     3.6             67   35.30"
            ]
          },
          "metadata": {
            "tags": []
          },
          "execution_count": 26
        }
      ]
    },
    {
      "cell_type": "code",
      "metadata": {
        "colab": {
          "base_uri": "https://localhost:8080/"
        },
        "id": "54Beai2Hdz7D",
        "outputId": "064aa5c3-6e4a-45e5-814e-6a4788f48344"
      },
      "source": [
        "ratings_mean_count['score'].max()"
      ],
      "execution_count": null,
      "outputs": [
        {
          "output_type": "execute_result",
          "data": {
            "text/plain": [
              "492.45000000000005"
            ]
          },
          "metadata": {
            "tags": []
          },
          "execution_count": 27
        }
      ]
    },
    {
      "cell_type": "code",
      "metadata": {
        "colab": {
          "base_uri": "https://localhost:8080/",
          "height": 392
        },
        "id": "5ohWSMBsd2SV",
        "outputId": "f47c890e-c36b-4d31-bc94-7f618a9e68e2"
      },
      "source": [
        "plt.figure(figsize=(8,6))\n",
        "plt.rcParams['patch.force_edgecolor'] = True\n",
        "ratings_mean_count['score'].hist(bins=50)"
      ],
      "execution_count": null,
      "outputs": [
        {
          "output_type": "execute_result",
          "data": {
            "text/plain": [
              "<Figure size 576x432 with 0 Axes>"
            ]
          },
          "metadata": {
            "tags": []
          },
          "execution_count": 28
        },
        {
          "output_type": "execute_result",
          "data": {
            "text/plain": [
              "<matplotlib.axes._subplots.AxesSubplot at 0x7fd0fef0b790>"
            ]
          },
          "metadata": {
            "tags": []
          },
          "execution_count": 28
        },
        {
          "output_type": "display_data",
          "data": {
            "image/png": "[encoded data removed]",
            "text/plain": [
              "<Figure size 576x432 with 1 Axes>"
            ]
          },
          "metadata": {
            "tags": [],
            "needs_background": "light"
          }
        }
      ]
    },
    {
      "cell_type": "code",
      "metadata": {
        "colab": {
          "base_uri": "https://localhost:8080/",
          "height": 392
        },
        "id": "bPLRTC_ud5II",
        "outputId": "2fbd4f53-57fb-4f36-cb6e-1e76bf3c3c9e"
      },
      "source": [
        "plt.figure(figsize=(8,6))\n",
        "plt.rcParams['patch.force_edgecolor'] = True\n",
        "ratings_mean_count['rating'].hist(bins=50)"
      ],
      "execution_count": null,
      "outputs": [
        {
          "output_type": "execute_result",
          "data": {
            "text/plain": [
              "<Figure size 576x432 with 0 Axes>"
            ]
          },
          "metadata": {
            "tags": []
          },
          "execution_count": 29
        },
        {
          "output_type": "execute_result",
          "data": {
            "text/plain": [
              "<matplotlib.axes._subplots.AxesSubplot at 0x7fd0ff193750>"
            ]
          },
          "metadata": {
            "tags": []
          },
          "execution_count": 29
        },
        {
          "output_type": "display_data",
          "data": {
            "image/png": "[encoded data removed]",
            "text/plain": [
              "<Figure size 576x432 with 1 Axes>"
            ]
          },
          "metadata": {
            "tags": [],
            "needs_background": "light"
          }
        }
      ]
    },
    {
      "cell_type": "code",
      "metadata": {
        "colab": {
          "base_uri": "https://localhost:8080/",
          "height": 476
        },
        "id": "Px0VAhgVd7_N",
        "outputId": "06441a8b-c1b6-4844-9621-f01298b438ab"
      },
      "source": [
        "plt.figure(figsize=(8,6))\n",
        "plt.rcParams['patch.force_edgecolor'] = True\n",
        "sns.jointplot(x='rating', y='rating_counts', data=ratings_mean_count, alpha=0.4)"
      ],
      "execution_count": null,
      "outputs": [
        {
          "output_type": "execute_result",
          "data": {
            "text/plain": [
              "<Figure size 576x432 with 0 Axes>"
            ]
          },
          "metadata": {
            "tags": []
          },
          "execution_count": 30
        },
        {
          "output_type": "execute_result",
          "data": {
            "text/plain": [
              "<seaborn.axisgrid.JointGrid at 0x7fd0fffdfa10>"
            ]
          },
          "metadata": {
            "tags": []
          },
          "execution_count": 30
        },
        {
          "output_type": "display_data",
          "data": {
            "text/plain": [
              "<Figure size 576x432 with 0 Axes>"
            ]
          },
          "metadata": {
            "tags": []
          }
        },
        {
          "output_type": "display_data",
          "data": {
            "image/png": "[encoded data removed]",
            "text/plain": [
              "<Figure size 432x432 with 3 Axes>"
            ]
          },
          "metadata": {
            "tags": [],
            "needs_background": "light"
          }
        }
      ]
    },
    {
      "cell_type": "code",
      "metadata": {
        "colab": {
          "base_uri": "https://localhost:8080/",
          "height": 357
        },
        "id": "DgN6NzGUeCE3",
        "outputId": "9c6b3a57-67f8-4f17-ebf1-98b8a9e47f36"
      },
      "source": [
        "popular_products = pd.DataFrame(ratings_mean_count)\n",
        "most_popular = popular_products.sort_values('score', ascending=False)\n",
        "most_popular.head(30).plot(kind = \"bar\")"
      ],
      "execution_count": null,
      "outputs": [
        {
          "output_type": "execute_result",
          "data": {
            "text/plain": [
              "<matplotlib.axes._subplots.AxesSubplot at 0x7fd0f63f9190>"
            ]
          },
          "metadata": {
            "tags": []
          },
          "execution_count": 31
        },
        {
          "output_type": "display_data",
          "data": {
            "image/png": "[encoded data removed]",
            "text/plain": [
              "<Figure size 432x288 with 1 Axes>"
            ]
          },
          "metadata": {
            "tags": [],
            "needs_background": "light"
          }
        }
      ]
    },
    {
      "cell_type": "code",
      "metadata": {
        "colab": {
          "base_uri": "https://localhost:8080/",
          "height": 378
        },
        "id": "cmpoJPfAiS5u",
        "outputId": "be972616-7851-47be-87ad-129c8d135cfb"
      },
      "source": [
        "most_popular.head(10)"
      ],
      "execution_count": null,
      "outputs": [
        {
          "output_type": "execute_result",
          "data": {
            "text/html": [
              "<div>\n",
              "<style scoped>\n",
              "    .dataframe tbody tr th:only-of-type {\n",
              "        vertical-align: middle;\n",
              "    }\n",
              "\n",
              "    .dataframe tbody tr th {\n",
              "        vertical-align: top;\n",
              "    }\n",
              "\n",
              "    .dataframe thead th {\n",
              "        text-align: right;\n",
              "    }\n",
              "</style>\n",
              "<table border=\"1\" class=\"dataframe\">\n",
              "  <thead>\n",
              "    <tr style=\"text-align: right;\">\n",
              "      <th></th>\n",
              "      <th>rating</th>\n",
              "      <th>rating_counts</th>\n",
              "      <th>score</th>\n",
              "    </tr>\n",
              "    <tr>\n",
              "      <th>asin</th>\n",
              "      <th></th>\n",
              "      <th></th>\n",
              "      <th></th>\n",
              "    </tr>\n",
              "  </thead>\n",
              "  <tbody>\n",
              "    <tr>\n",
              "      <th>B00F2SKPIM</th>\n",
              "      <td>3.9</td>\n",
              "      <td>981</td>\n",
              "      <td>492.45</td>\n",
              "    </tr>\n",
              "    <tr>\n",
              "      <th>B00836Y6B2</th>\n",
              "      <td>3.2</td>\n",
              "      <td>925</td>\n",
              "      <td>464.10</td>\n",
              "    </tr>\n",
              "    <tr>\n",
              "      <th>B07FZH9BGV</th>\n",
              "      <td>4.1</td>\n",
              "      <td>791</td>\n",
              "      <td>397.55</td>\n",
              "    </tr>\n",
              "    <tr>\n",
              "      <th>B01D1J9BGU</th>\n",
              "      <td>3.8</td>\n",
              "      <td>775</td>\n",
              "      <td>389.40</td>\n",
              "    </tr>\n",
              "    <tr>\n",
              "      <th>B07WSJYDXX</th>\n",
              "      <td>3.9</td>\n",
              "      <td>773</td>\n",
              "      <td>388.45</td>\n",
              "    </tr>\n",
              "    <tr>\n",
              "      <th>B013XAPUW6</th>\n",
              "      <td>3.6</td>\n",
              "      <td>773</td>\n",
              "      <td>388.30</td>\n",
              "    </tr>\n",
              "    <tr>\n",
              "      <th>B018OMP8ES</th>\n",
              "      <td>3.6</td>\n",
              "      <td>773</td>\n",
              "      <td>388.30</td>\n",
              "    </tr>\n",
              "    <tr>\n",
              "      <th>B00HPP3QD6</th>\n",
              "      <td>4.0</td>\n",
              "      <td>772</td>\n",
              "      <td>388.00</td>\n",
              "    </tr>\n",
              "    <tr>\n",
              "      <th>B076XLLCQC</th>\n",
              "      <td>4.0</td>\n",
              "      <td>766</td>\n",
              "      <td>385.00</td>\n",
              "    </tr>\n",
              "    <tr>\n",
              "      <th>B06Y16RL4W</th>\n",
              "      <td>3.7</td>\n",
              "      <td>745</td>\n",
              "      <td>374.35</td>\n",
              "    </tr>\n",
              "  </tbody>\n",
              "</table>\n",
              "</div>"
            ],
            "text/plain": [
              "            rating  rating_counts   score\n",
              "asin                                     \n",
              "B00F2SKPIM     3.9            981  492.45\n",
              "B00836Y6B2     3.2            925  464.10\n",
              "B07FZH9BGV     4.1            791  397.55\n",
              "B01D1J9BGU     3.8            775  389.40\n",
              "B07WSJYDXX     3.9            773  388.45\n",
              "B013XAPUW6     3.6            773  388.30\n",
              "B018OMP8ES     3.6            773  388.30\n",
              "B00HPP3QD6     4.0            772  388.00\n",
              "B076XLLCQC     4.0            766  385.00\n",
              "B06Y16RL4W     3.7            745  374.35"
            ]
          },
          "metadata": {
            "tags": []
          },
          "execution_count": 32
        }
      ]
    },
    {
      "cell_type": "code",
      "metadata": {
        "colab": {
          "base_uri": "https://localhost:8080/"
        },
        "id": "kpaCZ_iufxeP",
        "outputId": "0e8b08d4-a808-4649-979d-30968034b1dc"
      },
      "source": [
        "!pip install surprise\n"
      ],
      "execution_count": null,
      "outputs": [
        {
          "output_type": "stream",
          "text": [
            "Collecting surprise\n",
            "  Downloading surprise-0.1-py2.py3-none-any.whl (1.8 kB)\n",
            "Collecting scikit-surprise\n",
            "  Downloading scikit-surprise-1.1.1.tar.gz (11.8 MB)\n",
            "\u001b[K     |████████████████████████████████| 11.8 MB 23.6 MB/s \n",
            "\u001b[?25hRequirement already satisfied: joblib>=0.11 in /usr/local/lib/python3.7/dist-packages (from scikit-surprise->surprise) (1.0.1)\n",
            "Requirement already satisfied: numpy>=1.11.2 in /usr/local/lib/python3.7/dist-packages (from scikit-surprise->surprise) (1.19.5)\n",
            "Requirement already satisfied: scipy>=1.0.0 in /usr/local/lib/python3.7/dist-packages (from scikit-surprise->surprise) (1.4.1)\n",
            "Requirement already satisfied: six>=1.10.0 in /usr/local/lib/python3.7/dist-packages (from scikit-surprise->surprise) (1.15.0)\n",
            "Building wheels for collected packages: scikit-surprise\n",
            "  Building wheel for scikit-surprise (setup.py) ... \u001b[?25l\u001b[?25hdone\n",
            "  Created wheel for scikit-surprise: filename=scikit_surprise-1.1.1-cp37-cp37m-linux_x86_64.whl size=1617775 sha256=ab6f90ccc2efd22d45c43fb03c66f6b9286a0eb571656349ab9ff82708f3d566\n",
            "  Stored in directory: /root/.cache/pip/wheels/76/44/74/b498c42be47b2406bd27994e16c5188e337c657025ab400c1c\n",
            "Successfully built scikit-surprise\n",
            "Installing collected packages: scikit-surprise, surprise\n",
            "Successfully installed scikit-surprise-1.1.1 surprise-0.1\n"
          ],
          "name": "stdout"
        }
      ]
    },
    {
      "cell_type": "code",
      "metadata": {
        "id": "BuQ2zppnhMY_"
      },
      "source": [
        "from surprise import KNNWithMeans\n",
        "from surprise import Dataset\n",
        "from surprise import accuracy\n",
        "from surprise import Reader\n",
        "import os\n",
        "from surprise.model_selection import train_test_split\n"
      ],
      "execution_count": null,
      "outputs": []
    },
    {
      "cell_type": "code",
      "metadata": {
        "id": "6hYNHjIPhbzw"
      },
      "source": [
        "new_df = electronics_data[['name','asin','rating']]\n",
        "reader = Reader(rating_scale=(1, 5))\n",
        "data = Dataset.load_from_df(new_df,reader)"
      ],
      "execution_count": null,
      "outputs": []
    },
    {
      "cell_type": "code",
      "metadata": {
        "id": "3Os6io5WhtvQ"
      },
      "source": [
        "trainset, testset = train_test_split(data, test_size=0.3,random_state=10)"
      ],
      "execution_count": null,
      "outputs": []
    },
    {
      "cell_type": "code",
      "metadata": {
        "colab": {
          "base_uri": "https://localhost:8080/"
        },
        "id": "gNbwlbUVh4EI",
        "outputId": "4fe0e179-0b7e-4d8e-a6c5-e7906ec4aad7"
      },
      "source": [
        "algo = KNNWithMeans(k=5, sim_options={'name': 'pearson_baseline', 'user_based': False})\n",
        "algo.fit(trainset)"
      ],
      "execution_count": null,
      "outputs": [
        {
          "output_type": "stream",
          "text": [
            "Estimating biases using als...\n",
            "Computing the pearson_baseline similarity matrix...\n",
            "Done computing similarity matrix.\n"
          ],
          "name": "stdout"
        },
        {
          "output_type": "execute_result",
          "data": {
            "text/plain": [
              "<surprise.prediction_algorithms.knns.KNNWithMeans at 0x7fd0ff1003d0>"
            ]
          },
          "metadata": {
            "tags": []
          },
          "execution_count": 37
        }
      ]
    },
    {
      "cell_type": "code",
      "metadata": {
        "id": "ISuc2E4ri_CD"
      },
      "source": [
        "test_pred = algo.test(testset)"
      ],
      "execution_count": null,
      "outputs": []
    },
    {
      "cell_type": "code",
      "metadata": {
        "colab": {
          "base_uri": "https://localhost:8080/"
        },
        "id": "G-aQG_vIjKsw",
        "outputId": "543f9d52-5ae0-4369-ee49-3fb63ea2e789"
      },
      "source": [
        "test_pred"
      ],
      "execution_count": null,
      "outputs": [
        {
          "output_type": "execute_result",
          "data": {
            "text/plain": [
              "[Prediction(uid='Amazon Customer', iid='B076MB4CYN', r_ui=3.5, est=3.5, details={'actual_k': 0, 'was_impossible': False}),\n",
              " Prediction(uid='Attila Csupo', iid='B071H9KKKF', r_ui=4.0, est=3.7664425299432653, details={'was_impossible': True, 'reason': 'User and/or item is unknown.'}),\n",
              " Prediction(uid='M. Dipaola', iid='B00A2V7ULY', r_ui=3.0, est=3.0, details={'actual_k': 0, 'was_impossible': False}),\n",
              " Prediction(uid='Kenneth Ellison', iid='B06XR8G1TX', r_ui=3.5, est=3.7664425299432653, details={'was_impossible': True, 'reason': 'User and/or item is unknown.'}),\n",
              " Prediction(uid='Mark', iid='B00LAEA84S', r_ui=3.2, est=3.1999999999999997, details={'actual_k': 5, 'was_impossible': False}),\n",
              " Prediction(uid='mina', iid='B00F1HVZ0Q', r_ui=3.7, est=3.7664425299432653, details={'was_impossible': True, 'reason': 'User and/or item is unknown.'}),\n",
              " Prediction(uid='Mainnin', iid='B01N4E0RF1', r_ui=3.8, est=3.7664425299432653, details={'was_impossible': True, 'reason': 'User and/or item is unknown.'}),\n",
              " Prediction(uid='Lynn A McCrary', iid='B06XS3CTJM', r_ui=4.0, est=3.7664425299432653, details={'was_impossible': True, 'reason': 'User and/or item is unknown.'}),\n",
              " Prediction(uid='Stephanie Kelly', iid='B07PB77Z4J', r_ui=4.0, est=4.0, details={'actual_k': 1, 'was_impossible': False}),\n",
              " Prediction(uid='Aaron Ponce', iid='B019S654DO', r_ui=3.7, est=3.7664425299432653, details={'was_impossible': True, 'reason': 'User and/or item is unknown.'}),\n",
              " Prediction(uid='Eric G', iid='B01CJ3SCN2', r_ui=3.6, est=3.7664425299432653, details={'was_impossible': True, 'reason': 'User and/or item is unknown.'}),\n",
              " Prediction(uid='Lisa', iid='B072QR6NKG', r_ui=3.9, est=3.9000000000000004, details={'actual_k': 5, 'was_impossible': False}),\n",
              " Prediction(uid='Mike', iid='B00F9RRVUG', r_ui=3.5, est=3.5, details={'actual_k': 5, 'was_impossible': False}),\n",
              " Prediction(uid='LUIS RENDON', iid='B07HHRF89L', r_ui=3.7, est=3.7664425299432653, details={'was_impossible': True, 'reason': 'User and/or item is unknown.'}),\n",
              " Prediction(uid='Kindle Customer', iid='B07Q6ZNJNT', r_ui=4.2, est=4.199999999999999, details={'actual_k': 5, 'was_impossible': False}),\n",
              " Prediction(uid='Amazon Customer', iid='B07HFHX6HX', r_ui=4.2, est=4.2, details={'actual_k': 5, 'was_impossible': False}),\n",
              " Prediction(uid='Cliente de Amazon', iid='B07SCJNSRT', r_ui=4.2, est=4.199999999999998, details={'actual_k': 5, 'was_impossible': False}),\n",
              " Prediction(uid='Branden Montgomery', iid='B0766HPGYP', r_ui=4.0, est=4.0, details={'actual_k': 1, 'was_impossible': False}),\n",
              " Prediction(uid='BARBARA WITCZAK', iid='B01D1J9BGU', r_ui=3.8, est=3.7664425299432653, details={'was_impossible': True, 'reason': 'User and/or item is unknown.'}),\n",
              " Prediction(uid='Amazon Customer', iid='B01H93TCCM', r_ui=3.6, est=3.6000000000000005, details={'actual_k': 5, 'was_impossible': False}),\n",
              " Prediction(uid='Alexander', iid='B07HD3QC65', r_ui=3.3, est=3.3000000000000003, details={'actual_k': 0, 'was_impossible': False}),\n",
              " Prediction(uid='Spring Baxter', iid='B00E6FGSHY', r_ui=3.7, est=3.7664425299432653, details={'was_impossible': True, 'reason': 'User and/or item is unknown.'}),\n",
              " Prediction(uid='Alex Miller', iid='B07536MYBQ', r_ui=3.9, est=3.7664425299432653, details={'was_impossible': True, 'reason': 'User and/or item is unknown.'}),\n",
              " Prediction(uid='Rajeswari', iid='B07PV7LN4X', r_ui=4.2, est=3.7664425299432653, details={'was_impossible': True, 'reason': 'User and/or item is unknown.'}),\n",
              " Prediction(uid='Brian', iid='B0192XJ0P6', r_ui=2.8, est=2.8000000000000003, details={'actual_k': 5, 'was_impossible': False}),\n",
              " Prediction(uid='wade anderson', iid='B07N4M412B', r_ui=4.2, est=3.7664425299432653, details={'was_impossible': True, 'reason': 'User and/or item is unknown.'}),\n",
              " Prediction(uid='Kevinadoh', iid='B0775451TT', r_ui=3.9, est=3.8999999999999995, details={'actual_k': 1, 'was_impossible': False}),\n",
              " Prediction(uid='Teneriffe M.', iid='B077MR13HM', r_ui=4.0, est=3.7664425299432653, details={'was_impossible': True, 'reason': 'User and/or item is unknown.'}),\n",
              " Prediction(uid='henry brown', iid='B013XAPUW6', r_ui=3.6, est=3.7664425299432653, details={'was_impossible': True, 'reason': 'User and/or item is unknown.'}),\n",
              " Prediction(uid='Morgan Vancouver Canada', iid='B07RB78W37', r_ui=3.7, est=3.7664425299432653, details={'was_impossible': True, 'reason': 'User and/or item is unknown.'}),\n",
              " Prediction(uid='iledviv', iid='B07HK4JNV1', r_ui=4.3, est=3.7664425299432653, details={'was_impossible': True, 'reason': 'User and/or item is unknown.'}),\n",
              " Prediction(uid='Pacho', iid='B079SQ5VHX', r_ui=4.3, est=3.7664425299432653, details={'was_impossible': True, 'reason': 'User and/or item is unknown.'}),\n",
              " Prediction(uid='Like_shopping_Amazon', iid='B07C6FCC8G', r_ui=4.4, est=4.3999999999999995, details={'actual_k': 0, 'was_impossible': False}),\n",
              " Prediction(uid='Ricsio Villalobos', iid='B07H8Q3C9T', r_ui=4.1, est=3.7664425299432653, details={'was_impossible': True, 'reason': 'User and/or item is unknown.'}),\n",
              " Prediction(uid='D. Sharp', iid='B004H23JXW', r_ui=3.4, est=3.7664425299432653, details={'was_impossible': True, 'reason': 'User and/or item is unknown.'}),\n",
              " Prediction(uid='Sarah sanchez', iid='B014V5XDV2', r_ui=3.2, est=3.7664425299432653, details={'was_impossible': True, 'reason': 'User and/or item is unknown.'}),\n",
              " Prediction(uid='BigG', iid='B071W9WQ8M', r_ui=3.8, est=3.7664425299432653, details={'was_impossible': True, 'reason': 'User and/or item is unknown.'}),\n",
              " Prediction(uid='brahim karima', iid='B07G7N1MD2', r_ui=3.8, est=3.7664425299432653, details={'was_impossible': True, 'reason': 'User and/or item is unknown.'}),\n",
              " Prediction(uid='Lauren', iid='B00836Y6B2', r_ui=3.2, est=3.1999999999999997, details={'actual_k': 0, 'was_impossible': False}),\n",
              " Prediction(uid='Héctor Reyes', iid='B071ZDQ6MV', r_ui=3.7, est=3.7664425299432653, details={'was_impossible': True, 'reason': 'User and/or item is unknown.'}),\n",
              " Prediction(uid='Gerardo R.', iid='B074VFRKZG', r_ui=4.1, est=3.7664425299432653, details={'was_impossible': True, 'reason': 'User and/or item is unknown.'}),\n",
              " Prediction(uid='Joshua R', iid='B01N5BOBIF', r_ui=3.0, est=3.7664425299432653, details={'was_impossible': True, 'reason': 'User and/or item is unknown.'}),\n",
              " Prediction(uid='James Conrad', iid='B07CHWMYHP', r_ui=4.1, est=3.7664425299432653, details={'was_impossible': True, 'reason': 'User and/or item is unknown.'}),\n",
              " Prediction(uid='Nabil M.', iid='B01D1J9BGU', r_ui=3.8, est=3.7664425299432653, details={'was_impossible': True, 'reason': 'User and/or item is unknown.'}),\n",
              " Prediction(uid='Angel lynn', iid='B00A2V7BA4', r_ui=3.4, est=3.7664425299432653, details={'was_impossible': True, 'reason': 'User and/or item is unknown.'}),\n",
              " Prediction(uid='MAGNUS FRANCIS PROFILE', iid='B00VH2TWBS', r_ui=3.1, est=3.7664425299432653, details={'was_impossible': True, 'reason': 'User and/or item is unknown.'}),\n",
              " Prediction(uid='daniel gonzalez', iid='B07RWFC6NY', r_ui=4.4, est=3.7664425299432653, details={'was_impossible': True, 'reason': 'User and/or item is unknown.'}),\n",
              " Prediction(uid='Alejandra', iid='B07QB8QYYZ', r_ui=4.4, est=4.4, details={'actual_k': 0, 'was_impossible': False}),\n",
              " Prediction(uid='Earthy Girl', iid='B01CJ3SF02', r_ui=3.8, est=3.7664425299432653, details={'was_impossible': True, 'reason': 'User and/or item is unknown.'}),\n",
              " Prediction(uid='Tricia', iid='B01DZ2CS4U', r_ui=3.2, est=3.2, details={'actual_k': 1, 'was_impossible': False}),\n",
              " Prediction(uid='Diana Hill', iid='B06XW9RMYW', r_ui=3.5, est=3.7664425299432653, details={'was_impossible': True, 'reason': 'User and/or item is unknown.'}),\n",
              " Prediction(uid='Cheryl Batten', iid='B00F2SKPIM', r_ui=3.9, est=3.7664425299432653, details={'was_impossible': True, 'reason': 'User and/or item is unknown.'}),\n",
              " Prediction(uid='Jacob M', iid='B07R4PP7FF', r_ui=4.5, est=3.7664425299432653, details={'was_impossible': True, 'reason': 'User and/or item is unknown.'}),\n",
              " Prediction(uid='LZafft', iid='B00EP2BN00', r_ui=3.4, est=3.7664425299432653, details={'was_impossible': True, 'reason': 'User and/or item is unknown.'}),\n",
              " Prediction(uid='Amazon Customer', iid='B07QQYHSR5', r_ui=4.2, est=4.2, details={'actual_k': 5, 'was_impossible': False}),\n",
              " Prediction(uid='Amazon Customer', iid='B06XRJQX91', r_ui=3.6, est=3.6, details={'actual_k': 5, 'was_impossible': False}),\n",
              " Prediction(uid='Danielle', iid='B00A2V7BA4', r_ui=3.4, est=3.3999999999999986, details={'actual_k': 2, 'was_impossible': False}),\n",
              " Prediction(uid='Calvin c Johnson', iid='B06XRG6S73', r_ui=3.7, est=3.7664425299432653, details={'was_impossible': True, 'reason': 'User and/or item is unknown.'}),\n",
              " Prediction(uid='jamisan', iid='B00OEK6TWU', r_ui=3.6, est=3.7664425299432653, details={'was_impossible': True, 'reason': 'User and/or item is unknown.'}),\n",
              " Prediction(uid='Rice', iid='B00JYR6GGM', r_ui=3.3, est=3.7664425299432653, details={'was_impossible': True, 'reason': 'User and/or item is unknown.'}),\n",
              " Prediction(uid='CHRIS EVARD', iid='B002WTC1NG', r_ui=3.6, est=3.7664425299432653, details={'was_impossible': True, 'reason': 'User and/or item is unknown.'}),\n",
              " Prediction(uid='AT maintainer', iid='B07NPRQYP1', r_ui=4.0, est=3.7664425299432653, details={'was_impossible': True, 'reason': 'User and/or item is unknown.'}),\n",
              " Prediction(uid='coach george', iid='B0731KVYPN', r_ui=3.2, est=3.7664425299432653, details={'was_impossible': True, 'reason': 'User and/or item is unknown.'}),\n",
              " Prediction(uid='Pablo Ibarra Duprat', iid='B07CHWMYHP', r_ui=4.1, est=3.7664425299432653, details={'was_impossible': True, 'reason': 'User and/or item is unknown.'}),\n",
              " Prediction(uid='Iuliia', iid='B07Q26V49K', r_ui=4.5, est=3.7664425299432653, details={'was_impossible': True, 'reason': 'User and/or item is unknown.'}),\n",
              " Prediction(uid='Customer', iid='B07N91S9MW', r_ui=4.1, est=4.1000000000000005, details={'actual_k': 5, 'was_impossible': False}),\n",
              " Prediction(uid='ryssee', iid='B07536MYBQ', r_ui=3.9, est=3.7664425299432653, details={'was_impossible': True, 'reason': 'User and/or item is unknown.'}),\n",
              " Prediction(uid='Ce Xiong', iid='B01D1J9BGU', r_ui=3.8, est=3.7664425299432653, details={'was_impossible': True, 'reason': 'User and/or item is unknown.'}),\n",
              " Prediction(uid='Elizabeth M Wilbourn', iid='B07L543G3M', r_ui=4.1, est=3.7664425299432653, details={'was_impossible': True, 'reason': 'User and/or item is unknown.'}),\n",
              " Prediction(uid='M. Kratzer', iid='B07JMPGNHK', r_ui=4.5, est=3.7664425299432653, details={'was_impossible': True, 'reason': 'User and/or item is unknown.'}),\n",
              " Prediction(uid='Josh C', iid='B07HD3QC65', r_ui=3.3, est=3.3000000000000003, details={'actual_k': 0, 'was_impossible': False}),\n",
              " Prediction(uid='kyle miller', iid='B00HPP3QD6', r_ui=4.0, est=3.7664425299432653, details={'was_impossible': True, 'reason': 'User and/or item is unknown.'}),\n",
              " Prediction(uid='C-Dub', iid='B07C6FCC8G', r_ui=4.4, est=3.7664425299432653, details={'was_impossible': True, 'reason': 'User and/or item is unknown.'}),\n",
              " Prediction(uid='Steve Donato', iid='B01N1Q6V7K', r_ui=3.6, est=3.7664425299432653, details={'was_impossible': True, 'reason': 'User and/or item is unknown.'}),\n",
              " Prediction(uid='Nicholas Saam', iid='B0787V183F', r_ui=3.7, est=3.7664425299432653, details={'was_impossible': True, 'reason': 'User and/or item is unknown.'}),\n",
              " Prediction(uid='Saswat Dash', iid='B07HD3QC65', r_ui=3.3, est=3.7664425299432653, details={'was_impossible': True, 'reason': 'User and/or item is unknown.'}),\n",
              " Prediction(uid='Amazon Customer', iid='B07G8VPHG3', r_ui=4.3, est=4.299999999999999, details={'actual_k': 5, 'was_impossible': False}),\n",
              " Prediction(uid='Hadas', iid='B01I0HP1Z8', r_ui=2.9, est=3.7664425299432653, details={'was_impossible': True, 'reason': 'User and/or item is unknown.'}),\n",
              " Prediction(uid='Cecil Neville III', iid='B00E6FGSHY', r_ui=3.7, est=3.7664425299432653, details={'was_impossible': True, 'reason': 'User and/or item is unknown.'}),\n",
              " Prediction(uid='Rene Garcia', iid='B00CEKXZA6', r_ui=3.8, est=3.7664425299432653, details={'was_impossible': True, 'reason': 'User and/or item is unknown.'}),\n",
              " Prediction(uid='Amazon Customer', iid='B07NZX5BKH', r_ui=4.3, est=4.299999999999999, details={'actual_k': 5, 'was_impossible': False}),\n",
              " Prediction(uid='Monique Walker', iid='B00836Y6B2', r_ui=3.2, est=3.7664425299432653, details={'was_impossible': True, 'reason': 'User and/or item is unknown.'}),\n",
              " Prediction(uid='AmazonUser', iid='B01FJT7MZC', r_ui=3.9, est=3.8999999999999977, details={'actual_k': 1, 'was_impossible': False}),\n",
              " Prediction(uid='Roberta C.', iid='B01BHEBDVW', r_ui=3.1, est=3.7664425299432653, details={'was_impossible': True, 'reason': 'User and/or item is unknown.'}),\n",
              " Prediction(uid='Tawana', iid='B07SCJNSRT', r_ui=4.2, est=3.7664425299432653, details={'was_impossible': True, 'reason': 'User and/or item is unknown.'}),\n",
              " Prediction(uid='Race brant', iid='B07NPRQYP1', r_ui=4.0, est=3.7664425299432653, details={'was_impossible': True, 'reason': 'User and/or item is unknown.'}),\n",
              " Prediction(uid='Norma Smith', iid='B07Q84DPZH', r_ui=4.1, est=3.7664425299432653, details={'was_impossible': True, 'reason': 'User and/or item is unknown.'}),\n",
              " Prediction(uid='shalom horowitz', iid='B008PAW5EQ', r_ui=3.7, est=3.7664425299432653, details={'was_impossible': True, 'reason': 'User and/or item is unknown.'}),\n",
              " Prediction(uid='Imelda', iid='B0731HBTZ7', r_ui=3.8, est=3.7664425299432653, details={'was_impossible': True, 'reason': 'User and/or item is unknown.'}),\n",
              " Prediction(uid='Artem P.', iid='B06X9X15Y8', r_ui=3.9, est=3.9000000000000004, details={'actual_k': 1, 'was_impossible': False}),\n",
              " Prediction(uid='Lana Phelps', iid='B07Q84DPZH', r_ui=4.1, est=3.7664425299432653, details={'was_impossible': True, 'reason': 'User and/or item is unknown.'}),\n",
              " Prediction(uid='Alejandra', iid='B00MWI4KKE', r_ui=3.5, est=3.5, details={'actual_k': 0, 'was_impossible': False}),\n",
              " Prediction(uid='Amazon Customer', iid='B013XAPUW6', r_ui=3.6, est=3.6, details={'actual_k': 5, 'was_impossible': False}),\n",
              " Prediction(uid='Amazon Customer', iid='B00LAEA84S', r_ui=3.2, est=3.2, details={'actual_k': 5, 'was_impossible': False}),\n",
              " Prediction(uid='Matt', iid='B07NZXXZB2', r_ui=4.4, est=4.399999999999999, details={'actual_k': 5, 'was_impossible': False}),\n",
              " Prediction(uid='LLF', iid='B00ZE8HRYK', r_ui=3.7, est=3.7664425299432653, details={'was_impossible': True, 'reason': 'User and/or item is unknown.'}),\n",
              " Prediction(uid='Patricia', iid='B00F2SKPIM', r_ui=3.9, est=3.899999999999999, details={'actual_k': 4, 'was_impossible': False}),\n",
              " Prediction(uid='Cinders', iid='B00NKR9MJA', r_ui=3.2, est=3.7664425299432653, details={'was_impossible': True, 'reason': 'User and/or item is unknown.'}),\n",
              " Prediction(uid='Old Grouch', iid='B077YTCMH9', r_ui=3.8, est=3.8000000000000003, details={'actual_k': 1, 'was_impossible': False}),\n",
              " Prediction(uid='b chalmers', iid='B07N9M9FX4', r_ui=4.1, est=3.7664425299432653, details={'was_impossible': True, 'reason': 'User and/or item is unknown.'}),\n",
              " Prediction(uid='BarBon', iid='B00F2SKPIM', r_ui=3.9, est=3.7664425299432653, details={'was_impossible': True, 'reason': 'User and/or item is unknown.'}),\n",
              " Prediction(uid='Linda', iid='B0096QYH80', r_ui=3.0, est=3.0000000000000004, details={'actual_k': 5, 'was_impossible': False}),\n",
              " Prediction(uid='JOSE DIAZ', iid='B071H9KKKF', r_ui=4.0, est=3.7664425299432653, details={'was_impossible': True, 'reason': 'User and/or item is unknown.'}),\n",
              " Prediction(uid='leslie hamilton', iid='B00CEKXJ3Y', r_ui=3.5, est=3.7664425299432653, details={'was_impossible': True, 'reason': 'User and/or item is unknown.'}),\n",
              " Prediction(uid='Samantha', iid='B00ZE8HRYK', r_ui=3.7, est=3.7000000000000006, details={'actual_k': 5, 'was_impossible': False}),\n",
              " Prediction(uid='Alexis eggleston', iid='B079SQ5VHX', r_ui=4.3, est=3.7664425299432653, details={'was_impossible': True, 'reason': 'User and/or item is unknown.'}),\n",
              " Prediction(uid='Fmani', iid='B079C1K282', r_ui=4.1, est=3.7664425299432653, details={'was_impossible': True, 'reason': 'User and/or item is unknown.'}),\n",
              " Prediction(uid='obc', iid='B07N91S9MW', r_ui=4.1, est=3.7664425299432653, details={'was_impossible': True, 'reason': 'User and/or item is unknown.'}),\n",
              " Prediction(uid='Amazon Customer', iid='B0096QYH80', r_ui=3.0, est=3.0, details={'actual_k': 5, 'was_impossible': False}),\n",
              " Prediction(uid='Hao Nguyen', iid='B07JHXX5YR', r_ui=3.9, est=3.8999999999999986, details={'actual_k': 0, 'was_impossible': False}),\n",
              " Prediction(uid='Tammy', iid='B002WTC1NG', r_ui=3.6, est=3.600000000000001, details={'actual_k': 5, 'was_impossible': False}),\n",
              " Prediction(uid='Amazon Customer', iid='B07JML1XPT', r_ui=4.1, est=4.1, details={'actual_k': 5, 'was_impossible': False}),\n",
              " Prediction(uid='N. Trotter', iid='B07HD3QC65', r_ui=3.3, est=3.3000000000000003, details={'actual_k': 0, 'was_impossible': False}),\n",
              " Prediction(uid='Adam Roseland', iid='B01CJ3SCJ6', r_ui=3.2, est=3.7664425299432653, details={'was_impossible': True, 'reason': 'User and/or item is unknown.'}),\n",
              " Prediction(uid='bfrisby', iid='B01E7FK14S', r_ui=3.9, est=3.7664425299432653, details={'was_impossible': True, 'reason': 'User and/or item is unknown.'}),\n",
              " Prediction(uid='Kylie Clay', iid='B077ZKKDWK', r_ui=3.8, est=3.7664425299432653, details={'was_impossible': True, 'reason': 'User and/or item is unknown.'}),\n",
              " Prediction(uid='edstor', iid='B0799ZMY6D', r_ui=4.1, est=3.7664425299432653, details={'was_impossible': True, 'reason': 'User and/or item is unknown.'}),\n",
              " Prediction(uid='MGM', iid='B01M59QP6C', r_ui=3.2, est=3.7664425299432653, details={'was_impossible': True, 'reason': 'User and/or item is unknown.'}),\n",
              " Prediction(uid='Paul H.', iid='B01CYYYRNK', r_ui=3.1, est=3.1000000000000014, details={'actual_k': 2, 'was_impossible': False}),\n",
              " Prediction(uid='ike', iid='B077V219SV', r_ui=3.3, est=3.7664425299432653, details={'was_impossible': True, 'reason': 'User and/or item is unknown.'}),\n",
              " Prediction(uid='Steve', iid='B07HKPMFZ5', r_ui=4.0, est=4.0, details={'actual_k': 5, 'was_impossible': False}),\n",
              " Prediction(uid='PETER', iid='B07CMBB6PH', r_ui=4.3, est=3.7664425299432653, details={'was_impossible': True, 'reason': 'User and/or item is unknown.'}),\n",
              " Prediction(uid='soytigre', iid='B01N4E0RF1', r_ui=3.8, est=3.7664425299432653, details={'was_impossible': True, 'reason': 'User and/or item is unknown.'}),\n",
              " Prediction(uid='Brooke', iid='B00CGIULGC', r_ui=3.2, est=3.2000000000000006, details={'actual_k': 0, 'was_impossible': False}),\n",
              " Prediction(uid='William Finnegan', iid='B01M59QP6C', r_ui=3.2, est=3.7664425299432653, details={'was_impossible': True, 'reason': 'User and/or item is unknown.'}),\n",
              " Prediction(uid='Lisa', iid='B00X2ZQ5RM', r_ui=2.8, est=2.800000000000001, details={'actual_k': 2, 'was_impossible': False}),\n",
              " Prediction(uid='E. Hill', iid='B07Q2X19LG', r_ui=4.5, est=3.7664425299432653, details={'was_impossible': True, 'reason': 'User and/or item is unknown.'}),\n",
              " Prediction(uid='The Wake', iid='B074P62MW8', r_ui=3.8, est=3.7664425299432653, details={'was_impossible': True, 'reason': 'User and/or item is unknown.'}),\n",
              " Prediction(uid='Rebecca Bennett', iid='B00OZTSY6Y', r_ui=3.6, est=3.7664425299432653, details={'was_impossible': True, 'reason': 'User and/or item is unknown.'}),\n",
              " Prediction(uid='Francisco Rodriguez', iid='B01LEL8ABY', r_ui=3.0, est=3.7664425299432653, details={'was_impossible': True, 'reason': 'User and/or item is unknown.'}),\n",
              " Prediction(uid='Francesco V.', iid='B06XS2GWFC', r_ui=3.6, est=3.7664425299432653, details={'was_impossible': True, 'reason': 'User and/or item is unknown.'}),\n",
              " Prediction(uid='Perla D. Mondriguez', iid='B07ND4ZN2X', r_ui=4.6, est=3.7664425299432653, details={'was_impossible': True, 'reason': 'User and/or item is unknown.'}),\n",
              " Prediction(uid='elieb', iid='B07RWFC6NY', r_ui=4.4, est=3.7664425299432653, details={'was_impossible': True, 'reason': 'User and/or item is unknown.'}),\n",
              " Prediction(uid='NancyJo', iid='B00CEKXJ3Y', r_ui=3.5, est=3.5000000000000004, details={'actual_k': 1, 'was_impossible': False}),\n",
              " Prediction(uid='Colin Hilbert', iid='B06X9HVVC5', r_ui=3.0, est=3.0, details={'actual_k': 0, 'was_impossible': False}),\n",
              " Prediction(uid='Kailash Garg', iid='B00KM10ITK', r_ui=3.5, est=3.7664425299432653, details={'was_impossible': True, 'reason': 'User and/or item is unknown.'}),\n",
              " Prediction(uid='Jonathan Megevand', iid='B0192XJ0P6', r_ui=2.8, est=3.7664425299432653, details={'was_impossible': True, 'reason': 'User and/or item is unknown.'}),\n",
              " Prediction(uid='carolina.country', iid='B07N91S9MW', r_ui=4.1, est=4.100000000000001, details={'actual_k': 0, 'was_impossible': False}),\n",
              " Prediction(uid='J. Barry Ryan', iid='B07Q26V49K', r_ui=4.5, est=4.5, details={'actual_k': 0, 'was_impossible': False}),\n",
              " Prediction(uid='E. VanV', iid='B014V5XDV2', r_ui=3.2, est=3.7664425299432653, details={'was_impossible': True, 'reason': 'User and/or item is unknown.'}),\n",
              " Prediction(uid='frank', iid='B075FL4H89', r_ui=3.4, est=3.3999999999999995, details={'actual_k': 1, 'was_impossible': False}),\n",
              " Prediction(uid='carlos lamanna', iid='B07G7QZKBG', r_ui=4.2, est=3.7664425299432653, details={'was_impossible': True, 'reason': 'User and/or item is unknown.'}),\n",
              " Prediction(uid='Amazon Customer', iid='B07PY52GVP', r_ui=4.4, est=4.4, details={'actual_k': 5, 'was_impossible': False}),\n",
              " Prediction(uid='Ihab', iid='B07YMNLXL3', r_ui=4.2, est=3.7664425299432653, details={'was_impossible': True, 'reason': 'User and/or item is unknown.'}),\n",
              " Prediction(uid='Euniqua Smith', iid='B013XAPUW6', r_ui=3.6, est=3.7664425299432653, details={'was_impossible': True, 'reason': 'User and/or item is unknown.'}),\n",
              " Prediction(uid='Kelly', iid='B00XQVDW6Y', r_ui=3.7, est=3.7, details={'actual_k': 1, 'was_impossible': False}),\n",
              " Prediction(uid='andy philley', iid='B0775451TT', r_ui=3.9, est=3.7664425299432653, details={'was_impossible': True, 'reason': 'User and/or item is unknown.'}),\n",
              " Prediction(uid='Adriana Lanas', iid='B07ZDJCL76', r_ui=4.4, est=3.7664425299432653, details={'was_impossible': True, 'reason': 'User and/or item is unknown.'}),\n",
              " Prediction(uid='Luis alejandro', iid='B07K1M36CM', r_ui=4.6, est=3.7664425299432653, details={'was_impossible': True, 'reason': 'User and/or item is unknown.'}),\n",
              " Prediction(uid='Kindle Customer', iid='B07YQ58NPF', r_ui=4.6, est=4.6000000000000005, details={'actual_k': 5, 'was_impossible': False}),\n",
              " Prediction(uid='T. Dunham', iid='B00JH2WF0K', r_ui=3.2, est=3.7664425299432653, details={'was_impossible': True, 'reason': 'User and/or item is unknown.'}),\n",
              " Prediction(uid='sweetheartlust', iid='B077YTCMH9', r_ui=3.8, est=3.7664425299432653, details={'was_impossible': True, 'reason': 'User and/or item is unknown.'}),\n",
              " Prediction(uid='ambrose', iid='B01N9R1JA7', r_ui=3.7, est=3.7664425299432653, details={'was_impossible': True, 'reason': 'User and/or item is unknown.'}),\n",
              " Prediction(uid='Ed D.', iid='B00VH2TWBS', r_ui=3.1, est=3.7664425299432653, details={'was_impossible': True, 'reason': 'User and/or item is unknown.'}),\n",
              " Prediction(uid='demercredi', iid='B00F2SKPIM', r_ui=3.9, est=3.7664425299432653, details={'was_impossible': True, 'reason': 'User and/or item is unknown.'}),\n",
              " Prediction(uid='Ana', iid='B01MDMJGYT', r_ui=4.1, est=4.100000000000001, details={'actual_k': 5, 'was_impossible': False}),\n",
              " Prediction(uid='Elizabeth C.', iid='B01N9XOXCK', r_ui=3.8, est=3.7999999999999994, details={'actual_k': 1, 'was_impossible': False}),\n",
              " Prediction(uid='Irma benitez', iid='B07H8Q3C9T', r_ui=4.1, est=3.7664425299432653, details={'was_impossible': True, 'reason': 'User and/or item is unknown.'}),\n",
              " Prediction(uid='tyson streeter', iid='B075FLG6MV', r_ui=3.1, est=3.7664425299432653, details={'was_impossible': True, 'reason': 'User and/or item is unknown.'}),\n",
              " Prediction(uid='Chris Patrick', iid='B079C1K282', r_ui=4.1, est=3.7664425299432653, details={'was_impossible': True, 'reason': 'User and/or item is unknown.'}),\n",
              " Prediction(uid='Amazon Customer', iid='B00ZE8HRYK', r_ui=3.7, est=3.7, details={'actual_k': 5, 'was_impossible': False}),\n",
              " Prediction(uid='areli castro parra', iid='B07H41NB46', r_ui=4.3, est=3.7664425299432653, details={'was_impossible': True, 'reason': 'User and/or item is unknown.'}),\n",
              " Prediction(uid='Subha Rachel Mathew', iid='B00MWI4KKE', r_ui=3.5, est=3.7664425299432653, details={'was_impossible': True, 'reason': 'User and/or item is unknown.'}),\n",
              " Prediction(uid='Amazon Customer', iid='B00WHE2WCG', r_ui=2.9, est=2.9, details={'actual_k': 5, 'was_impossible': False}),\n",
              " Prediction(uid='A. Adkins', iid='B00CEKXJ3Y', r_ui=3.5, est=3.7664425299432653, details={'was_impossible': True, 'reason': 'User and/or item is unknown.'}),\n",
              " Prediction(uid='Melinda Kirgan', iid='B01NC2MEJP', r_ui=3.2, est=3.7664425299432653, details={'was_impossible': True, 'reason': 'User and/or item is unknown.'}),\n",
              " Prediction(uid='Amazon Customer', iid='B07JNKYBZ4', r_ui=4.5, est=4.5, details={'actual_k': 5, 'was_impossible': False}),\n",
              " Prediction(uid='rwrife', iid='B07643YNY8', r_ui=3.8, est=3.7664425299432653, details={'was_impossible': True, 'reason': 'User and/or item is unknown.'}),\n",
              " Prediction(uid='Rudder', iid='B00OZTSY6Y', r_ui=3.6, est=3.7664425299432653, details={'was_impossible': True, 'reason': 'User and/or item is unknown.'}),\n",
              " Prediction(uid='Jay', iid='B01N4E0RF1', r_ui=3.8, est=3.8, details={'actual_k': 5, 'was_impossible': False}),\n",
              " Prediction(uid='Paul T.', iid='B00WHE2WCG', r_ui=2.9, est=3.7664425299432653, details={'was_impossible': True, 'reason': 'User and/or item is unknown.'}),\n",
              " Prediction(uid='DANILO CAMACHO', iid='B07VB9MMMW', r_ui=4.5, est=3.7664425299432653, details={'was_impossible': True, 'reason': 'User and/or item is unknown.'}),\n",
              " Prediction(uid='Paul Correa', iid='B07Q6ZZ4S1', r_ui=4.3, est=3.7664425299432653, details={'was_impossible': True, 'reason': 'User and/or item is unknown.'}),\n",
              " Prediction(uid='Ruben', iid='B014GCG150', r_ui=4.1, est=4.100000000000001, details={'actual_k': 0, 'was_impossible': False}),\n",
              " Prediction(uid='Bruin Fan', iid='B00LAEA84S', r_ui=3.2, est=3.7664425299432653, details={'was_impossible': True, 'reason': 'User and/or item is unknown.'}),\n",
              " Prediction(uid='Amazon Customer', iid='B00O15MWOM', r_ui=3.2, est=3.2, details={'actual_k': 5, 'was_impossible': False}),\n",
              " Prediction(uid='Eddie', iid='B07QGG4654', r_ui=4.3, est=4.3000000000000025, details={'actual_k': 2, 'was_impossible': False}),\n",
              " Prediction(uid='lochmander', iid='B00LAEA84S', r_ui=3.2, est=3.7664425299432653, details={'was_impossible': True, 'reason': 'User and/or item is unknown.'}),\n",
              " Prediction(uid='Buck Wheat', iid='B07C2VFMN2', r_ui=4.1, est=3.7664425299432653, details={'was_impossible': True, 'reason': 'User and/or item is unknown.'}),\n",
              " Prediction(uid='WashingtonMom', iid='B01D1J9BGU', r_ui=3.8, est=3.7664425299432653, details={'was_impossible': True, 'reason': 'User and/or item is unknown.'}),\n",
              " Prediction(uid='aNOOP', iid='B00836Y6B2', r_ui=3.2, est=3.7664425299432653, details={'was_impossible': True, 'reason': 'User and/or item is unknown.'}),\n",
              " Prediction(uid='Amazon Customer', iid='B00CEKXJ3Y', r_ui=3.5, est=3.5, details={'actual_k': 5, 'was_impossible': False}),\n",
              " Prediction(uid='Joellyn R.', iid='B002UHS0UI', r_ui=2.7, est=3.7664425299432653, details={'was_impossible': True, 'reason': 'User and/or item is unknown.'}),\n",
              " Prediction(uid='David M', iid='B013XAPUW6', r_ui=3.6, est=3.599999999999999, details={'actual_k': 3, 'was_impossible': False}),\n",
              " Prediction(uid='Manuel D.', iid='B07CMBB6PH', r_ui=4.3, est=3.7664425299432653, details={'was_impossible': True, 'reason': 'User and/or item is unknown.'}),\n",
              " Prediction(uid='Iandc', iid='B07FM9913M', r_ui=4.2, est=3.7664425299432653, details={'was_impossible': True, 'reason': 'User and/or item is unknown.'}),\n",
              " Prediction(uid='Jason LeRoy', iid='B01N064CH1', r_ui=3.3, est=3.7664425299432653, details={'was_impossible': True, 'reason': 'User and/or item is unknown.'}),\n",
              " Prediction(uid='caio', iid='B01M01YX15', r_ui=3.5, est=3.7664425299432653, details={'was_impossible': True, 'reason': 'User and/or item is unknown.'}),\n",
              " Prediction(uid='Amazon Customer', iid='B072N3GKSM', r_ui=2.9, est=2.9, details={'actual_k': 5, 'was_impossible': False}),\n",
              " Prediction(uid='W. Fitzpatrick', iid='B07C6FCC8G', r_ui=4.4, est=3.7664425299432653, details={'was_impossible': True, 'reason': 'User and/or item is unknown.'}),\n",
              " Prediction(uid='Stephen Adkins', iid='B01N1Q6V7K', r_ui=3.6, est=3.7664425299432653, details={'was_impossible': True, 'reason': 'User and/or item is unknown.'}),\n",
              " Prediction(uid='Steve', iid='B07HFHX6HX', r_ui=4.2, est=4.200000000000001, details={'actual_k': 5, 'was_impossible': False}),\n",
              " Prediction(uid='emmanuel', iid='B07Q26V49K', r_ui=4.5, est=4.5, details={'actual_k': 1, 'was_impossible': False}),\n",
              " Prediction(uid='ANTONIO MUNIZ', iid='B079142R7Y', r_ui=3.5, est=3.7664425299432653, details={'was_impossible': True, 'reason': 'User and/or item is unknown.'}),\n",
              " Prediction(uid='Shawn', iid='B072QR6NKG', r_ui=3.9, est=3.9, details={'actual_k': 5, 'was_impossible': False}),\n",
              " Prediction(uid='Ceecee', iid='B07RWFC6NY', r_ui=4.4, est=3.7664425299432653, details={'was_impossible': True, 'reason': 'User and/or item is unknown.'}),\n",
              " Prediction(uid='Ankle Spanker', iid='B06Y2GX8K8', r_ui=4.0, est=3.7664425299432653, details={'was_impossible': True, 'reason': 'User and/or item is unknown.'}),\n",
              " Prediction(uid='Amazon Customer', iid='B06XR8G1TX', r_ui=3.5, est=3.5, details={'actual_k': 5, 'was_impossible': False}),\n",
              " Prediction(uid='sunder', iid='B07QP9R469', r_ui=3.7, est=3.7664425299432653, details={'was_impossible': True, 'reason': 'User and/or item is unknown.'}),\n",
              " Prediction(uid='PuppyBear', iid='B002UHS0UI', r_ui=2.7, est=3.7664425299432653, details={'was_impossible': True, 'reason': 'User and/or item is unknown.'}),\n",
              " Prediction(uid='Vishnu Roopnarine', iid='B07NC3N3Z8', r_ui=4.3, est=3.7664425299432653, details={'was_impossible': True, 'reason': 'User and/or item is unknown.'}),\n",
              " Prediction(uid='Trenton', iid='B071ZDQ6MV', r_ui=3.7, est=3.7664425299432653, details={'was_impossible': True, 'reason': 'User and/or item is unknown.'}),\n",
              " Prediction(uid='Jason P.', iid='B07KKL5KGG', r_ui=3.9, est=3.9000000000000004, details={'actual_k': 1, 'was_impossible': False}),\n",
              " Prediction(uid='J. Paul', iid='B00F2SKPIM', r_ui=3.9, est=3.7664425299432653, details={'was_impossible': True, 'reason': 'User and/or item is unknown.'}),\n",
              " Prediction(uid='Debbie', iid='B00V7FY44A', r_ui=3.5, est=3.5000000000000013, details={'actual_k': 1, 'was_impossible': False}),\n",
              " Prediction(uid='Rosa Enriquez', iid='B014GCG150', r_ui=4.1, est=3.7664425299432653, details={'was_impossible': True, 'reason': 'User and/or item is unknown.'}),\n",
              " Prediction(uid='Marco R.', iid='B07QB8QYYZ', r_ui=4.4, est=3.7664425299432653, details={'was_impossible': True, 'reason': 'User and/or item is unknown.'}),\n",
              " Prediction(uid='Yaling Yang', iid='B07K1M36CM', r_ui=4.6, est=3.7664425299432653, details={'was_impossible': True, 'reason': 'User and/or item is unknown.'}),\n",
              " Prediction(uid='raynal for free yassssssssssssssssssssssssss', iid='B06XSF5C42', r_ui=3.5, est=3.7664425299432653, details={'was_impossible': True, 'reason': 'User and/or item is unknown.'}),\n",
              " Prediction(uid='Hernan Castria', iid='B07K4V3364', r_ui=3.4, est=3.7664425299432653, details={'was_impossible': True, 'reason': 'User and/or item is unknown.'}),\n",
              " Prediction(uid='rsmithga', iid='B07KFNRQ5S', r_ui=4.1, est=4.1, details={'actual_k': 1, 'was_impossible': False}),\n",
              " Prediction(uid='Nevan Hoffman', iid='B07STFZQ9Y', r_ui=3.3, est=3.3, details={'actual_k': 1, 'was_impossible': False}),\n",
              " Prediction(uid='Ashley Velazquez', iid='B01FIW1B9S', r_ui=3.8, est=3.8, details={'actual_k': 1, 'was_impossible': False}),\n",
              " Prediction(uid='Mikey', iid='B07RWFC6NY', r_ui=4.4, est=4.399999999999999, details={'actual_k': 1, 'was_impossible': False}),\n",
              " Prediction(uid='timothy g palmer', iid='B004H23JXW', r_ui=3.4, est=3.7664425299432653, details={'was_impossible': True, 'reason': 'User and/or item is unknown.'}),\n",
              " Prediction(uid='Leandro Medina Castillo', iid='B07YZLRS3Z', r_ui=4.6, est=3.7664425299432653, details={'was_impossible': True, 'reason': 'User and/or item is unknown.'}),\n",
              " Prediction(uid='Amazon Customer', iid='B0134TVNSQ', r_ui=3.9, est=3.9, details={'actual_k': 5, 'was_impossible': False}),\n",
              " Prediction(uid='Trevor N.', iid='B07FZH9BGV', r_ui=4.1, est=3.7664425299432653, details={'was_impossible': True, 'reason': 'User and/or item is unknown.'}),\n",
              " Prediction(uid='zhaishaozhuo', iid='B00HWEMZ1E', r_ui=3.8, est=3.7664425299432653, details={'was_impossible': True, 'reason': 'User and/or item is unknown.'}),\n",
              " Prediction(uid='MartinI', iid='B06XYKR7GP', r_ui=4.0, est=3.7664425299432653, details={'was_impossible': True, 'reason': 'User and/or item is unknown.'}),\n",
              " Prediction(uid='Juan Carlos Delgado', iid='B07PXV5GXJ', r_ui=4.4, est=3.7664425299432653, details={'was_impossible': True, 'reason': 'User and/or item is unknown.'}),\n",
              " Prediction(uid='nanabloc', iid='B009LRMQTG', r_ui=3.9, est=3.7664425299432653, details={'was_impossible': True, 'reason': 'User and/or item is unknown.'}),\n",
              " Prediction(uid='Ricardo', iid='B079SQ5VHX', r_ui=4.3, est=4.300000000000001, details={'actual_k': 4, 'was_impossible': False}),\n",
              " Prediction(uid='roberto', iid='B07RWFC6NY', r_ui=4.4, est=4.399999999999998, details={'actual_k': 2, 'was_impossible': False}),\n",
              " Prediction(uid='J. Brown', iid='B004GLQTG8', r_ui=3.5, est=3.5, details={'actual_k': 0, 'was_impossible': False}),\n",
              " Prediction(uid='Fran H.', iid='B07Q6ZNJNT', r_ui=4.2, est=3.7664425299432653, details={'was_impossible': True, 'reason': 'User and/or item is unknown.'}),\n",
              " Prediction(uid='E-ReaderTechieGuy', iid='B01D4Z97UG', r_ui=2.9, est=3.7664425299432653, details={'was_impossible': True, 'reason': 'User and/or item is unknown.'}),\n",
              " Prediction(uid='ERM', iid='B06Y16RL4W', r_ui=3.7, est=3.7664425299432653, details={'was_impossible': True, 'reason': 'User and/or item is unknown.'}),\n",
              " Prediction(uid='ashley', iid='B00F2SKPIM', r_ui=3.9, est=3.899999999999999, details={'actual_k': 4, 'was_impossible': False}),\n",
              " Prediction(uid='nikita annenkov', iid='B00ZE8HRYK', r_ui=3.7, est=3.7664425299432653, details={'was_impossible': True, 'reason': 'User and/or item is unknown.'}),\n",
              " Prediction(uid='Charles EC Smith', iid='B0786PRKBP', r_ui=4.0, est=4.0, details={'actual_k': 1, 'was_impossible': False}),\n",
              " Prediction(uid='Jason P.', iid='B00OEK6TWU', r_ui=3.6, est=3.6000000000000005, details={'actual_k': 0, 'was_impossible': False}),\n",
              " Prediction(uid='Epaph', iid='B00NO2WXM4', r_ui=3.9, est=3.8999999999999986, details={'actual_k': 0, 'was_impossible': False}),\n",
              " Prediction(uid='Leonid B.', iid='B079SQ5VHX', r_ui=4.3, est=3.7664425299432653, details={'was_impossible': True, 'reason': 'User and/or item is unknown.'}),\n",
              " Prediction(uid='Ron', iid='B0766TPHSH', r_ui=4.1, est=4.100000000000002, details={'actual_k': 5, 'was_impossible': False}),\n",
              " Prediction(uid='ramon miceli', iid='B01CJ3SCJ6', r_ui=3.2, est=3.2, details={'actual_k': 1, 'was_impossible': False}),\n",
              " Prediction(uid='Sophie', iid='B06XRJQX91', r_ui=3.6, est=3.6000000000000014, details={'actual_k': 1, 'was_impossible': False}),\n",
              " Prediction(uid='Drone Trevino', iid='B00F3JPKCG', r_ui=2.7, est=3.7664425299432653, details={'was_impossible': True, 'reason': 'User and/or item is unknown.'}),\n",
              " Prediction(uid='Amazon Customer', iid='B010V43VFA', r_ui=3.0, est=3.0, details={'actual_k': 5, 'was_impossible': False}),\n",
              " Prediction(uid='Scott Robinson', iid='B072N3GKSM', r_ui=2.9, est=3.7664425299432653, details={'was_impossible': True, 'reason': 'User and/or item is unknown.'}),\n",
              " Prediction(uid='Kim', iid='B009LRMQTG', r_ui=3.9, est=3.899999999999999, details={'actual_k': 5, 'was_impossible': False}),\n",
              " Prediction(uid='Ann Ross', iid='B06XW9RMYW', r_ui=3.5, est=3.5, details={'actual_k': 0, 'was_impossible': False}),\n",
              " Prediction(uid='B Klein', iid='B07753NSQZ', r_ui=4.0, est=3.7664425299432653, details={'was_impossible': True, 'reason': 'User and/or item is unknown.'}),\n",
              " Prediction(uid='Amazon Customer', iid='B07J4Z9647', r_ui=4.4, est=4.4, details={'actual_k': 5, 'was_impossible': False}),\n",
              " Prediction(uid='Scooter-Trash', iid='B0096QYH80', r_ui=3.0, est=3.0, details={'actual_k': 1, 'was_impossible': False}),\n",
              " Prediction(uid='RoseP', iid='B018OMP8ES', r_ui=3.6, est=3.7664425299432653, details={'was_impossible': True, 'reason': 'User and/or item is unknown.'}),\n",
              " Prediction(uid='Adriana Leon', iid='B07HKQJ6H1', r_ui=3.9, est=3.7664425299432653, details={'was_impossible': True, 'reason': 'User and/or item is unknown.'}),\n",
              " Prediction(uid='Joyful630', iid='B00V7FY44A', r_ui=3.5, est=3.7664425299432653, details={'was_impossible': True, 'reason': 'User and/or item is unknown.'}),\n",
              " Prediction(uid='Judy Shelly', iid='B013XAPUW6', r_ui=3.6, est=3.5999999999999996, details={'actual_k': 1, 'was_impossible': False}),\n",
              " Prediction(uid='Michael White', iid='B00EP2BN00', r_ui=3.4, est=3.7664425299432653, details={'was_impossible': True, 'reason': 'User and/or item is unknown.'}),\n",
              " Prediction(uid='Scott McCrary', iid='B01LY3OB8D', r_ui=3.9, est=3.7664425299432653, details={'was_impossible': True, 'reason': 'User and/or item is unknown.'}),\n",
              " Prediction(uid='PatRat', iid='B01N4E0RF1', r_ui=3.8, est=3.7664425299432653, details={'was_impossible': True, 'reason': 'User and/or item is unknown.'}),\n",
              " Prediction(uid='Amy', iid='B071JP8XDJ', r_ui=3.6, est=3.6, details={'actual_k': 3, 'was_impossible': False}),\n",
              " Prediction(uid='dissappointed customer', iid='B077YTCMH9', r_ui=3.8, est=3.7664425299432653, details={'was_impossible': True, 'reason': 'User and/or item is unknown.'}),\n",
              " Prediction(uid='rolando rosa', iid='B07C2VFMN2', r_ui=4.1, est=3.7664425299432653, details={'was_impossible': True, 'reason': 'User and/or item is unknown.'}),\n",
              " Prediction(uid='Oliver R.', iid='B07K3X5JTP', r_ui=4.5, est=3.7664425299432653, details={'was_impossible': True, 'reason': 'User and/or item is unknown.'}),\n",
              " Prediction(uid='Suzanne Reedy', iid='B00VH2TWBS', r_ui=3.1, est=3.7664425299432653, details={'was_impossible': True, 'reason': 'User and/or item is unknown.'}),\n",
              " Prediction(uid='Sohail F.', iid='B074VFRKZG', r_ui=4.1, est=3.7664425299432653, details={'was_impossible': True, 'reason': 'User and/or item is unknown.'}),\n",
              " Prediction(uid='holly', iid='B00NKR9MJA', r_ui=3.2, est=3.1999999999999997, details={'actual_k': 2, 'was_impossible': False}),\n",
              " Prediction(uid='NYC', iid='B07Q2X19LG', r_ui=4.5, est=3.7664425299432653, details={'was_impossible': True, 'reason': 'User and/or item is unknown.'}),\n",
              " Prediction(uid='Ariana Holverson', iid='B011AC4U7A', r_ui=3.3, est=3.7664425299432653, details={'was_impossible': True, 'reason': 'User and/or item is unknown.'}),\n",
              " Prediction(uid='Cindy Jackson', iid='B002WTC1NG', r_ui=3.6, est=3.7664425299432653, details={'was_impossible': True, 'reason': 'User and/or item is unknown.'}),\n",
              " Prediction(uid='Marcelo', iid='B01EIVMETG', r_ui=3.2, est=3.1999999999999993, details={'actual_k': 3, 'was_impossible': False}),\n",
              " Prediction(uid='James Johnson', iid='B00CEKXJ3Y', r_ui=3.5, est=3.7664425299432653, details={'was_impossible': True, 'reason': 'User and/or item is unknown.'}),\n",
              " Prediction(uid='Amazon Customer', iid='B00LAEA84S', r_ui=3.2, est=3.2, details={'actual_k': 5, 'was_impossible': False}),\n",
              " Prediction(uid='James Li', iid='B01FJT7MZC', r_ui=3.9, est=3.7664425299432653, details={'was_impossible': True, 'reason': 'User and/or item is unknown.'}),\n",
              " Prediction(uid='Rhonald Misael Apontes', iid='B06XGZHSBS', r_ui=3.7, est=3.7664425299432653, details={'was_impossible': True, 'reason': 'User and/or item is unknown.'}),\n",
              " Prediction(uid='Edgar Aguilar', iid='B077578W38', r_ui=3.9, est=3.7664425299432653, details={'was_impossible': True, 'reason': 'User and/or item is unknown.'}),\n",
              " Prediction(uid='digitalfreight', iid='B00OZTSY6Y', r_ui=3.6, est=3.7664425299432653, details={'was_impossible': True, 'reason': 'User and/or item is unknown.'}),\n",
              " Prediction(uid='erhan', iid='B01FCFZS3G', r_ui=3.5, est=3.7664425299432653, details={'was_impossible': True, 'reason': 'User and/or item is unknown.'}),\n",
              " Prediction(uid='Sergio', iid='B07K4V3364', r_ui=3.4, est=3.3999999999999995, details={'actual_k': 1, 'was_impossible': False}),\n",
              " Prediction(uid='José Manuel avila', iid='B0799ZMY6D', r_ui=4.1, est=3.7664425299432653, details={'was_impossible': True, 'reason': 'User and/or item is unknown.'}),\n",
              " Prediction(uid='Madison Mucia', iid='B013XAPUW6', r_ui=3.6, est=3.7664425299432653, details={'was_impossible': True, 'reason': 'User and/or item is unknown.'}),\n",
              " Prediction(uid='Roberto', iid='B07BHT4KGM', r_ui=3.9, est=3.9000000000000004, details={'actual_k': 3, 'was_impossible': False}),\n",
              " Prediction(uid='MSG', iid='B07Q6ZNJNT', r_ui=4.2, est=3.7664425299432653, details={'was_impossible': True, 'reason': 'User and/or item is unknown.'}),\n",
              " Prediction(uid='John E. Ervin', iid='B0134TVNSQ', r_ui=3.9, est=3.7664425299432653, details={'was_impossible': True, 'reason': 'User and/or item is unknown.'}),\n",
              " Prediction(uid='4MY HOME', iid='B01J63ODA4', r_ui=2.5, est=3.7664425299432653, details={'was_impossible': True, 'reason': 'User and/or item is unknown.'}),\n",
              " Prediction(uid='Olga', iid='B077578W38', r_ui=3.9, est=3.9, details={'actual_k': 1, 'was_impossible': False}),\n",
              " Prediction(uid='Amazon Customer', iid='B00KM10ITK', r_ui=3.5, est=3.5, details={'actual_k': 5, 'was_impossible': False}),\n",
              " Prediction(uid='Brandi C Shelton', iid='B06XGZHSBS', r_ui=3.7, est=3.7664425299432653, details={'was_impossible': True, 'reason': 'User and/or item is unknown.'}),\n",
              " Prediction(uid='Amazon Customer', iid='B07RT1X4FJ', r_ui=3.9, est=3.9, details={'actual_k': 5, 'was_impossible': False}),\n",
              " Prediction(uid='Kindle Customer', iid='B074VFRKZG', r_ui=4.1, est=4.1000000000000005, details={'actual_k': 5, 'was_impossible': False}),\n",
              " Prediction(uid='Lucia', iid='B01EWKHIAI', r_ui=3.9, est=3.900000000000001, details={'actual_k': 3, 'was_impossible': False}),\n",
              " Prediction(uid='Miguel Valderrama', iid='B071H9KKKF', r_ui=4.0, est=3.7664425299432653, details={'was_impossible': True, 'reason': 'User and/or item is unknown.'}),\n",
              " Prediction(uid='James', iid='B072N3GKSM', r_ui=2.9, est=2.8999999999999986, details={'actual_k': 5, 'was_impossible': False}),\n",
              " Prediction(uid='Amazon Customer', iid='B07KFNRQ5S', r_ui=4.1, est=4.1, details={'actual_k': 5, 'was_impossible': False}),\n",
              " Prediction(uid='C. Folsom', iid='B07NPRQYP1', r_ui=4.0, est=3.7664425299432653, details={'was_impossible': True, 'reason': 'User and/or item is unknown.'}),\n",
              " Prediction(uid='EARTHERINE CHARLES', iid='B00EP2BN00', r_ui=3.4, est=3.7664425299432653, details={'was_impossible': True, 'reason': 'User and/or item is unknown.'}),\n",
              " Prediction(uid='William J.', iid='B06XY93RFQ', r_ui=3.0, est=3.0, details={'actual_k': 0, 'was_impossible': False}),\n",
              " Prediction(uid='Sammy C', iid='B07V5KS95Y', r_ui=4.3, est=3.7664425299432653, details={'was_impossible': True, 'reason': 'User and/or item is unknown.'}),\n",
              " Prediction(uid='David', iid='B07G3RDDXT', r_ui=3.0, est=3.0, details={'actual_k': 0, 'was_impossible': False}),\n",
              " Prediction(uid='Ife', iid='B01NB1KG8U', r_ui=4.0, est=3.7664425299432653, details={'was_impossible': True, 'reason': 'User and/or item is unknown.'}),\n",
              " Prediction(uid='Amazon Customer', iid='B00KM10ITK', r_ui=3.5, est=3.5, details={'actual_k': 5, 'was_impossible': False}),\n",
              " Prediction(uid='Leonel', iid='B07RWFC6NY', r_ui=4.4, est=4.399999999999998, details={'actual_k': 2, 'was_impossible': False}),\n",
              " Prediction(uid='Diane Delgado', iid='B06Y3HCFZT', r_ui=4.1, est=3.7664425299432653, details={'was_impossible': True, 'reason': 'User and/or item is unknown.'}),\n",
              " Prediction(uid='Amazon Customer', iid='B07RWFC6NY', r_ui=4.4, est=4.4, details={'actual_k': 5, 'was_impossible': False}),\n",
              " Prediction(uid='amalia', iid='B07536MYBQ', r_ui=3.9, est=3.7664425299432653, details={'was_impossible': True, 'reason': 'User and/or item is unknown.'}),\n",
              " Prediction(uid='RoseP', iid='B013XAPUW6', r_ui=3.6, est=3.7664425299432653, details={'was_impossible': True, 'reason': 'User and/or item is unknown.'}),\n",
              " Prediction(uid='Sam', iid='B07Q6ZZ4S1', r_ui=4.3, est=4.3, details={'actual_k': 5, 'was_impossible': False}),\n",
              " Prediction(uid='Devon Jones', iid='B00CEKXZA6', r_ui=3.8, est=3.7664425299432653, details={'was_impossible': True, 'reason': 'User and/or item is unknown.'}),\n",
              " Prediction(uid='Amazon Customer', iid='B01CJ3SCJ6', r_ui=3.2, est=3.2, details={'actual_k': 5, 'was_impossible': False}),\n",
              " Prediction(uid='Zafarbek', iid='B07PY52GVP', r_ui=4.4, est=3.7664425299432653, details={'was_impossible': True, 'reason': 'User and/or item is unknown.'}),\n",
              " Prediction(uid='Chuck & Janet Harris', iid='B018OMP8ES', r_ui=3.6, est=3.6000000000000005, details={'actual_k': 1, 'was_impossible': False}),\n",
              " Prediction(uid='Harvesterrr', iid='B078YXQ38Z', r_ui=3.9, est=3.7664425299432653, details={'was_impossible': True, 'reason': 'User and/or item is unknown.'}),\n",
              " Prediction(uid='Daniel Villalobos', iid='B01M0PADR4', r_ui=3.4, est=3.7664425299432653, details={'was_impossible': True, 'reason': 'User and/or item is unknown.'}),\n",
              " Prediction(uid='No answer ?, ok, I will complain in other levels Antonio Jose Duarte M', iid='B07579T83L', r_ui=3.0, est=2.999999999999999, details={'actual_k': 1, 'was_impossible': False}),\n",
              " Prediction(uid='Benny Rappa', iid='B002WTC1NG', r_ui=3.6, est=3.7664425299432653, details={'was_impossible': True, 'reason': 'User and/or item is unknown.'}),\n",
              " Prediction(uid='ANISUR RAHMAN', iid='B07536MYBQ', r_ui=3.9, est=3.7664425299432653, details={'was_impossible': True, 'reason': 'User and/or item is unknown.'}),\n",
              " Prediction(uid='T. Ralph', iid='B01M0PADR4', r_ui=3.4, est=3.7664425299432653, details={'was_impossible': True, 'reason': 'User and/or item is unknown.'}),\n",
              " Prediction(uid='Kindle Customer', iid='B07K4V3364', r_ui=3.4, est=3.399999999999999, details={'actual_k': 5, 'was_impossible': False}),\n",
              " Prediction(uid='Garfield', iid='B07NZXXZB2', r_ui=4.4, est=3.7664425299432653, details={'was_impossible': True, 'reason': 'User and/or item is unknown.'}),\n",
              " Prediction(uid='Karl', iid='B07NPRQYP1', r_ui=4.0, est=3.7664425299432653, details={'was_impossible': True, 'reason': 'User and/or item is unknown.'}),\n",
              " Prediction(uid='Vanessa Rodriguez', iid='B0731HBTZ7', r_ui=3.8, est=3.7999999999999994, details={'actual_k': 1, 'was_impossible': False}),\n",
              " Prediction(uid='Amazing G', iid='B004H23JXW', r_ui=3.4, est=3.7664425299432653, details={'was_impossible': True, 'reason': 'User and/or item is unknown.'}),\n",
              " Prediction(uid='Amazon Customer', iid='B07KFNRQ5S', r_ui=4.1, est=4.1, details={'actual_k': 5, 'was_impossible': False}),\n",
              " Prediction(uid='Amazon Customer', iid='B01M59QP6C', r_ui=3.2, est=3.2, details={'actual_k': 5, 'was_impossible': False}),\n",
              " Prediction(uid='jaronz', iid='B079142R7Y', r_ui=3.5, est=3.7664425299432653, details={'was_impossible': True, 'reason': 'User and/or item is unknown.'}),\n",
              " Prediction(uid='Ricardo Young', iid='B071JPQYGK', r_ui=3.5, est=3.7664425299432653, details={'was_impossible': True, 'reason': 'User and/or item is unknown.'}),\n",
              " Prediction(uid='Jonathan', iid='B0722NN2RG', r_ui=3.7, est=3.699999999999999, details={'actual_k': 5, 'was_impossible': False}),\n",
              " Prediction(uid='danisla serrano', iid='B074N8N1V4', r_ui=4.1, est=3.7664425299432653, details={'was_impossible': True, 'reason': 'User and/or item is unknown.'}),\n",
              " Prediction(uid='Natalie Dawn', iid='B077ZMWX1W', r_ui=3.8, est=3.7664425299432653, details={'was_impossible': True, 'reason': 'User and/or item is unknown.'}),\n",
              " Prediction(uid='BelmarNJ', iid='B00F9RRVUG', r_ui=3.5, est=3.7664425299432653, details={'was_impossible': True, 'reason': 'User and/or item is unknown.'}),\n",
              " Prediction(uid='jaime godina', iid='B00836Y6B2', r_ui=3.2, est=3.1999999999999997, details={'actual_k': 0, 'was_impossible': False}),\n",
              " Prediction(uid='Daniel J Adams', iid='B0788F8DKC', r_ui=4.2, est=3.7664425299432653, details={'was_impossible': True, 'reason': 'User and/or item is unknown.'}),\n",
              " Prediction(uid='Laura D', iid='B01M59QP6C', r_ui=3.2, est=3.1999999999999993, details={'actual_k': 1, 'was_impossible': False}),\n",
              " Prediction(uid='Brian', iid='B00OZTSY6Y', r_ui=3.6, est=3.6000000000000005, details={'actual_k': 5, 'was_impossible': False}),\n",
              " Prediction(uid='HannaCardozo', iid='B079HG7TZS', r_ui=4.4, est=3.7664425299432653, details={'was_impossible': True, 'reason': 'User and/or item is unknown.'}),\n",
              " Prediction(uid='Yvonne', iid='B00OEK6TWU', r_ui=3.6, est=3.600000000000001, details={'actual_k': 1, 'was_impossible': False}),\n",
              " Prediction(uid='Rafael P.', iid='B01FJT7E3M', r_ui=3.6, est=3.7664425299432653, details={'was_impossible': True, 'reason': 'User and/or item is unknown.'}),\n",
              " Prediction(uid='Amazon Customer', iid='B06XS2GWFC', r_ui=3.6, est=3.6, details={'actual_k': 5, 'was_impossible': False}),\n",
              " Prediction(uid='Efraín Antonio López Santos', iid='B07Q2X19LG', r_ui=4.5, est=3.7664425299432653, details={'was_impossible': True, 'reason': 'User and/or item is unknown.'}),\n",
              " Prediction(uid='Johnathan Matthews', iid='B079C1K282', r_ui=4.1, est=4.1000000000000005, details={'actual_k': 1, 'was_impossible': False}),\n",
              " Prediction(uid='Amazon Customer', iid='B00TRLXO6U', r_ui=3.8, est=3.8, details={'actual_k': 5, 'was_impossible': False}),\n",
              " Prediction(uid='Vineet Awasthi', iid='B0787V183F', r_ui=3.7, est=3.7664425299432653, details={'was_impossible': True, 'reason': 'User and/or item is unknown.'}),\n",
              " Prediction(uid='Arq cavs', iid='B07BZXDZKN', r_ui=3.7, est=3.7664425299432653, details={'was_impossible': True, 'reason': 'User and/or item is unknown.'}),\n",
              " Prediction(uid='anonymous', iid='B07B82VTX5', r_ui=3.9, est=3.9000000000000004, details={'actual_k': 5, 'was_impossible': False}),\n",
              " Prediction(uid='Amazon Customer', iid='B07PY52GVP', r_ui=4.4, est=4.4, details={'actual_k': 5, 'was_impossible': False}),\n",
              " Prediction(uid='David', iid='B07NPRQYP1', r_ui=4.0, est=4.0, details={'actual_k': 5, 'was_impossible': False}),\n",
              " Prediction(uid='Miles-Butters', iid='B06XRG6S73', r_ui=3.7, est=3.7664425299432653, details={'was_impossible': True, 'reason': 'User and/or item is unknown.'}),\n",
              " Prediction(uid='Robert', iid='B074VFRKZG', r_ui=4.1, est=4.100000000000002, details={'actual_k': 5, 'was_impossible': False}),\n",
              " Prediction(uid='Victoria Wood', iid='B01N4E0RF1', r_ui=3.8, est=3.7664425299432653, details={'was_impossible': True, 'reason': 'User and/or item is unknown.'}),\n",
              " Prediction(uid='Amazon Customer', iid='B00WIYFBWI', r_ui=2.3, est=2.3, details={'actual_k': 0, 'was_impossible': False}),\n",
              " Prediction(uid='Jarrell Matthews', iid='B07GCBWWPL', r_ui=4.3, est=3.7664425299432653, details={'was_impossible': True, 'reason': 'User and/or item is unknown.'}),\n",
              " Prediction(uid='Iván', iid='B00MWI4KKE', r_ui=3.5, est=3.7664425299432653, details={'was_impossible': True, 'reason': 'User and/or item is unknown.'}),\n",
              " Prediction(uid='Enrique Mármol', iid='B07BBQ56WS', r_ui=3.5, est=3.7664425299432653, details={'was_impossible': True, 'reason': 'User and/or item is unknown.'}),\n",
              " Prediction(uid='Amazon Customer', iid='B014GCG150', r_ui=4.1, est=4.1, details={'actual_k': 5, 'was_impossible': False}),\n",
              " Prediction(uid='Doc Mike Dean', iid='B07536MYBQ', r_ui=3.9, est=3.7664425299432653, details={'was_impossible': True, 'reason': 'User and/or item is unknown.'}),\n",
              " Prediction(uid='Dillon K', iid='B071H9KKKF', r_ui=4.0, est=3.7664425299432653, details={'was_impossible': True, 'reason': 'User and/or item is unknown.'}),\n",
              " Prediction(uid='corn', iid='B00O15MWOM', r_ui=3.2, est=3.7664425299432653, details={'was_impossible': True, 'reason': 'User and/or item is unknown.'}),\n",
              " Prediction(uid='Amazon Customer', iid='B01N4E0RF1', r_ui=3.8, est=3.8, details={'actual_k': 5, 'was_impossible': False}),\n",
              " Prediction(uid='Carl Schmidt', iid='B0096QYH80', r_ui=3.0, est=3.7664425299432653, details={'was_impossible': True, 'reason': 'User and/or item is unknown.'}),\n",
              " Prediction(uid='Amanda', iid='B01LEL8ABY', r_ui=3.0, est=3.0, details={'actual_k': 2, 'was_impossible': False}),\n",
              " Prediction(uid='ann', iid='B00OEK6TWU', r_ui=3.6, est=3.6000000000000005, details={'actual_k': 0, 'was_impossible': False}),\n",
              " Prediction(uid='Iliescu Alexandru', iid='B07HQTWQVT', r_ui=3.9, est=3.7664425299432653, details={'was_impossible': True, 'reason': 'User and/or item is unknown.'}),\n",
              " Prediction(uid='Lisa Marie Calabrese', iid='B01MZG55UE', r_ui=3.1, est=3.7664425299432653, details={'was_impossible': True, 'reason': 'User and/or item is unknown.'}),\n",
              " Prediction(uid='jorge gonzález -larramendi', iid='B00A2V7BA4', r_ui=3.4, est=3.7664425299432653, details={'was_impossible': True, 'reason': 'User and/or item is unknown.'}),\n",
              " Prediction(uid=\"Culer O'connor\", iid='B07JHXX5YR', r_ui=3.9, est=3.7664425299432653, details={'was_impossible': True, 'reason': 'User and/or item is unknown.'}),\n",
              " Prediction(uid='Ernest TACURI', iid='B07GCBWWPL', r_ui=4.3, est=3.7664425299432653, details={'was_impossible': True, 'reason': 'User and/or item is unknown.'}),\n",
              " Prediction(uid='Victor', iid='B007X6FFLS', r_ui=3.4, est=3.3999999999999986, details={'actual_k': 3, 'was_impossible': False}),\n",
              " Prediction(uid='P', iid='B0731HBTZ7', r_ui=3.8, est=3.799999999999999, details={'actual_k': 1, 'was_impossible': False}),\n",
              " Prediction(uid='Rafael Sanchis', iid='B0767538YH', r_ui=3.7, est=3.7664425299432653, details={'was_impossible': True, 'reason': 'User and/or item is unknown.'}),\n",
              " Prediction(uid='Amanda', iid='B018OMP8ES', r_ui=3.6, est=3.6, details={'actual_k': 5, 'was_impossible': False}),\n",
              " Prediction(uid='Mahendra Raghavan Sunkaranam', iid='B01MDMJGYT', r_ui=4.1, est=3.7664425299432653, details={'was_impossible': True, 'reason': 'User and/or item is unknown.'}),\n",
              " Prediction(uid='previous palm pre owner', iid='B00A2V7BA4', r_ui=3.4, est=3.7664425299432653, details={'was_impossible': True, 'reason': 'User and/or item is unknown.'}),\n",
              " Prediction(uid='supriya', iid='B07CHWMYHP', r_ui=4.1, est=3.7664425299432653, details={'was_impossible': True, 'reason': 'User and/or item is unknown.'}),\n",
              " Prediction(uid='M Malkani', iid='B01I8V0MJQ', r_ui=3.8, est=3.7664425299432653, details={'was_impossible': True, 'reason': 'User and/or item is unknown.'}),\n",
              " Prediction(uid='Oluwatobi', iid='B079SQ5VHX', r_ui=4.3, est=3.7664425299432653, details={'was_impossible': True, 'reason': 'User and/or item is unknown.'}),\n",
              " Prediction(uid='Mohamad Hussein', iid='B07GWFMLT8', r_ui=4.8, est=3.7664425299432653, details={'was_impossible': True, 'reason': 'User and/or item is unknown.'}),\n",
              " Prediction(uid='Richard A Makepeace', iid='B07N91S9MW', r_ui=4.1, est=3.7664425299432653, details={'was_impossible': True, 'reason': 'User and/or item is unknown.'}),\n",
              " Prediction(uid='Lisa Kobelinski', iid='B06XR8G1TX', r_ui=3.5, est=3.7664425299432653, details={'was_impossible': True, 'reason': 'User and/or item is unknown.'}),\n",
              " Prediction(uid='Jenn', iid='B07C6FCC8G', r_ui=4.4, est=4.3999999999999995, details={'actual_k': 1, 'was_impossible': False}),\n",
              " Prediction(uid='Amazon Customer', iid='B01D1J9BGU', r_ui=3.8, est=3.8, details={'actual_k': 5, 'was_impossible': False}),\n",
              " Prediction(uid='Elegron', iid='B01MSC0FK8', r_ui=3.5, est=3.7664425299432653, details={'was_impossible': True, 'reason': 'User and/or item is unknown.'}),\n",
              " Prediction(uid='T. Singh', iid='B00MWI4KKE', r_ui=3.5, est=3.7664425299432653, details={'was_impossible': True, 'reason': 'User and/or item is unknown.'}),\n",
              " Prediction(uid='LOC LE', iid='B06Y16RL4W', r_ui=3.7, est=3.7, details={'actual_k': 2, 'was_impossible': False}),\n",
              " Prediction(uid='wayne f.', iid='B07QC4R451', r_ui=4.0, est=3.7664425299432653, details={'was_impossible': True, 'reason': 'User and/or item is unknown.'}),\n",
              " Prediction(uid='Kofi Agbleke', iid='B01FJT7N4W', r_ui=3.8, est=3.7664425299432653, details={'was_impossible': True, 'reason': 'User and/or item is unknown.'}),\n",
              " Prediction(uid='Madison Mucia', iid='B018OMP8ES', r_ui=3.6, est=3.7664425299432653, details={'was_impossible': True, 'reason': 'User and/or item is unknown.'}),\n",
              " Prediction(uid='Rob', iid='B0096QYH80', r_ui=3.0, est=3.0, details={'actual_k': 5, 'was_impossible': False}),\n",
              " Prediction(uid='Lilian Ruiz', iid='B07Q84DPZH', r_ui=4.1, est=3.7664425299432653, details={'was_impossible': True, 'reason': 'User and/or item is unknown.'}),\n",
              " Prediction(uid='Z.K.', iid='B06Y16RL4W', r_ui=3.7, est=3.7664425299432653, details={'was_impossible': True, 'reason': 'User and/or item is unknown.'}),\n",
              " Prediction(uid='Inkbone', iid='B00OZTSY6Y', r_ui=3.6, est=3.7664425299432653, details={'was_impossible': True, 'reason': 'User and/or item is unknown.'}),\n",
              " Prediction(uid='Nicholas Evans', iid='B077ZKKDWK', r_ui=3.8, est=3.7664425299432653, details={'was_impossible': True, 'reason': 'User and/or item is unknown.'}),\n",
              " Prediction(uid='Geraldine smith', iid='B00E6FGSHY', r_ui=3.7, est=3.7664425299432653, details={'was_impossible': True, 'reason': 'User and/or item is unknown.'}),\n",
              " Prediction(uid='Lisa', iid='B014V5XDV2', r_ui=3.2, est=3.199999999999999, details={'actual_k': 2, 'was_impossible': False}),\n",
              " Prediction(uid='Syble Lee', iid='B07CHW5KMY', r_ui=3.8, est=3.7664425299432653, details={'was_impossible': True, 'reason': 'User and/or item is unknown.'}),\n",
              " Prediction(uid='marlene guma', iid='B079HB518K', r_ui=3.9, est=3.7664425299432653, details={'was_impossible': True, 'reason': 'User and/or item is unknown.'}),\n",
              " Prediction(uid='IslanGurle', iid='B07JZRL7N5', r_ui=3.9, est=3.7664425299432653, details={'was_impossible': True, 'reason': 'User and/or item is unknown.'}),\n",
              " Prediction(uid='Michael', iid='B00LAEA84S', r_ui=3.2, est=3.1999999999999997, details={'actual_k': 5, 'was_impossible': False}),\n",
              " Prediction(uid='Steven Mack', iid='B00ZE8HRYK', r_ui=3.7, est=3.7664425299432653, details={'was_impossible': True, 'reason': 'User and/or item is unknown.'}),\n",
              " Prediction(uid='Eduard Feliz', iid='B011AC4U7A', r_ui=3.3, est=3.7664425299432653, details={'was_impossible': True, 'reason': 'User and/or item is unknown.'}),\n",
              " Prediction(uid='Platinum44', iid='B014GCG150', r_ui=4.1, est=3.7664425299432653, details={'was_impossible': True, 'reason': 'User and/or item is unknown.'}),\n",
              " Prediction(uid='Matt Magiera', iid='B06Y16RL4W', r_ui=3.7, est=3.7664425299432653, details={'was_impossible': True, 'reason': 'User and/or item is unknown.'}),\n",
              " Prediction(uid='Brenda Barahona', iid='B07MZ2TRTC', r_ui=3.5, est=3.7664425299432653, details={'was_impossible': True, 'reason': 'User and/or item is unknown.'}),\n",
              " Prediction(uid='Kindle Customer', iid='B01NC157KR', r_ui=3.3, est=3.300000000000001, details={'actual_k': 5, 'was_impossible': False}),\n",
              " Prediction(uid='Amazon Customer', iid='B01LXF0WML', r_ui=3.9, est=3.9, details={'actual_k': 5, 'was_impossible': False}),\n",
              " Prediction(uid='Miami (.', iid='B00MWI4KKE', r_ui=3.5, est=3.5, details={'actual_k': 0, 'was_impossible': False}),\n",
              " Prediction(uid='Gerardo Ochoa', iid='B004H23JXW', r_ui=3.4, est=3.7664425299432653, details={'was_impossible': True, 'reason': 'User and/or item is unknown.'}),\n",
              " Prediction(uid='Charlotte L. Valencia', iid='B06XS3CTJM', r_ui=4.0, est=3.7664425299432653, details={'was_impossible': True, 'reason': 'User and/or item is unknown.'}),\n",
              " Prediction(uid='Jim Carter', iid='B07N11SM58', r_ui=3.8, est=3.7664425299432653, details={'was_impossible': True, 'reason': 'User and/or item is unknown.'}),\n",
              " Prediction(uid='Galletti Andrea', iid='B00D99ZBR6', r_ui=3.5, est=3.7664425299432653, details={'was_impossible': True, 'reason': 'User and/or item is unknown.'}),\n",
              " Prediction(uid='lili Escoto', iid='B0766NJPBN', r_ui=4.0, est=4.0, details={'actual_k': 1, 'was_impossible': False}),\n",
              " Prediction(uid='matt franklin', iid='B00D99ZBR6', r_ui=3.5, est=3.7664425299432653, details={'was_impossible': True, 'reason': 'User and/or item is unknown.'}),\n",
              " Prediction(uid='Bergish', iid='B07W14HFQP', r_ui=3.6, est=3.7664425299432653, details={'was_impossible': True, 'reason': 'User and/or item is unknown.'}),\n",
              " Prediction(uid='Amazon Customer', iid='B00OZTSY6Y', r_ui=3.6, est=3.6, details={'actual_k': 5, 'was_impossible': False}),\n",
              " Prediction(uid='Brenda Toledo', iid='B07DZMB1ZK', r_ui=4.2, est=3.7664425299432653, details={'was_impossible': True, 'reason': 'User and/or item is unknown.'}),\n",
              " Prediction(uid='Diallo2019', iid='B07QC4R451', r_ui=4.0, est=3.7664425299432653, details={'was_impossible': True, 'reason': 'User and/or item is unknown.'}),\n",
              " Prediction(uid='Kara Cooper', iid='B0775451TT', r_ui=3.9, est=3.8999999999999995, details={'actual_k': 1, 'was_impossible': False}),\n",
              " Prediction(uid='Everton D.', iid='B07FBQT1S5', r_ui=3.8, est=3.7664425299432653, details={'was_impossible': True, 'reason': 'User and/or item is unknown.'}),\n",
              " Prediction(uid='Amazon Customer', iid='B071JP8XDJ', r_ui=3.6, est=3.6, details={'actual_k': 5, 'was_impossible': False}),\n",
              " Prediction(uid='Furygirl', iid='B002UHS0UI', r_ui=2.7, est=3.7664425299432653, details={'was_impossible': True, 'reason': 'User and/or item is unknown.'}),\n",
              " Prediction(uid='Rafael Sanchis', iid='B0766TPHSH', r_ui=4.1, est=3.7664425299432653, details={'was_impossible': True, 'reason': 'User and/or item is unknown.'}),\n",
              " Prediction(uid='Ricardo V.', iid='B01D1J9BGU', r_ui=3.8, est=3.7999999999999994, details={'actual_k': 1, 'was_impossible': False}),\n",
              " Prediction(uid='Kumar Solai', iid='B01K5RGPIS', r_ui=2.9, est=3.7664425299432653, details={'was_impossible': True, 'reason': 'User and/or item is unknown.'}),\n",
              " Prediction(uid='Justin', iid='B07536MYBQ', r_ui=3.9, est=3.8999999999999995, details={'actual_k': 5, 'was_impossible': False}),\n",
              " Prediction(uid='Amazon Customer', iid='B06XRJXL3R', r_ui=4.1, est=4.1, details={'actual_k': 5, 'was_impossible': False}),\n",
              " Prediction(uid='Diab´s', iid='B00V7FY44A', r_ui=3.5, est=3.7664425299432653, details={'was_impossible': True, 'reason': 'User and/or item is unknown.'}),\n",
              " Prediction(uid='Ashtin', iid='B01N2HPFWK', r_ui=3.9, est=3.7664425299432653, details={'was_impossible': True, 'reason': 'User and/or item is unknown.'}),\n",
              " Prediction(uid='James Galvin', iid='B079C1K282', r_ui=4.1, est=3.7664425299432653, details={'was_impossible': True, 'reason': 'User and/or item is unknown.'}),\n",
              " Prediction(uid='Donna H', iid='B07K2FZYKV', r_ui=4.0, est=3.7664425299432653, details={'was_impossible': True, 'reason': 'User and/or item is unknown.'}),\n",
              " Prediction(uid='Dilly', iid='B00JYR6GGM', r_ui=3.3, est=3.7664425299432653, details={'was_impossible': True, 'reason': 'User and/or item is unknown.'}),\n",
              " Prediction(uid='Marvin Lemmon', iid='B07DDD8PNQ', r_ui=3.9, est=3.7664425299432653, details={'was_impossible': True, 'reason': 'User and/or item is unknown.'}),\n",
              " Prediction(uid='mike wolf', iid='B07NPRQYP1', r_ui=4.0, est=3.7664425299432653, details={'was_impossible': True, 'reason': 'User and/or item is unknown.'}),\n",
              " Prediction(uid='Victor', iid='B00F9RRVUG', r_ui=3.5, est=3.5, details={'actual_k': 3, 'was_impossible': False}),\n",
              " Prediction(uid='Juan Rivas', iid='B07PY52GVP', r_ui=4.4, est=3.7664425299432653, details={'was_impossible': True, 'reason': 'User and/or item is unknown.'}),\n",
              " Prediction(uid='Timothy E', iid='B01LY3OB8D', r_ui=3.9, est=3.7664425299432653, details={'was_impossible': True, 'reason': 'User and/or item is unknown.'}),\n",
              " Prediction(uid='Daniel Dasilva', iid='B07QGG4654', r_ui=4.3, est=3.7664425299432653, details={'was_impossible': True, 'reason': 'User and/or item is unknown.'}),\n",
              " Prediction(uid='Oscar', iid='B014GCG150', r_ui=4.1, est=4.100000000000001, details={'actual_k': 5, 'was_impossible': False}),\n",
              " Prediction(uid='Donald Fisher', iid='B0731HBTZ7', r_ui=3.8, est=3.7664425299432653, details={'was_impossible': True, 'reason': 'User and/or item is unknown.'}),\n",
              " Prediction(uid='Jorge Martinez', iid='B07QK32C8M', r_ui=4.1, est=3.7664425299432653, details={'was_impossible': True, 'reason': 'User and/or item is unknown.'}),\n",
              " Prediction(uid='Félix', iid='B07VZL3L5V', r_ui=4.4, est=3.7664425299432653, details={'was_impossible': True, 'reason': 'User and/or item is unknown.'}),\n",
              " Prediction(uid='A.M.', iid='B07CHWMYHP', r_ui=4.1, est=3.7664425299432653, details={'was_impossible': True, 'reason': 'User and/or item is unknown.'}),\n",
              " Prediction(uid='jrood01', iid='B004GLQTG8', r_ui=3.5, est=3.7664425299432653, details={'was_impossible': True, 'reason': 'User and/or item is unknown.'}),\n",
              " Prediction(uid='OK', iid='B071ZDQ6MV', r_ui=3.7, est=3.7664425299432653, details={'was_impossible': True, 'reason': 'User and/or item is unknown.'}),\n",
              " Prediction(uid='Sgt Brt123', iid='B00HE5834Y', r_ui=3.5, est=3.7664425299432653, details={'was_impossible': True, 'reason': 'User and/or item is unknown.'}),\n",
              " Prediction(uid='Amazon Customer', iid='B07H41NB46', r_ui=4.3, est=4.3, details={'actual_k': 5, 'was_impossible': False}),\n",
              " Prediction(uid='Kay Dub', iid='B0096QYH80', r_ui=3.0, est=3.7664425299432653, details={'was_impossible': True, 'reason': 'User and/or item is unknown.'}),\n",
              " Prediction(uid='kim r.', iid='B07455VT9F', r_ui=4.2, est=3.7664425299432653, details={'was_impossible': True, 'reason': 'User and/or item is unknown.'}),\n",
              " Prediction(uid='Bob', iid='B018OMP8ES', r_ui=3.6, est=3.6000000000000005, details={'actual_k': 5, 'was_impossible': False}),\n",
              " Prediction(uid='Kindle Customer', iid='B00KM10ITK', r_ui=3.5, est=3.4999999999999996, details={'actual_k': 5, 'was_impossible': False}),\n",
              " Prediction(uid='Alex N.', iid='B07DDD8PNQ', r_ui=3.9, est=3.9, details={'actual_k': 0, 'was_impossible': False}),\n",
              " Prediction(uid='Kenneth N. Blaylock', iid='B006OU39QW', r_ui=4.1, est=3.7664425299432653, details={'was_impossible': True, 'reason': 'User and/or item is unknown.'}),\n",
              " Prediction(uid='Laser53', iid='B01CYYYRNK', r_ui=3.1, est=3.7664425299432653, details={'was_impossible': True, 'reason': 'User and/or item is unknown.'}),\n",
              " Prediction(uid='Judy', iid='B00WF988BW', r_ui=3.7, est=3.6999999999999997, details={'actual_k': 1, 'was_impossible': False}),\n",
              " Prediction(uid='Chris Kyle', iid='B06XRJQX91', r_ui=3.6, est=3.7664425299432653, details={'was_impossible': True, 'reason': 'User and/or item is unknown.'}),\n",
              " Prediction(uid='Peter Prince', iid='B071JP8XDJ', r_ui=3.6, est=3.7664425299432653, details={'was_impossible': True, 'reason': 'User and/or item is unknown.'}),\n",
              " Prediction(uid='&amp;#34;D&amp;#34;', iid='B076XLLCQC', r_ui=4.0, est=3.7664425299432653, details={'was_impossible': True, 'reason': 'User and/or item is unknown.'}),\n",
              " Prediction(uid='P. Marshall', iid='B0731KVYPN', r_ui=3.2, est=3.7664425299432653, details={'was_impossible': True, 'reason': 'User and/or item is unknown.'}),\n",
              " Prediction(uid='Amazon Customer', iid='B01D1J9BGU', r_ui=3.8, est=3.8, details={'actual_k': 5, 'was_impossible': False}),\n",
              " Prediction(uid='JEDrury', iid='B01FJT7N4W', r_ui=3.8, est=3.7664425299432653, details={'was_impossible': True, 'reason': 'User and/or item is unknown.'}),\n",
              " Prediction(uid='Joseph C. Waddy', iid='B0775H5HJW', r_ui=3.8, est=3.7664425299432653, details={'was_impossible': True, 'reason': 'User and/or item is unknown.'}),\n",
              " Prediction(uid='E tupid', iid='B00CGIULGC', r_ui=3.2, est=3.7664425299432653, details={'was_impossible': True, 'reason': 'User and/or item is unknown.'}),\n",
              " Prediction(uid='silvia monica tauschek', iid='B07RWFC6NY', r_ui=4.4, est=3.7664425299432653, details={'was_impossible': True, 'reason': 'User and/or item is unknown.'}),\n",
              " Prediction(uid='Cecile Rock', iid='B01CJ3SCN2', r_ui=3.6, est=3.7664425299432653, details={'was_impossible': True, 'reason': 'User and/or item is unknown.'}),\n",
              " Prediction(uid='Mr. Stanley', iid='B07NPRQYP1', r_ui=4.0, est=3.7664425299432653, details={'was_impossible': True, 'reason': 'User and/or item is unknown.'}),\n",
              " Prediction(uid='A-la Dawn', iid='B0029F2O3A', r_ui=3.0, est=3.7664425299432653, details={'was_impossible': True, 'reason': 'User and/or item is unknown.'}),\n",
              " Prediction(uid='Linux Poland', iid='B07YMNLXL3', r_ui=4.2, est=3.7664425299432653, details={'was_impossible': True, 'reason': 'User and/or item is unknown.'}),\n",
              " Prediction(uid='Qtip', iid='B07PV7LN4X', r_ui=4.2, est=3.7664425299432653, details={'was_impossible': True, 'reason': 'User and/or item is unknown.'}),\n",
              " Prediction(uid='anthony m.', iid='B01LY3OB8D', r_ui=3.9, est=3.7664425299432653, details={'was_impossible': True, 'reason': 'User and/or item is unknown.'}),\n",
              " Prediction(uid='Stan willis', iid='B077NTKFDB', r_ui=3.6, est=3.7664425299432653, details={'was_impossible': True, 'reason': 'User and/or item is unknown.'}),\n",
              " Prediction(uid='Desalegn', iid='B06XRG6S73', r_ui=3.7, est=3.7664425299432653, details={'was_impossible': True, 'reason': 'User and/or item is unknown.'}),\n",
              " Prediction(uid='Amazon Customer', iid='B071W9WQ8M', r_ui=3.8, est=3.8, details={'actual_k': 5, 'was_impossible': False}),\n",
              " Prediction(uid='Luciana Alvarez Piris', iid='B0731HBTZ7', r_ui=3.8, est=3.7664425299432653, details={'was_impossible': True, 'reason': 'User and/or item is unknown.'}),\n",
              " Prediction(uid='Abdulkareem M M Sabie', iid='B077YTCMH9', r_ui=3.8, est=3.7664425299432653, details={'was_impossible': True, 'reason': 'User and/or item is unknown.'}),\n",
              " Prediction(uid='Crystal De paz', iid='B07V5KS95Y', r_ui=4.3, est=3.7664425299432653, details={'was_impossible': True, 'reason': 'User and/or item is unknown.'}),\n",
              " Prediction(uid='zeniabar', iid='B07BHT4KGM', r_ui=3.9, est=3.9000000000000004, details={'actual_k': 1, 'was_impossible': False}),\n",
              " Prediction(uid='Amazon Customer', iid='B01LEL8ABY', r_ui=3.0, est=3.0, details={'actual_k': 5, 'was_impossible': False}),\n",
              " Prediction(uid='Jocelyn González', iid='B072KPG9PN', r_ui=3.7, est=3.7664425299432653, details={'was_impossible': True, 'reason': 'User and/or item is unknown.'}),\n",
              " Prediction(uid='Jennifer Briglin', iid='B07FZH9BGV', r_ui=4.1, est=3.7664425299432653, details={'was_impossible': True, 'reason': 'User and/or item is unknown.'}),\n",
              " Prediction(uid='Amazon Customer', iid='B01LY3OB8D', r_ui=3.9, est=3.9, details={'actual_k': 5, 'was_impossible': False}),\n",
              " Prediction(uid='Amazon Customer', iid='B019S654DO', r_ui=3.7, est=3.7, details={'actual_k': 5, 'was_impossible': False}),\n",
              " Prediction(uid='Amazon Customer', iid='B00KM10ITK', r_ui=3.5, est=3.5, details={'actual_k': 5, 'was_impossible': False}),\n",
              " Prediction(uid='Mohammed Alasmi', iid='B07HKPMFZ5', r_ui=4.0, est=3.7664425299432653, details={'was_impossible': True, 'reason': 'User and/or item is unknown.'}),\n",
              " Prediction(uid='Santiago Romani', iid='B079SQ5VHX', r_ui=4.3, est=3.7664425299432653, details={'was_impossible': True, 'reason': 'User and/or item is unknown.'}),\n",
              " Prediction(uid='GoTheDistance', iid='B00HPP3QD6', r_ui=4.0, est=3.7664425299432653, details={'was_impossible': True, 'reason': 'User and/or item is unknown.'}),\n",
              " Prediction(uid='Douglas Rivera', iid='B07CMBB6PH', r_ui=4.3, est=3.7664425299432653, details={'was_impossible': True, 'reason': 'User and/or item is unknown.'}),\n",
              " Prediction(uid='Shaundra', iid='B01HTZ4T8C', r_ui=3.7, est=3.7664425299432653, details={'was_impossible': True, 'reason': 'User and/or item is unknown.'}),\n",
              " Prediction(uid='Barinderjeet singh', iid='B07QQYHSR5', r_ui=4.2, est=3.7664425299432653, details={'was_impossible': True, 'reason': 'User and/or item is unknown.'}),\n",
              " Prediction(uid='Michael James Paul Richter', iid='B075FL4H89', r_ui=3.4, est=3.7664425299432653, details={'was_impossible': True, 'reason': 'User and/or item is unknown.'}),\n",
              " Prediction(uid='mootz', iid='B00ZE8HRYK', r_ui=3.7, est=3.7664425299432653, details={'was_impossible': True, 'reason': 'User and/or item is unknown.'}),\n",
              " Prediction(uid='Gary A. Boughton', iid='B01N9TM7KG', r_ui=3.7, est=3.7664425299432653, details={'was_impossible': True, 'reason': 'User and/or item is unknown.'}),\n",
              " Prediction(uid='Chelsea Hughes', iid='B01DZ2CS4U', r_ui=3.2, est=3.2, details={'actual_k': 1, 'was_impossible': False}),\n",
              " Prediction(uid='Kevin Retberg', iid='B06Y16RL4W', r_ui=3.7, est=3.7664425299432653, details={'was_impossible': True, 'reason': 'User and/or item is unknown.'}),\n",
              " Prediction(uid='Amazon Customer', iid='B06Y2GX8K8', r_ui=4.0, est=4.0, details={'actual_k': 5, 'was_impossible': False}),\n",
              " Prediction(uid='marion mccarthy', iid='B00KM10ITK', r_ui=3.5, est=3.7664425299432653, details={'was_impossible': True, 'reason': 'User and/or item is unknown.'}),\n",
              " Prediction(uid='Mason Hilligas', iid='B01NB1KG8U', r_ui=4.0, est=3.7664425299432653, details={'was_impossible': True, 'reason': 'User and/or item is unknown.'}),\n",
              " Prediction(uid='David D', iid='B076XLLCQC', r_ui=4.0, est=3.7664425299432653, details={'was_impossible': True, 'reason': 'User and/or item is unknown.'}),\n",
              " Prediction(uid='mark', iid='B01M1HY1E3', r_ui=3.6, est=3.600000000000002, details={'actual_k': 3, 'was_impossible': False}),\n",
              " Prediction(uid='Bonnie', iid='B01M59QP6C', r_ui=3.2, est=3.1999999999999997, details={'actual_k': 0, 'was_impossible': False}),\n",
              " Prediction(uid='dalan', iid='B07K4V3364', r_ui=3.4, est=3.7664425299432653, details={'was_impossible': True, 'reason': 'User and/or item is unknown.'}),\n",
              " Prediction(uid='Agapito Castillo Lebron', iid='B07WVRJQ7V', r_ui=4.4, est=3.7664425299432653, details={'was_impossible': True, 'reason': 'User and/or item is unknown.'}),\n",
              " Prediction(uid='Amazon Customer', iid='B07Q6ZNJNT', r_ui=4.2, est=4.2, details={'actual_k': 5, 'was_impossible': False}),\n",
              " Prediction(uid='Der Phonix', iid='B01LXF0WML', r_ui=3.9, est=3.7664425299432653, details={'was_impossible': True, 'reason': 'User and/or item is unknown.'}),\n",
              " Prediction(uid='Amazon Customer', iid='B07VPMYXST', r_ui=4.6, est=4.599999999999999, details={'actual_k': 5, 'was_impossible': False}),\n",
              " Prediction(uid='Amazon Customer', iid='B01NB1KG8U', r_ui=4.0, est=4.0, details={'actual_k': 5, 'was_impossible': False}),\n",
              " Prediction(uid='Orelvis', iid='B07Q26V49K', r_ui=4.5, est=3.7664425299432653, details={'was_impossible': True, 'reason': 'User and/or item is unknown.'}),\n",
              " Prediction(uid='816-536-1609', iid='B006OU39QW', r_ui=4.1, est=3.7664425299432653, details={'was_impossible': True, 'reason': 'User and/or item is unknown.'}),\n",
              " Prediction(uid='L&M', iid='B078YXQ38Z', r_ui=3.9, est=3.7664425299432653, details={'was_impossible': True, 'reason': 'User and/or item is unknown.'}),\n",
              " Prediction(uid='Mike crogan', iid='B00OZTSY6Y', r_ui=3.6, est=3.7664425299432653, details={'was_impossible': True, 'reason': 'User and/or item is unknown.'}),\n",
              " Prediction(uid='Cartoonist Andre', iid='B0046REOWS', r_ui=3.6, est=3.7664425299432653, details={'was_impossible': True, 'reason': 'User and/or item is unknown.'}),\n",
              " Prediction(uid='Wendy Barrenechea', iid='B07T7MM64L', r_ui=4.5, est=3.7664425299432653, details={'was_impossible': True, 'reason': 'User and/or item is unknown.'}),\n",
              " Prediction(uid='twant85', iid='B07Q6ZNJNT', r_ui=4.2, est=3.7664425299432653, details={'was_impossible': True, 'reason': 'User and/or item is unknown.'}),\n",
              " Prediction(uid='mindi hixon', iid='B07J5VTRX6', r_ui=3.6, est=3.7664425299432653, details={'was_impossible': True, 'reason': 'User and/or item is unknown.'}),\n",
              " Prediction(uid='MPEN', iid='B07QQYHSR5', r_ui=4.2, est=3.7664425299432653, details={'was_impossible': True, 'reason': 'User and/or item is unknown.'}),\n",
              " Prediction(uid='mike', iid='B00ZE8HRYK', r_ui=3.7, est=3.6999999999999997, details={'actual_k': 5, 'was_impossible': False}),\n",
              " Prediction(uid='Anthony Pantliano', iid='B07MZ2TRTC', r_ui=3.5, est=3.7664425299432653, details={'was_impossible': True, 'reason': 'User and/or item is unknown.'}),\n",
              " Prediction(uid='Alexandra chacon', iid='B01EIVMETG', r_ui=3.2, est=3.7664425299432653, details={'was_impossible': True, 'reason': 'User and/or item is unknown.'}),\n",
              " Prediction(uid='Laurel', iid='B07L543G3M', r_ui=4.1, est=4.100000000000002, details={'actual_k': 0, 'was_impossible': False}),\n",
              " Prediction(uid='Amazon Customer', iid='B01CYYYRNK', r_ui=3.1, est=3.1, details={'actual_k': 5, 'was_impossible': False}),\n",
              " Prediction(uid='Marlene Karafa', iid='B07H8Q3C9T', r_ui=4.1, est=3.7664425299432653, details={'was_impossible': True, 'reason': 'User and/or item is unknown.'}),\n",
              " Prediction(uid='Smith Adam', iid='B07FZH9BGV', r_ui=4.1, est=3.7664425299432653, details={'was_impossible': True, 'reason': 'User and/or item is unknown.'}),\n",
              " Prediction(uid='Claudia C.', iid='B07FZH9BGV', r_ui=4.1, est=3.7664425299432653, details={'was_impossible': True, 'reason': 'User and/or item is unknown.'}),\n",
              " Prediction(uid='Amazon Customer', iid='B0134TVNSQ', r_ui=3.9, est=3.9, details={'actual_k': 5, 'was_impossible': False}),\n",
              " Prediction(uid='Angelia Hall-David Hall', iid='B00F2SKPIM', r_ui=3.9, est=3.7664425299432653, details={'was_impossible': True, 'reason': 'User and/or item is unknown.'}),\n",
              " Prediction(uid='Thomas Fischel', iid='B01L9D7J00', r_ui=3.3, est=3.7664425299432653, details={'was_impossible': True, 'reason': 'User and/or item is unknown.'}),\n",
              " Prediction(uid='Kolby Crawford', iid='B07FZH9BGV', r_ui=4.1, est=3.7664425299432653, details={'was_impossible': True, 'reason': 'User and/or item is unknown.'}),\n",
              " Prediction(uid='Ray Rodriguez', iid='B07VZL3L5V', r_ui=4.4, est=3.7664425299432653, details={'was_impossible': True, 'reason': 'User and/or item is unknown.'}),\n",
              " Prediction(uid='kbat', iid='B013XAPUW6', r_ui=3.6, est=3.5999999999999996, details={'actual_k': 1, 'was_impossible': False}),\n",
              " Prediction(uid='Anthony Sidbury', iid='B07FZH9BGV', r_ui=4.1, est=3.7664425299432653, details={'was_impossible': True, 'reason': 'User and/or item is unknown.'}),\n",
              " Prediction(uid='Amoy C.', iid='B014GCG150', r_ui=4.1, est=4.100000000000001, details={'actual_k': 0, 'was_impossible': False}),\n",
              " Prediction(uid='Alex Cuate', iid='B01CYYYRNK', r_ui=3.1, est=3.7664425299432653, details={'was_impossible': True, 'reason': 'User and/or item is unknown.'}),\n",
              " Prediction(uid='Amazon Customer', iid='B00HPP3QD6', r_ui=4.0, est=4.0, details={'actual_k': 5, 'was_impossible': False}),\n",
              " Prediction(uid='Kindle Customer', iid='B00JEHJMG8', r_ui=3.3, est=3.2999999999999994, details={'actual_k': 5, 'was_impossible': False}),\n",
              " Prediction(uid='Amazon Customer', iid='B00V7FY44A', r_ui=3.5, est=3.5, details={'actual_k': 5, 'was_impossible': False}),\n",
              " Prediction(uid='Thanael Harris', iid='B06Y16RL4W', r_ui=3.7, est=3.7664425299432653, details={'was_impossible': True, 'reason': 'User and/or item is unknown.'}),\n",
              " Prediction(uid='Madison Stutzman', iid='B013XAPUW6', r_ui=3.6, est=3.5999999999999996, details={'actual_k': 1, 'was_impossible': False}),\n",
              " Prediction(uid='Nikki', iid='B00N532DU4', r_ui=3.2, est=3.2000000000000006, details={'actual_k': 1, 'was_impossible': False}),\n",
              " Prediction(uid='Stephen Kaufman', iid='B01M0PADR4', r_ui=3.4, est=3.7664425299432653, details={'was_impossible': True, 'reason': 'User and/or item is unknown.'}),\n",
              " Prediction(uid='Jason s.', iid='B07JNKYBZ4', r_ui=4.5, est=3.7664425299432653, details={'was_impossible': True, 'reason': 'User and/or item is unknown.'}),\n",
              " Prediction(uid='Jack-7', iid='B07Q84DPZH', r_ui=4.1, est=3.7664425299432653, details={'was_impossible': True, 'reason': 'User and/or item is unknown.'}),\n",
              " Prediction(uid='paulo amaral', iid='B07QC4R451', r_ui=4.0, est=3.9999999999999982, details={'actual_k': 1, 'was_impossible': False}),\n",
              " Prediction(uid='Amazon Customer', iid='B07CHWTWYP', r_ui=3.8, est=3.8, details={'actual_k': 5, 'was_impossible': False}),\n",
              " Prediction(uid='Jitendra Kumar', iid='B07HD3QC65', r_ui=3.3, est=3.3000000000000003, details={'actual_k': 0, 'was_impossible': False}),\n",
              " Prediction(uid='GJG', iid='B00WF988BW', r_ui=3.7, est=3.7664425299432653, details={'was_impossible': True, 'reason': 'User and/or item is unknown.'}),\n",
              " Prediction(uid='lauren', iid='B0799ZMY6D', r_ui=4.1, est=3.7664425299432653, details={'was_impossible': True, 'reason': 'User and/or item is unknown.'}),\n",
              " Prediction(uid='HappyBunny', iid='B014GCG150', r_ui=4.1, est=3.7664425299432653, details={'was_impossible': True, 'reason': 'User and/or item is unknown.'}),\n",
              " Prediction(uid='Amazon Customer', iid='B07HK4JNV1', r_ui=4.3, est=4.3, details={'actual_k': 5, 'was_impossible': False}),\n",
              " Prediction(uid='Badger1', iid='B078YXQ38Z', r_ui=3.9, est=3.7664425299432653, details={'was_impossible': True, 'reason': 'User and/or item is unknown.'}),\n",
              " Prediction(uid='Nathan Hollister', iid='B07XQJ33PL', r_ui=4.2, est=3.7664425299432653, details={'was_impossible': True, 'reason': 'User and/or item is unknown.'}),\n",
              " Prediction(uid='Matt Mosner', iid='B07CLT3BDN', r_ui=4.3, est=3.7664425299432653, details={'was_impossible': True, 'reason': 'User and/or item is unknown.'}),\n",
              " Prediction(uid='DennisZ', iid='B07GWV23X7', r_ui=3.8, est=3.7664425299432653, details={'was_impossible': True, 'reason': 'User and/or item is unknown.'}),\n",
              " Prediction(uid='m-', iid='B00E6FGSHY', r_ui=3.7, est=3.7664425299432653, details={'was_impossible': True, 'reason': 'User and/or item is unknown.'}),\n",
              " Prediction(uid='ramy', iid='B07QQYHSR5', r_ui=4.2, est=3.7664425299432653, details={'was_impossible': True, 'reason': 'User and/or item is unknown.'}),\n",
              " Prediction(uid='sigit Prasetiyo', iid='B07JMPGNHK', r_ui=4.5, est=3.7664425299432653, details={'was_impossible': True, 'reason': 'User and/or item is unknown.'}),\n",
              " Prediction(uid='CC in GA', iid='B072B7XSVT', r_ui=3.3, est=3.7664425299432653, details={'was_impossible': True, 'reason': 'User and/or item is unknown.'}),\n",
              " Prediction(uid='Amazon Customer', iid='B07FZH9BGV', r_ui=4.1, est=4.1, details={'actual_k': 5, 'was_impossible': False}),\n",
              " Prediction(uid='Amazon Customer', iid='B01CYYYRNK', r_ui=3.1, est=3.1, details={'actual_k': 5, 'was_impossible': False}),\n",
              " Prediction(uid='Highly Rated', iid='B07RDMLR4V', r_ui=4.1, est=4.100000000000001, details={'actual_k': 0, 'was_impossible': False}),\n",
              " Prediction(uid='Rondyron', iid='B00836Y6B2', r_ui=3.2, est=3.7664425299432653, details={'was_impossible': True, 'reason': 'User and/or item is unknown.'}),\n",
              " Prediction(uid='Pablo Triana', iid='B00V7FY44A', r_ui=3.5, est=3.7664425299432653, details={'was_impossible': True, 'reason': 'User and/or item is unknown.'}),\n",
              " Prediction(uid='Amazon Customer', iid='B06Y14K2C6', r_ui=4.1, est=4.1, details={'actual_k': 5, 'was_impossible': False}),\n",
              " Prediction(uid='Woman in the Woods', iid='B006OU39QW', r_ui=4.1, est=3.7664425299432653, details={'was_impossible': True, 'reason': 'User and/or item is unknown.'}),\n",
              " Prediction(uid='Amazon Customer', iid='B013XAPUW6', r_ui=3.6, est=3.6, details={'actual_k': 5, 'was_impossible': False}),\n",
              " Prediction(uid='Dan', iid='B004H23JXW', r_ui=3.4, est=3.3999999999999986, details={'actual_k': 5, 'was_impossible': False}),\n",
              " Prediction(uid='Amazon Customer', iid='B07BHT4KGM', r_ui=3.9, est=3.9, details={'actual_k': 5, 'was_impossible': False}),\n",
              " Prediction(uid='Scott', iid='B01M0PADR4', r_ui=3.4, est=3.3999999999999995, details={'actual_k': 4, 'was_impossible': False}),\n",
              " Prediction(uid='Amazon Customer', iid='B01D1J9BGU', r_ui=3.8, est=3.8, details={'actual_k': 5, 'was_impossible': False}),\n",
              " Prediction(uid='HBKAT92647', iid='B01M59QP6C', r_ui=3.2, est=3.7664425299432653, details={'was_impossible': True, 'reason': 'User and/or item is unknown.'}),\n",
              " Prediction(uid='Amazon Customer', iid='B00F2SKPIM', r_ui=3.9, est=3.9, details={'actual_k': 5, 'was_impossible': False}),\n",
              " Prediction(uid='Timme', iid='B07CHWTWYP', r_ui=3.8, est=3.7664425299432653, details={'was_impossible': True, 'reason': 'User and/or item is unknown.'}),\n",
              " Prediction(uid='Gmama03', iid='B01LEL8ABY', r_ui=3.0, est=3.7664425299432653, details={'was_impossible': True, 'reason': 'User and/or item is unknown.'}),\n",
              " Prediction(uid='S Sarmi', iid='B018OMP8ES', r_ui=3.6, est=3.6000000000000005, details={'actual_k': 1, 'was_impossible': False}),\n",
              " Prediction(uid='Jay', iid='B01M59QP6C', r_ui=3.2, est=3.2, details={'actual_k': 5, 'was_impossible': False}),\n",
              " Prediction(uid='John P.', iid='B07FZH9BGV', r_ui=4.1, est=4.1000000000000005, details={'actual_k': 2, 'was_impossible': False}),\n",
              " Prediction(uid='Michaelle Bown', iid='B0767538YH', r_ui=3.7, est=3.7664425299432653, details={'was_impossible': True, 'reason': 'User and/or item is unknown.'}),\n",
              " Prediction(uid='omar aleman', iid='B079142R7Y', r_ui=3.5, est=3.7664425299432653, details={'was_impossible': True, 'reason': 'User and/or item is unknown.'}),\n",
              " Prediction(uid='Michael', iid='B07RWFC6NY', r_ui=4.4, est=4.399999999999999, details={'actual_k': 5, 'was_impossible': False}),\n",
              " Prediction(uid='Valeria rodriguez', iid='B00V7FY44A', r_ui=3.5, est=3.7664425299432653, details={'was_impossible': True, 'reason': 'User and/or item is unknown.'}),\n",
              " Prediction(uid='Lucas Otero s', iid='B07WW25BSV', r_ui=4.6, est=3.7664425299432653, details={'was_impossible': True, 'reason': 'User and/or item is unknown.'}),\n",
              " Prediction(uid='Teresa D. Henry', iid='B07FZH9BGV', r_ui=4.1, est=3.7664425299432653, details={'was_impossible': True, 'reason': 'User and/or item is unknown.'}),\n",
              " Prediction(uid='piginspandex', iid='B00O15MWOM', r_ui=3.2, est=3.7664425299432653, details={'was_impossible': True, 'reason': 'User and/or item is unknown.'}),\n",
              " Prediction(uid='Isai', iid='B079C1K282', r_ui=4.1, est=4.1000000000000005, details={'actual_k': 0, 'was_impossible': False}),\n",
              " Prediction(uid='E. Money', iid='B07N91S9MW', r_ui=4.1, est=3.7664425299432653, details={'was_impossible': True, 'reason': 'User and/or item is unknown.'}),\n",
              " Prediction(uid='Cerro Sarisariñama', iid='B00OZTSY6Y', r_ui=3.6, est=3.7664425299432653, details={'was_impossible': True, 'reason': 'User and/or item is unknown.'}),\n",
              " Prediction(uid='uaflyer2', iid='B07QQYHSR5', r_ui=4.2, est=3.7664425299432653, details={'was_impossible': True, 'reason': 'User and/or item is unknown.'}),\n",
              " Prediction(uid='M40 🇦🇷', iid='B07CMBB6PH', r_ui=4.3, est=3.7664425299432653, details={'was_impossible': True, 'reason': 'User and/or item is unknown.'}),\n",
              " Prediction(uid='daniel gonzalez', iid='B076XLLCQC', r_ui=4.0, est=3.7664425299432653, details={'was_impossible': True, 'reason': 'User and/or item is unknown.'}),\n",
              " Prediction(uid='maomao', iid='B00O15MWOM', r_ui=3.2, est=3.7664425299432653, details={'was_impossible': True, 'reason': 'User and/or item is unknown.'}),\n",
              " Prediction(uid='Freddy b', iid='B07Q6ZZ4S1', r_ui=4.3, est=3.7664425299432653, details={'was_impossible': True, 'reason': 'User and/or item is unknown.'}),\n",
              " Prediction(uid='Kindle Customer', iid='B07FZH9BGV', r_ui=4.1, est=4.1000000000000005, details={'actual_k': 5, 'was_impossible': False}),\n",
              " Prediction(uid='Lucas Otero s', iid='B07VPMYXST', r_ui=4.6, est=3.7664425299432653, details={'was_impossible': True, 'reason': 'User and/or item is unknown.'}),\n",
              " Prediction(uid='wendyphoto', iid='B01CJ3SF02', r_ui=3.8, est=3.7664425299432653, details={'was_impossible': True, 'reason': 'User and/or item is unknown.'}),\n",
              " Prediction(uid='Jeff Price', iid='B07FZH9BGV', r_ui=4.1, est=3.7664425299432653, details={'was_impossible': True, 'reason': 'User and/or item is unknown.'}),\n",
              " Prediction(uid='Stacey Dahms', iid='B011AC4U7A', r_ui=3.3, est=3.7664425299432653, details={'was_impossible': True, 'reason': 'User and/or item is unknown.'}),\n",
              " Prediction(uid='Angus Black', iid='B01M1HY1E3', r_ui=3.6, est=3.7664425299432653, details={'was_impossible': True, 'reason': 'User and/or item is unknown.'}),\n",
              " Prediction(uid='joanninAz', iid='B072N3GKSM', r_ui=2.9, est=3.7664425299432653, details={'was_impossible': True, 'reason': 'User and/or item is unknown.'}),\n",
              " Prediction(uid='T', iid='B00V7FY44A', r_ui=3.5, est=3.5, details={'actual_k': 5, 'was_impossible': False}),\n",
              " Prediction(uid='Sara', iid='B01FIW1B9S', r_ui=3.8, est=3.8, details={'actual_k': 5, 'was_impossible': False}),\n",
              " Prediction(uid='Christian Nichols', iid='B07ZG6W4S2', r_ui=4.1, est=4.1, details={'actual_k': 1, 'was_impossible': False}),\n",
              " Prediction(uid='Jeff', iid='B074VFRKZG', r_ui=4.1, est=4.100000000000001, details={'actual_k': 5, 'was_impossible': False}),\n",
              " Prediction(uid='Kayla Shoemake', iid='B01FCFZS3G', r_ui=3.5, est=3.7664425299432653, details={'was_impossible': True, 'reason': 'User and/or item is unknown.'}),\n",
              " Prediction(uid='Nisha', iid='B0731HBTZ7', r_ui=3.8, est=3.8000000000000016, details={'actual_k': 1, 'was_impossible': False}),\n",
              " Prediction(uid='A. Davis', iid='B07Q84DPZH', r_ui=4.1, est=3.7664425299432653, details={'was_impossible': True, 'reason': 'User and/or item is unknown.'}),\n",
              " Prediction(uid='Francisco A. Nuñez Hernandez', iid='B00HWEMZ1E', r_ui=3.8, est=3.7664425299432653, details={'was_impossible': True, 'reason': 'User and/or item is unknown.'}),\n",
              " Prediction(uid='shaela', iid='B01FJT7E3M', r_ui=3.6, est=3.7664425299432653, details={'was_impossible': True, 'reason': 'User and/or item is unknown.'}),\n",
              " Prediction(uid='Henry', iid='B0799ZMY6D', r_ui=4.1, est=4.100000000000001, details={'actual_k': 5, 'was_impossible': False}),\n",
              " Prediction(uid='Amazon Customer', iid='B07W14HFQP', r_ui=3.6, est=3.6, details={'actual_k': 5, 'was_impossible': False}),\n",
              " Prediction(uid='Domingo Gomes - NewEsc', iid='B00V7FY44A', r_ui=3.5, est=3.5, details={'actual_k': 1, 'was_impossible': False}),\n",
              " Prediction(uid='Amazon Customer', iid='B01D1J9BGU', r_ui=3.8, est=3.8, details={'actual_k': 5, 'was_impossible': False}),\n",
              " Prediction(uid='Opus Bogum', iid='B00D99ZBR6', r_ui=3.5, est=3.7664425299432653, details={'was_impossible': True, 'reason': 'User and/or item is unknown.'}),\n",
              " Prediction(uid='Robert F.', iid='B07FZH9BGV', r_ui=4.1, est=3.7664425299432653, details={'was_impossible': True, 'reason': 'User and/or item is unknown.'}),\n",
              " Prediction(uid='Ntethelelo', iid='B071ZDQ6MV', r_ui=3.7, est=3.7664425299432653, details={'was_impossible': True, 'reason': 'User and/or item is unknown.'}),\n",
              " Prediction(uid='zorgon zola', iid='B07K2FZYKV', r_ui=4.0, est=3.7664425299432653, details={'was_impossible': True, 'reason': 'User and/or item is unknown.'}),\n",
              " Prediction(uid='P.A.', iid='B007X6FFLS', r_ui=3.4, est=3.7664425299432653, details={'was_impossible': True, 'reason': 'User and/or item is unknown.'}),\n",
              " Prediction(uid='xiomara d.', iid='B07VD3JH2C', r_ui=4.5, est=4.5, details={'actual_k': 1, 'was_impossible': False}),\n",
              " Prediction(uid='Katharine Black', iid='B078YXQ38Z', r_ui=3.9, est=3.7664425299432653, details={'was_impossible': True, 'reason': 'User and/or item is unknown.'}),\n",
              " Prediction(uid='Jaidyn Saunders', iid='B07WSJYDXX', r_ui=3.9, est=3.7664425299432653, details={'was_impossible': True, 'reason': 'User and/or item is unknown.'}),\n",
              " Prediction(uid='family game', iid='B00836Y6B2', r_ui=3.2, est=3.200000000000001, details={'actual_k': 1, 'was_impossible': False}),\n",
              " Prediction(uid='Mihir B', iid='B00A2V7BA4', r_ui=3.4, est=3.7664425299432653, details={'was_impossible': True, 'reason': 'User and/or item is unknown.'}),\n",
              " Prediction(uid='Eddie', iid='B01FJT7E3M', r_ui=3.6, est=3.600000000000002, details={'actual_k': 2, 'was_impossible': False}),\n",
              " Prediction(uid='Alex', iid='B07BBZJ4G9', r_ui=3.8, est=3.8, details={'actual_k': 2, 'was_impossible': False}),\n",
              " Prediction(uid='Ganesh Gopal', iid='B00A2V7BA4', r_ui=3.4, est=3.7664425299432653, details={'was_impossible': True, 'reason': 'User and/or item is unknown.'}),\n",
              " Prediction(uid='Brian', iid='B0787V183F', r_ui=3.7, est=3.7000000000000006, details={'actual_k': 5, 'was_impossible': False}),\n",
              " Prediction(uid='Michael Abraham', iid='B013XAPUW6', r_ui=3.6, est=3.5999999999999996, details={'actual_k': 1, 'was_impossible': False}),\n",
              " Prediction(uid='Kathy Poplin', iid='B01N4E0RF1', r_ui=3.8, est=3.7664425299432653, details={'was_impossible': True, 'reason': 'User and/or item is unknown.'}),\n",
              " Prediction(uid='MIGUEL', iid='B076XLLCQC', r_ui=4.0, est=3.7664425299432653, details={'was_impossible': True, 'reason': 'User and/or item is unknown.'}),\n",
              " Prediction(uid='Michael Mandell', iid='B008PAW5EQ', r_ui=3.7, est=3.7664425299432653, details={'was_impossible': True, 'reason': 'User and/or item is unknown.'}),\n",
              " Prediction(uid='benita', iid='B00CEKXJ3Y', r_ui=3.5, est=3.7664425299432653, details={'was_impossible': True, 'reason': 'User and/or item is unknown.'}),\n",
              " Prediction(uid='Christopher Williams', iid='B01CJ3SCN2', r_ui=3.6, est=3.7664425299432653, details={'was_impossible': True, 'reason': 'User and/or item is unknown.'}),\n",
              " Prediction(uid='Augustine Roberts', iid='B00KM10ITK', r_ui=3.5, est=3.7664425299432653, details={'was_impossible': True, 'reason': 'User and/or item is unknown.'}),\n",
              " Prediction(uid='Hiroki Sho', iid='B07Q3T41M4', r_ui=4.5, est=3.7664425299432653, details={'was_impossible': True, 'reason': 'User and/or item is unknown.'}),\n",
              " Prediction(uid='Kansas88', iid='B00A2V7BA4', r_ui=3.4, est=3.7664425299432653, details={'was_impossible': True, 'reason': 'User and/or item is unknown.'}),\n",
              " Prediction(uid='Steven', iid='B0787V183F', r_ui=3.7, est=3.7000000000000006, details={'actual_k': 5, 'was_impossible': False}),\n",
              " Prediction(uid='Rafael Duran Frias', iid='B0096QYH80', r_ui=3.0, est=3.7664425299432653, details={'was_impossible': True, 'reason': 'User and/or item is unknown.'}),\n",
              " Prediction(uid='Y Ababio', iid='B07G7QZKBG', r_ui=4.2, est=3.7664425299432653, details={'was_impossible': True, 'reason': 'User and/or item is unknown.'}),\n",
              " Prediction(uid='SCSU Girl', iid='B07QCXPP71', r_ui=4.5, est=3.7664425299432653, details={'was_impossible': True, 'reason': 'User and/or item is unknown.'}),\n",
              " Prediction(uid='Edwin Maldonado', iid='B07X5SHN81', r_ui=4.5, est=3.7664425299432653, details={'was_impossible': True, 'reason': 'User and/or item is unknown.'}),\n",
              " Prediction(uid='Hussein abujajeh', iid='B07PB77Z4J', r_ui=4.0, est=3.7664425299432653, details={'was_impossible': True, 'reason': 'User and/or item is unknown.'}),\n",
              " Prediction(uid='josue jimenez', iid='B07Y8XK9GC', r_ui=4.5, est=4.5, details={'actual_k': 1, 'was_impossible': False}),\n",
              " Prediction(uid='Homero oyervide', iid='B07QK32C8M', r_ui=4.1, est=3.7664425299432653, details={'was_impossible': True, 'reason': 'User and/or item is unknown.'}),\n",
              " Prediction(uid='CPL', iid='B077ZKKDWK', r_ui=3.8, est=3.8000000000000007, details={'actual_k': 1, 'was_impossible': False}),\n",
              " Prediction(uid=\"Brenda O'Ryan\", iid='B00E6FGSHY', r_ui=3.7, est=3.7664425299432653, details={'was_impossible': True, 'reason': 'User and/or item is unknown.'}),\n",
              " Prediction(uid='Carla Tavares', iid='B07PY52GVP', r_ui=4.4, est=3.7664425299432653, details={'was_impossible': True, 'reason': 'User and/or item is unknown.'}),\n",
              " Prediction(uid='Cheryl', iid='B07B82VTX5', r_ui=3.9, est=3.8999999999999995, details={'actual_k': 2, 'was_impossible': False}),\n",
              " Prediction(uid='paula', iid='B07V5KS95Y', r_ui=4.3, est=4.300000000000002, details={'actual_k': 1, 'was_impossible': False}),\n",
              " Prediction(uid='Stephen Yohler', iid='B01M01YX15', r_ui=3.5, est=3.7664425299432653, details={'was_impossible': True, 'reason': 'User and/or item is unknown.'}),\n",
              " Prediction(uid='john grigsby', iid='B079K78C1Y', r_ui=4.1, est=3.7664425299432653, details={'was_impossible': True, 'reason': 'User and/or item is unknown.'}),\n",
              " Prediction(uid='samuel chavez', iid='B076XLLCQC', r_ui=4.0, est=3.7664425299432653, details={'was_impossible': True, 'reason': 'User and/or item is unknown.'}),\n",
              " Prediction(uid='Riley Thompson', iid='B07GL6W1NR', r_ui=4.2, est=3.7664425299432653, details={'was_impossible': True, 'reason': 'User and/or item is unknown.'}),\n",
              " Prediction(uid='George', iid='B01NB1KG8U', r_ui=4.0, est=3.9999999999999996, details={'actual_k': 5, 'was_impossible': False}),\n",
              " Prediction(uid=\"Lewis's\", iid='B07KKL5KGG', r_ui=3.9, est=3.9000000000000004, details={'actual_k': 1, 'was_impossible': False}),\n",
              " Prediction(uid='Charlemagne Nelson', iid='B01N9XOXCK', r_ui=3.8, est=3.7664425299432653, details={'was_impossible': True, 'reason': 'User and/or item is unknown.'}),\n",
              " Prediction(uid='C. Brown', iid='B013XAPUW6', r_ui=3.6, est=3.5999999999999996, details={'actual_k': 1, 'was_impossible': False}),\n",
              " Prediction(uid='MolE DeezY', iid='B07GNHMZ3N', r_ui=4.4, est=3.7664425299432653, details={'was_impossible': True, 'reason': 'User and/or item is unknown.'}),\n",
              " Prediction(uid=\"Ol ' DW\", iid='B071VGLCRX', r_ui=3.7, est=3.7664425299432653, details={'was_impossible': True, 'reason': 'User and/or item is unknown.'}),\n",
              " Prediction(uid='john morris bennett', iid='B018OMP8ES', r_ui=3.6, est=3.6000000000000005, details={'actual_k': 1, 'was_impossible': False}),\n",
              " Prediction(uid='Teikei09', iid='B06Y189H68', r_ui=3.5, est=3.7664425299432653, details={'was_impossible': True, 'reason': 'User and/or item is unknown.'}),\n",
              " Prediction(uid='D. L. Stearns', iid='B07BFCZYRM', r_ui=4.2, est=3.7664425299432653, details={'was_impossible': True, 'reason': 'User and/or item is unknown.'}),\n",
              " Prediction(uid='Literary Vagabond', iid='B077ZMWX1W', r_ui=3.8, est=3.7664425299432653, details={'was_impossible': True, 'reason': 'User and/or item is unknown.'}),\n",
              " Prediction(uid='mark', iid='B071VGLCRX', r_ui=3.7, est=3.7000000000000015, details={'actual_k': 3, 'was_impossible': False}),\n",
              " Prediction(uid='Jerry R. Johnson', iid='B00F9RRVUG', r_ui=3.5, est=3.7664425299432653, details={'was_impossible': True, 'reason': 'User and/or item is unknown.'}),\n",
              " Prediction(uid='Amazon Customer', iid='B07WSJYDXX', r_ui=3.9, est=3.9, details={'actual_k': 5, 'was_impossible': False}),\n",
              " Prediction(uid='kim k paulsen', iid='B01MZG55UE', r_ui=3.1, est=3.7664425299432653, details={'was_impossible': True, 'reason': 'User and/or item is unknown.'}),\n",
              " Prediction(uid='pa.lion', iid='B072ZWCKP5', r_ui=4.2, est=3.7664425299432653, details={'was_impossible': True, 'reason': 'User and/or item is unknown.'}),\n",
              " Prediction(uid='Richard Rondon', iid='B07VB9MMMW', r_ui=4.5, est=4.5, details={'actual_k': 1, 'was_impossible': False}),\n",
              " Prediction(uid='Terry', iid='B0033SFV5A', r_ui=3.3, est=3.3, details={'actual_k': 1, 'was_impossible': False}),\n",
              " Prediction(uid='Wendell Lee', iid='B0766TPHSH', r_ui=4.1, est=3.7664425299432653, details={'was_impossible': True, 'reason': 'User and/or item is unknown.'}),\n",
              " Prediction(uid='martha clark', iid='B06XS4978K', r_ui=3.8, est=3.7664425299432653, details={'was_impossible': True, 'reason': 'User and/or item is unknown.'}),\n",
              " Prediction(uid='leonardo', iid='B01EIVMETG', r_ui=3.2, est=3.7664425299432653, details={'was_impossible': True, 'reason': 'User and/or item is unknown.'}),\n",
              " Prediction(uid='Tunde D', iid='B07NZVM3RN', r_ui=4.5, est=4.499999999999999, details={'actual_k': 1, 'was_impossible': False}),\n",
              " Prediction(uid='Kyle K.', iid='B07L543G3M', r_ui=4.1, est=3.7664425299432653, details={'was_impossible': True, 'reason': 'User and/or item is unknown.'}),\n",
              " Prediction(uid='E. Vega', iid='B07N4M412B', r_ui=4.2, est=3.7664425299432653, details={'was_impossible': True, 'reason': 'User and/or item is unknown.'}),\n",
              " Prediction(uid='Gurvinder Singh', iid='B0766TPHSH', r_ui=4.1, est=3.7664425299432653, details={'was_impossible': True, 'reason': 'User and/or item is unknown.'}),\n",
              " Prediction(uid='Amazon Customer', iid='B07FM9913M', r_ui=4.2, est=4.2, details={'actual_k': 5, 'was_impossible': False}),\n",
              " Prediction(uid='rb-nemesis', iid='B014GCG150', r_ui=4.1, est=3.7664425299432653, details={'was_impossible': True, 'reason': 'User and/or item is unknown.'}),\n",
              " Prediction(uid='Amazon Customer', iid='B07N91S9MW', r_ui=4.1, est=4.1, details={'actual_k': 5, 'was_impossible': False}),\n",
              " Prediction(uid='andrew belanger', iid='B07BFCZYRM', r_ui=4.2, est=3.7664425299432653, details={'was_impossible': True, 'reason': 'User and/or item is unknown.'}),\n",
              " Prediction(uid='catherine', iid='B07PB3WV54', r_ui=4.0, est=3.7664425299432653, details={'was_impossible': True, 'reason': 'User and/or item is unknown.'}),\n",
              " Prediction(uid='Jeffrey Segal', iid='B07MF3JM4T', r_ui=4.1, est=3.7664425299432653, details={'was_impossible': True, 'reason': 'User and/or item is unknown.'}),\n",
              " Prediction(uid='Phil Hopper', iid='B01M0PADR4', r_ui=3.4, est=3.7664425299432653, details={'was_impossible': True, 'reason': 'User and/or item is unknown.'}),\n",
              " Prediction(uid='Cally Owsley', iid='B00X2ZQ5RM', r_ui=2.8, est=3.7664425299432653, details={'was_impossible': True, 'reason': 'User and/or item is unknown.'}),\n",
              " Prediction(uid='Barr', iid='B07RDMLR4V', r_ui=4.1, est=4.1, details={'actual_k': 1, 'was_impossible': False}),\n",
              " Prediction(uid='Theresa F. Toe', iid='B07KX1L519', r_ui=4.1, est=3.7664425299432653, details={'was_impossible': True, 'reason': 'User and/or item is unknown.'}),\n",
              " Prediction(uid='Dhananjay Patil', iid='B06XR8G1TX', r_ui=3.5, est=3.7664425299432653, details={'was_impossible': True, 'reason': 'User and/or item is unknown.'}),\n",
              " Prediction(uid='Amazon Customer', iid='B01CJ3SCN2', r_ui=3.6, est=3.6, details={'actual_k': 5, 'was_impossible': False}),\n",
              " Prediction(uid='Amazon Customer', iid='B00A2V7BA4', r_ui=3.4, est=3.4, details={'actual_k': 5, 'was_impossible': False}),\n",
              " Prediction(uid='Jader', iid='B0775H5HJW', r_ui=3.8, est=3.7664425299432653, details={'was_impossible': True, 'reason': 'User and/or item is unknown.'}),\n",
              " Prediction(uid='SickSix', iid='B072ZWCKP5', r_ui=4.2, est=3.7664425299432653, details={'was_impossible': True, 'reason': 'User and/or item is unknown.'}),\n",
              " Prediction(uid='Tyler', iid='B07HD3QC65', r_ui=3.3, est=3.3000000000000007, details={'actual_k': 5, 'was_impossible': False}),\n",
              " Prediction(uid='John', iid='B01M0PADR4', r_ui=3.4, est=3.399999999999999, details={'actual_k': 5, 'was_impossible': False}),\n",
              " Prediction(uid='Javier', iid='B07PV7LN4X', r_ui=4.2, est=4.200000000000001, details={'actual_k': 5, 'was_impossible': False}),\n",
              " Prediction(uid='Askhat Sharapov', iid='B0033SFV5A', r_ui=3.3, est=3.7664425299432653, details={'was_impossible': True, 'reason': 'User and/or item is unknown.'}),\n",
              " Prediction(uid='James Ang C. G', iid='B0767538YH', r_ui=3.7, est=3.7664425299432653, details={'was_impossible': True, 'reason': 'User and/or item is unknown.'}),\n",
              " Prediction(uid='Amazon Customer', iid='B00N532DU4', r_ui=3.2, est=3.2, details={'actual_k': 5, 'was_impossible': False}),\n",
              " Prediction(uid='Kailee B.', iid='B00V7FY44A', r_ui=3.5, est=3.5, details={'actual_k': 0, 'was_impossible': False}),\n",
              " Prediction(uid='William', iid='B07Q6ZNJNT', r_ui=4.2, est=4.199999999999999, details={'actual_k': 5, 'was_impossible': False}),\n",
              " Prediction(uid='Thomas Goodlin', iid='B01M0PADR4', r_ui=3.4, est=3.7664425299432653, details={'was_impossible': True, 'reason': 'User and/or item is unknown.'}),\n",
              " Prediction(uid='Alexandria B.', iid='B07VZL3L5V', r_ui=4.4, est=3.7664425299432653, details={'was_impossible': True, 'reason': 'User and/or item is unknown.'}),\n",
              " Prediction(uid='Aaron TOURGUIDEPERU', iid='B06XRJQX91', r_ui=3.6, est=3.7664425299432653, details={'was_impossible': True, 'reason': 'User and/or item is unknown.'}),\n",
              " Prediction(uid='Dan', iid='B07HK4JNV1', r_ui=4.3, est=4.299999999999999, details={'actual_k': 5, 'was_impossible': False}),\n",
              " Prediction(uid='Kozio_', iid='B07DDD8PNQ', r_ui=3.9, est=3.7664425299432653, details={'was_impossible': True, 'reason': 'User and/or item is unknown.'}),\n",
              " Prediction(uid='JB', iid='B072ZWCKP5', r_ui=4.2, est=4.2, details={'actual_k': 5, 'was_impossible': False}),\n",
              " Prediction(uid='DJat49341', iid='B077YTCMH9', r_ui=3.8, est=3.7664425299432653, details={'was_impossible': True, 'reason': 'User and/or item is unknown.'}),\n",
              " Prediction(uid='ignacio', iid='B01M59QP6C', r_ui=3.2, est=3.1999999999999997, details={'actual_k': 0, 'was_impossible': False}),\n",
              " Prediction(uid='agtindale', iid='B013XAPUW6', r_ui=3.6, est=3.5999999999999996, details={'actual_k': 1, 'was_impossible': False}),\n",
              " Prediction(uid='Gabriela Córdova H', iid='B07BFCZYRM', r_ui=4.2, est=3.7664425299432653, details={'was_impossible': True, 'reason': 'User and/or item is unknown.'}),\n",
              " Prediction(uid='Dianella', iid='B07PY52GVP', r_ui=4.4, est=3.7664425299432653, details={'was_impossible': True, 'reason': 'User and/or item is unknown.'}),\n",
              " Prediction(uid='MoJo', iid='B07BZXDZKN', r_ui=3.7, est=3.7664425299432653, details={'was_impossible': True, 'reason': 'User and/or item is unknown.'}),\n",
              " Prediction(uid='JasmineBlack', iid='B00CGIULGC', r_ui=3.2, est=3.7664425299432653, details={'was_impossible': True, 'reason': 'User and/or item is unknown.'}),\n",
              " Prediction(uid='Angely Y.Espinosa C.', iid='B00WHE2WCG', r_ui=2.9, est=3.7664425299432653, details={'was_impossible': True, 'reason': 'User and/or item is unknown.'}),\n",
              " Prediction(uid='Darick Petrik', iid='B07CMBB6PH', r_ui=4.3, est=3.7664425299432653, details={'was_impossible': True, 'reason': 'User and/or item is unknown.'}),\n",
              " Prediction(uid='Tom', iid='B004GLQTG8', r_ui=3.5, est=3.5, details={'actual_k': 5, 'was_impossible': False}),\n",
              " Prediction(uid='Amazon Customer', iid='B07NPRQYP1', r_ui=4.0, est=4.0, details={'actual_k': 5, 'was_impossible': False}),\n",
              " Prediction(uid='Presea', iid='B06Y3HCFZT', r_ui=4.1, est=3.7664425299432653, details={'was_impossible': True, 'reason': 'User and/or item is unknown.'}),\n",
              " Prediction(uid='Victor R.', iid='B07VD3JH2C', r_ui=4.5, est=4.5, details={'actual_k': 1, 'was_impossible': False}),\n",
              " Prediction(uid='Christopher F. Williams', iid='B07L543G3M', r_ui=4.1, est=3.7664425299432653, details={'was_impossible': True, 'reason': 'User and/or item is unknown.'}),\n",
              " Prediction(uid='Alfredo', iid='B00836Y6B2', r_ui=3.2, est=3.1999999999999997, details={'actual_k': 0, 'was_impossible': False}),\n",
              " Prediction(uid='Nasser Alghazali', iid='B01EWKHIAI', r_ui=3.9, est=3.7664425299432653, details={'was_impossible': True, 'reason': 'User and/or item is unknown.'}),\n",
              " Prediction(uid='Denery Cruz', iid='B019S654DO', r_ui=3.7, est=3.7664425299432653, details={'was_impossible': True, 'reason': 'User and/or item is unknown.'}),\n",
              " Prediction(uid='Arnold', iid='B006OU39QW', r_ui=4.1, est=4.100000000000002, details={'actual_k': 2, 'was_impossible': False}),\n",
              " Prediction(uid='Tim', iid='B01CJ3SCN2', r_ui=3.6, est=3.600000000000002, details={'actual_k': 4, 'was_impossible': False}),\n",
              " Prediction(uid='Kertis Zarbok', iid='B00HPP3QD6', r_ui=4.0, est=3.7664425299432653, details={'was_impossible': True, 'reason': 'User and/or item is unknown.'}),\n",
              " Prediction(uid='Ryan Blum', iid='B06Y2GX8K8', r_ui=4.0, est=3.7664425299432653, details={'was_impossible': True, 'reason': 'User and/or item is unknown.'}),\n",
              " Prediction(uid='Matan', iid='B01CJ3SCJ6', r_ui=3.2, est=3.2, details={'actual_k': 1, 'was_impossible': False}),\n",
              " Prediction(uid='pamela pitre', iid='B00D35Z6OE', r_ui=3.1, est=3.7664425299432653, details={'was_impossible': True, 'reason': 'User and/or item is unknown.'}),\n",
              " Prediction(uid='Steff philogene', iid='B00F1HVZ0Q', r_ui=3.7, est=3.7664425299432653, details={'was_impossible': True, 'reason': 'User and/or item is unknown.'}),\n",
              " Prediction(uid='Miranda Brock', iid='B079HB518K', r_ui=3.9, est=3.7664425299432653, details={'was_impossible': True, 'reason': 'User and/or item is unknown.'}),\n",
              " Prediction(uid='C.', iid='B07VZL3L5V', r_ui=4.4, est=4.4, details={'actual_k': 1, 'was_impossible': False}),\n",
              " Prediction(uid='Amazon Customer', iid='B00LAEA84S', r_ui=3.2, est=3.2, details={'actual_k': 5, 'was_impossible': False}),\n",
              " Prediction(uid='jenni', iid='B07WSJYDXX', r_ui=3.9, est=3.7664425299432653, details={'was_impossible': True, 'reason': 'User and/or item is unknown.'}),\n",
              " Prediction(uid='Katesha Curtiss', iid='B07D6TQP6F', r_ui=3.9, est=3.9000000000000004, details={'actual_k': 1, 'was_impossible': False}),\n",
              " Prediction(uid='R. Gonzales', iid='B00F2SKPIM', r_ui=3.9, est=3.7664425299432653, details={'was_impossible': True, 'reason': 'User and/or item is unknown.'}),\n",
              " Prediction(uid='Jesse', iid='B07VZL3L5V', r_ui=4.4, est=4.3999999999999995, details={'actual_k': 5, 'was_impossible': False}),\n",
              " Prediction(uid='jora', iid='B01M01YX15', r_ui=3.5, est=3.5000000000000004, details={'actual_k': 1, 'was_impossible': False}),\n",
              " Prediction(uid='Kindra K. Walker', iid='B00WF988BW', r_ui=3.7, est=3.7664425299432653, details={'was_impossible': True, 'reason': 'User and/or item is unknown.'}),\n",
              " Prediction(uid='Barbie', iid='B07755LZ67', r_ui=4.0, est=3.7664425299432653, details={'was_impossible': True, 'reason': 'User and/or item is unknown.'}),\n",
              " Prediction(uid='Francis Santiago', iid='B077YTCMH9', r_ui=3.8, est=3.7664425299432653, details={'was_impossible': True, 'reason': 'User and/or item is unknown.'}),\n",
              " Prediction(uid='Computer user', iid='B07J4Z9647', r_ui=4.4, est=3.7664425299432653, details={'was_impossible': True, 'reason': 'User and/or item is unknown.'}),\n",
              " Prediction(uid='stalkythefish', iid='B0787V183F', r_ui=3.7, est=3.7664425299432653, details={'was_impossible': True, 'reason': 'User and/or item is unknown.'}),\n",
              " Prediction(uid='Jerome Maynard', iid='B01N9YO1DS', r_ui=3.5, est=3.7664425299432653, details={'was_impossible': True, 'reason': 'User and/or item is unknown.'}),\n",
              " Prediction(uid='foxdi60', iid='B00V7FY44A', r_ui=3.5, est=3.5, details={'actual_k': 0, 'was_impossible': False}),\n",
              " Prediction(uid='Kindle Customer', iid='B07K3X5JTP', r_ui=4.5, est=4.5, details={'actual_k': 5, 'was_impossible': False}),\n",
              " Prediction(uid='JessicaHoneycutt', iid='B07WSXH2W2', r_ui=4.4, est=3.7664425299432653, details={'was_impossible': True, 'reason': 'User and/or item is unknown.'}),\n",
              " Prediction(uid='christina rice', iid='B00HPP3QD6', r_ui=4.0, est=3.7664425299432653, details={'was_impossible': True, 'reason': 'User and/or item is unknown.'}),\n",
              " Prediction(uid='Thrysca', iid='B01M0PADR4', r_ui=3.4, est=3.7664425299432653, details={'was_impossible': True, 'reason': 'User and/or item is unknown.'}),\n",
              " Prediction(uid='Heinrich S.', iid='B07HD3QC65', r_ui=3.3, est=3.7664425299432653, details={'was_impossible': True, 'reason': 'User and/or item is unknown.'}),\n",
              " Prediction(uid='SALEEM K.', iid='B07RB78W37', r_ui=3.7, est=3.7, details={'actual_k': 1, 'was_impossible': False}),\n",
              " Prediction(uid='nat', iid='B06XR8G1TX', r_ui=3.5, est=3.7664425299432653, details={'was_impossible': True, 'reason': 'User and/or item is unknown.'}),\n",
              " Prediction(uid='mikey mike', iid='B07RWFC6NY', r_ui=4.4, est=3.7664425299432653, details={'was_impossible': True, 'reason': 'User and/or item is unknown.'}),\n",
              " Prediction(uid='Amazon Customer', iid='B00N532DU4', r_ui=3.2, est=3.2, details={'actual_k': 5, 'was_impossible': False}),\n",
              " Prediction(uid='Anna Cobb', iid='B071ZDQ6MV', r_ui=3.7, est=3.7664425299432653, details={'was_impossible': True, 'reason': 'User and/or item is unknown.'}),\n",
              " Prediction(uid='Diego Fedorchuk', iid='B015ROR4PC', r_ui=3.5, est=3.7664425299432653, details={'was_impossible': True, 'reason': 'User and/or item is unknown.'}),\n",
              " Prediction(uid='jose', iid='B07FZH9BGV', r_ui=4.1, est=4.100000000000001, details={'actual_k': 2, 'was_impossible': False}),\n",
              " Prediction(uid='Gary Puryear', iid='B07N91S9MW', r_ui=4.1, est=3.7664425299432653, details={'was_impossible': True, 'reason': 'User and/or item is unknown.'}),\n",
              " Prediction(uid='maxine', iid='B07WSJYDXX', r_ui=3.9, est=3.8999999999999995, details={'actual_k': 2, 'was_impossible': False}),\n",
              " Prediction(uid='Soy L poyo', iid='B072QR6NKG', r_ui=3.9, est=3.7664425299432653, details={'was_impossible': True, 'reason': 'User and/or item is unknown.'}),\n",
              " Prediction(uid='Amazon Customer', iid='B01D1J9BGU', r_ui=3.8, est=3.8, details={'actual_k': 5, 'was_impossible': False}),\n",
              " Prediction(uid='Meneye', iid='B01CJ3SCJ6', r_ui=3.2, est=3.2, details={'actual_k': 1, 'was_impossible': False}),\n",
              " Prediction(uid='Dave', iid='B011AC4U7A', r_ui=3.3, est=3.3000000000000003, details={'actual_k': 5, 'was_impossible': False}),\n",
              " Prediction(uid='Kia', iid='B071JP8XDJ', r_ui=3.6, est=3.600000000000001, details={'actual_k': 0, 'was_impossible': False}),\n",
              " Prediction(uid='Amazon Customer', iid='B07Q84DPZH', r_ui=4.1, est=4.1, details={'actual_k': 5, 'was_impossible': False}),\n",
              " Prediction(uid='Nightly reader', iid='B018OMP8ES', r_ui=3.6, est=3.7664425299432653, details={'was_impossible': True, 'reason': 'User and/or item is unknown.'}),\n",
              " Prediction(uid='Barbara Morse', iid='B07FZH9BGV', r_ui=4.1, est=3.7664425299432653, details={'was_impossible': True, 'reason': 'User and/or item is unknown.'}),\n",
              " Prediction(uid='Ray', iid='B07VPMYXST', r_ui=4.6, est=4.6, details={'actual_k': 5, 'was_impossible': False}),\n",
              " Prediction(uid='Dornell', iid='B07RDMLR4V', r_ui=4.1, est=4.1, details={'actual_k': 1, 'was_impossible': False}),\n",
              " Prediction(uid='Al Vic', iid='B07H8Q3C9T', r_ui=4.1, est=3.7664425299432653, details={'was_impossible': True, 'reason': 'User and/or item is unknown.'}),\n",
              " Prediction(uid='Sally J. Ralston', iid='B06Y15D68F', r_ui=3.6, est=3.7664425299432653, details={'was_impossible': True, 'reason': 'User and/or item is unknown.'}),\n",
              " Prediction(uid='P. Cappiello3', iid='B00VH2TWBS', r_ui=3.1, est=3.7664425299432653, details={'was_impossible': True, 'reason': 'User and/or item is unknown.'}),\n",
              " Prediction(uid='Gabriel Sevilla', iid='B07PY52GVP', r_ui=4.4, est=3.7664425299432653, details={'was_impossible': True, 'reason': 'User and/or item is unknown.'}),\n",
              " Prediction(uid='sulma moncada', iid='B075FLG6MV', r_ui=3.1, est=3.7664425299432653, details={'was_impossible': True, 'reason': 'User and/or item is unknown.'}),\n",
              " Prediction(uid='Shijie Wang', iid='B00836Y6B2', r_ui=3.2, est=3.7664425299432653, details={'was_impossible': True, 'reason': 'User and/or item is unknown.'}),\n",
              " Prediction(uid='Ulises ibarra', iid='B06XR8G1TX', r_ui=3.5, est=3.7664425299432653, details={'was_impossible': True, 'reason': 'User and/or item is unknown.'}),\n",
              " Prediction(uid='Raccoon Army', iid='B075FLG6MV', r_ui=3.1, est=3.7664425299432653, details={'was_impossible': True, 'reason': 'User and/or item is unknown.'}),\n",
              " Prediction(uid='John C. Winters', iid='B00CQAODG4', r_ui=3.2, est=3.7664425299432653, details={'was_impossible': True, 'reason': 'User and/or item is unknown.'}),\n",
              " Prediction(uid='Shane A. Bischoff', iid='B019VHBB32', r_ui=3.3, est=3.7664425299432653, details={'was_impossible': True, 'reason': 'User and/or item is unknown.'}),\n",
              " Prediction(uid='Todd', iid='B071H9KKKF', r_ui=4.0, est=4.0, details={'actual_k': 5, 'was_impossible': False}),\n",
              " Prediction(uid='HunisucklRose', iid='B00CQAODG4', r_ui=3.2, est=3.7664425299432653, details={'was_impossible': True, 'reason': 'User and/or item is unknown.'}),\n",
              " Prediction(uid='Christopher J.', iid='B06XSF5C42', r_ui=3.5, est=3.7664425299432653, details={'was_impossible': True, 'reason': 'User and/or item is unknown.'}),\n",
              " Prediction(uid='Annie', iid='B07CHW5KMY', r_ui=3.8, est=3.8, details={'actual_k': 5, 'was_impossible': False}),\n",
              " Prediction(uid='Geo', iid='B00A2V7BA4', r_ui=3.4, est=3.7664425299432653, details={'was_impossible': True, 'reason': 'User and/or item is unknown.'}),\n",
              " Prediction(uid='Jay C. Buck', iid='B01N9XOXCK', r_ui=3.8, est=3.7999999999999994, details={'actual_k': 1, 'was_impossible': False}),\n",
              " Prediction(uid='Jacob McGuire', iid='B00WHE2WCG', r_ui=2.9, est=3.7664425299432653, details={'was_impossible': True, 'reason': 'User and/or item is unknown.'}),\n",
              " Prediction(uid='Michael S. Baldwin', iid='B074VDZZKW', r_ui=4.4, est=3.7664425299432653, details={'was_impossible': True, 'reason': 'User and/or item is unknown.'}),\n",
              " Prediction(uid='KingMDM', iid='B07N91S9MW', r_ui=4.1, est=3.7664425299432653, details={'was_impossible': True, 'reason': 'User and/or item is unknown.'}),\n",
              " Prediction(uid='Mike', iid='B00F1HVZ0Q', r_ui=3.7, est=3.6999999999999997, details={'actual_k': 5, 'was_impossible': False}),\n",
              " Prediction(uid='Dustin Beckwith', iid='B00727AODC', r_ui=3.1, est=3.7664425299432653, details={'was_impossible': True, 'reason': 'User and/or item is unknown.'}),\n",
              " Prediction(uid='Columbus Max', iid='B07FZH9BGV', r_ui=4.1, est=3.7664425299432653, details={'was_impossible': True, 'reason': 'User and/or item is unknown.'}),\n",
              " Prediction(uid='Becky H.', iid='B01CYYYRNK', r_ui=3.1, est=3.7664425299432653, details={'was_impossible': True, 'reason': 'User and/or item is unknown.'}),\n",
              " Prediction(uid='Brian Johnson', iid='B018OMP8ES', r_ui=3.6, est=3.6000000000000005, details={'actual_k': 1, 'was_impossible': False}),\n",
              " Prediction(uid='Ricardo', iid='B07H41NB46', r_ui=4.3, est=4.3, details={'actual_k': 4, 'was_impossible': False}),\n",
              " Prediction(uid='David Rawlins', iid='B01DZ2CS4U', r_ui=3.2, est=3.2, details={'actual_k': 1, 'was_impossible': False}),\n",
              " Prediction(uid='John', iid='B07D6TQP6F', r_ui=3.9, est=3.899999999999998, details={'actual_k': 5, 'was_impossible': False}),\n",
              " Prediction(uid='Antony in D/FW', iid='B0775451TT', r_ui=3.9, est=3.8999999999999995, details={'actual_k': 1, 'was_impossible': False}),\n",
              " Prediction(uid='Jordan Scheffler', iid='B074P62MW8', r_ui=3.8, est=3.7664425299432653, details={'was_impossible': True, 'reason': 'User and/or item is unknown.'}),\n",
              " Prediction(uid='Kenny Thomas', iid='B01FIW1B9S', r_ui=3.8, est=3.8, details={'actual_k': 1, 'was_impossible': False}),\n",
              " Prediction(uid='Jules Dassie', iid='B00O15MWOM', r_ui=3.2, est=3.7664425299432653, details={'was_impossible': True, 'reason': 'User and/or item is unknown.'}),\n",
              " Prediction(uid='Lynn A McCrary', iid='B07755LZ67', r_ui=4.0, est=3.7664425299432653, details={'was_impossible': True, 'reason': 'User and/or item is unknown.'}),\n",
              " Prediction(uid='Akhil Aggarwal', iid='B074P62MW8', r_ui=3.8, est=3.7664425299432653, details={'was_impossible': True, 'reason': 'User and/or item is unknown.'}),\n",
              " Prediction(uid='April Habiger', iid='B0096QYH80', r_ui=3.0, est=3.7664425299432653, details={'was_impossible': True, 'reason': 'User and/or item is unknown.'}),\n",
              " Prediction(uid='Kindle Customer', iid='B07FZH9BGV', r_ui=4.1, est=4.1000000000000005, details={'actual_k': 5, 'was_impossible': False}),\n",
              " Prediction(uid='Refugio', iid='B077YTCMH9', r_ui=3.8, est=3.8000000000000003, details={'actual_k': 1, 'was_impossible': False}),\n",
              " Prediction(uid='Paul Cola', iid='B004H23JXW', r_ui=3.4, est=3.7664425299432653, details={'was_impossible': True, 'reason': 'User and/or item is unknown.'}),\n",
              " Prediction(uid='Amazon Customer', iid='B018OMP8ES', r_ui=3.6, est=3.6, details={'actual_k': 5, 'was_impossible': False}),\n",
              " Prediction(uid='Moose', iid='B07R7DY911', r_ui=4.3, est=3.7664425299432653, details={'was_impossible': True, 'reason': 'User and/or item is unknown.'}),\n",
              " Prediction(uid='Happy customer', iid='B07PY52GVP', r_ui=4.4, est=4.4, details={'actual_k': 1, 'was_impossible': False}),\n",
              " Prediction(uid='Anthony Olivo', iid='B0096QYH80', r_ui=3.0, est=3.7664425299432653, details={'was_impossible': True, 'reason': 'User and/or item is unknown.'}),\n",
              " Prediction(uid='Amazon Customer', iid='B013XAPUW6', r_ui=3.6, est=3.6, details={'actual_k': 5, 'was_impossible': False}),\n",
              " Prediction(uid='Donald Klopfenstein', iid='B076XLLCQC', r_ui=4.0, est=3.7664425299432653, details={'was_impossible': True, 'reason': 'User and/or item is unknown.'}),\n",
              " Prediction(uid='grolydmd', iid='B00TRLXO6U', r_ui=3.8, est=3.7664425299432653, details={'was_impossible': True, 'reason': 'User and/or item is unknown.'}),\n",
              " Prediction(uid='Amazon Customer', iid='B06Y3HCFZT', r_ui=4.1, est=4.1, details={'actual_k': 5, 'was_impossible': False}),\n",
              " Prediction(uid='Amazon Customer', iid='B07H41NB46', r_ui=4.3, est=4.3, details={'actual_k': 5, 'was_impossible': False}),\n",
              " Prediction(uid='diane bulger', iid='B07755LZ67', r_ui=4.0, est=3.7664425299432653, details={'was_impossible': True, 'reason': 'User and/or item is unknown.'}),\n",
              " Prediction(uid='fmthac', iid='B072B7XSVT', r_ui=3.3, est=3.7664425299432653, details={'was_impossible': True, 'reason': 'User and/or item is unknown.'}),\n",
              " Prediction(uid='ShepherdGod', iid='B07C6FCC8G', r_ui=4.4, est=3.7664425299432653, details={'was_impossible': True, 'reason': 'User and/or item is unknown.'}),\n",
              " Prediction(uid='Vicente Diaz', iid='B01LEL8ABY', r_ui=3.0, est=3.7664425299432653, details={'was_impossible': True, 'reason': 'User and/or item is unknown.'}),\n",
              " Prediction(uid='Zeddicus 2018', iid='B007X6FFLS', r_ui=3.4, est=3.7664425299432653, details={'was_impossible': True, 'reason': 'User and/or item is unknown.'}),\n",
              " Prediction(uid='Philia', iid='B002UHS0UI', r_ui=2.7, est=3.7664425299432653, details={'was_impossible': True, 'reason': 'User and/or item is unknown.'}),\n",
              " Prediction(uid='JozefAZ', iid='B07579T83L', r_ui=3.0, est=3.7664425299432653, details={'was_impossible': True, 'reason': 'User and/or item is unknown.'}),\n",
              " Prediction(uid='R & L', iid='B0787V183F', r_ui=3.7, est=3.7664425299432653, details={'was_impossible': True, 'reason': 'User and/or item is unknown.'}),\n",
              " Prediction(uid='Cliente de Amazon', iid='B07H8Q3C9T', r_ui=4.1, est=4.1000000000000005, details={'actual_k': 5, 'was_impossible': False}),\n",
              " Prediction(uid='Mhz_Cupcake', iid='B00X2ZQ5RM', r_ui=2.8, est=3.7664425299432653, details={'was_impossible': True, 'reason': 'User and/or item is unknown.'}),\n",
              " Prediction(uid='Greg Bell', iid='B06XYMCMHD', r_ui=3.9, est=3.7664425299432653, details={'was_impossible': True, 'reason': 'User and/or item is unknown.'}),\n",
              " Prediction(uid='Cody Glad', iid='B075H3VWGN', r_ui=4.1, est=3.7664425299432653, details={'was_impossible': True, 'reason': 'User and/or item is unknown.'}),\n",
              " Prediction(uid='Marcel A.', iid='B07PV7LN4X', r_ui=4.2, est=3.7664425299432653, details={'was_impossible': True, 'reason': 'User and/or item is unknown.'}),\n",
              " Prediction(uid='Amazon Customer', iid='B01D1J9BGU', r_ui=3.8, est=3.8, details={'actual_k': 5, 'was_impossible': False}),\n",
              " Prediction(uid='western wisconsin', iid='B0096QYH80', r_ui=3.0, est=3.7664425299432653, details={'was_impossible': True, 'reason': 'User and/or item is unknown.'}),\n",
              " Prediction(uid='Home_rocks', iid='B00O15MWOM', r_ui=3.2, est=3.7664425299432653, details={'was_impossible': True, 'reason': 'User and/or item is unknown.'}),\n",
              " Prediction(uid='Romaine', iid='B07PB3WV54', r_ui=4.0, est=4.0, details={'actual_k': 1, 'was_impossible': False}),\n",
              " Prediction(uid='Alejandro', iid='B07KX1L519', r_ui=4.1, est=4.1, details={'actual_k': 0, 'was_impossible': False}),\n",
              " Prediction(uid='Beth Ndirangu', iid='B01M59QP6C', r_ui=3.2, est=3.7664425299432653, details={'was_impossible': True, 'reason': 'User and/or item is unknown.'}),\n",
              " Prediction(uid='Aureliano', iid='B07HFHX6HX', r_ui=4.2, est=4.200000000000001, details={'actual_k': 1, 'was_impossible': False}),\n",
              " Prediction(uid='Bianca', iid='B00O15MWOM', r_ui=3.2, est=3.1999999999999997, details={'actual_k': 0, 'was_impossible': False}),\n",
              " Prediction(uid='Abdallah Gad', iid='B01LEL8ABY', r_ui=3.0, est=3.7664425299432653, details={'was_impossible': True, 'reason': 'User and/or item is unknown.'}),\n",
              " Prediction(uid='Sanjay S. Melinamani', iid='B00CQAODG4', r_ui=3.2, est=3.7664425299432653, details={'was_impossible': True, 'reason': 'User and/or item is unknown.'}),\n",
              " Prediction(uid='Amazon Customer', iid='B00KM10ITK', r_ui=3.5, est=3.5, details={'actual_k': 5, 'was_impossible': False}),\n",
              " Prediction(uid='john hein', iid='B07CMBB6PH', r_ui=4.3, est=3.7664425299432653, details={'was_impossible': True, 'reason': 'User and/or item is unknown.'}),\n",
              " Prediction(uid='Lorrib', iid='B07BFCZYRM', r_ui=4.2, est=3.7664425299432653, details={'was_impossible': True, 'reason': 'User and/or item is unknown.'}),\n",
              " Prediction(uid='Michael', iid='B01M0PADR4', r_ui=3.4, est=3.3999999999999995, details={'actual_k': 5, 'was_impossible': False}),\n",
              " Prediction(uid='Ryann Landeta', iid='B0799ZMY6D', r_ui=4.1, est=3.7664425299432653, details={'was_impossible': True, 'reason': 'User and/or item is unknown.'}),\n",
              " Prediction(uid='sanaya08', iid='B00D99ZBR6', r_ui=3.5, est=3.7664425299432653, details={'was_impossible': True, 'reason': 'User and/or item is unknown.'}),\n",
              " Prediction(uid='Warren Rachele', iid='B077ZMWX1W', r_ui=3.8, est=3.7664425299432653, details={'was_impossible': True, 'reason': 'User and/or item is unknown.'}),\n",
              " Prediction(uid='Amazon Customer', iid='B00F2SKPIM', r_ui=3.9, est=3.9, details={'actual_k': 5, 'was_impossible': False}),\n",
              " Prediction(uid='Kenny S', iid='B01M59QP6C', r_ui=3.2, est=3.7664425299432653, details={'was_impossible': True, 'reason': 'User and/or item is unknown.'}),\n",
              " Prediction(uid='unsatisfying', iid='B06Y29N548', r_ui=3.5, est=3.7664425299432653, details={'was_impossible': True, 'reason': 'User and/or item is unknown.'}),\n",
              " Prediction(uid='Accounting cat', iid='B00F2SKPIM', r_ui=3.9, est=3.7664425299432653, details={'was_impossible': True, 'reason': 'User and/or item is unknown.'}),\n",
              " Prediction(uid='Arnold Barrie', iid='B079142R7Y', r_ui=3.5, est=3.7664425299432653, details={'was_impossible': True, 'reason': 'User and/or item is unknown.'}),\n",
              " Prediction(uid='Amazon Customer', iid='B01N9XOXCK', r_ui=3.8, est=3.8, details={'actual_k': 5, 'was_impossible': False}),\n",
              " Prediction(uid='Mohammed', iid='B075FL4H89', r_ui=3.4, est=3.7664425299432653, details={'was_impossible': True, 'reason': 'User and/or item is unknown.'}),\n",
              " Prediction(uid='Darth Chalupa', iid='B06Y16RL4W', r_ui=3.7, est=3.7664425299432653, details={'was_impossible': True, 'reason': 'User and/or item is unknown.'}),\n",
              " Prediction(uid='Michael0761 M.', iid='B018OMP8ES', r_ui=3.6, est=3.7664425299432653, details={'was_impossible': True, 'reason': 'User and/or item is unknown.'}),\n",
              " Prediction(uid='Doris A', iid='B01D1J9BGU', r_ui=3.8, est=3.7664425299432653, details={'was_impossible': True, 'reason': 'User and/or item is unknown.'}),\n",
              " Prediction(uid='Sammie', iid='B07BFCZYRM', r_ui=4.2, est=4.2, details={'actual_k': 1, 'was_impossible': False}),\n",
              " Prediction(uid='Stu', iid='B07NPRQYP1', r_ui=4.0, est=4.0, details={'actual_k': 1, 'was_impossible': False}),\n",
              " Prediction(uid='VAlady', iid='B00JS73V2U', r_ui=4.1, est=3.7664425299432653, details={'was_impossible': True, 'reason': 'User and/or item is unknown.'}),\n",
              " Prediction(uid='Amazon Customer', iid='B076XLLCQC', r_ui=4.0, est=4.0, details={'actual_k': 5, 'was_impossible': False}),\n",
              " Prediction(uid='jjoaquin14', iid='B07NZVM3RN', r_ui=4.5, est=3.7664425299432653, details={'was_impossible': True, 'reason': 'User and/or item is unknown.'}),\n",
              " Prediction(uid='Marissa Germain', iid='B00WHE2WCG', r_ui=2.9, est=3.7664425299432653, details={'was_impossible': True, 'reason': 'User and/or item is unknown.'}),\n",
              " Prediction(uid='Anya', iid='B01N9TM7KG', r_ui=3.7, est=3.7000000000000015, details={'actual_k': 1, 'was_impossible': False}),\n",
              " Prediction(uid='Mylene Ross Arcena', iid='B01M01YX15', r_ui=3.5, est=3.7664425299432653, details={'was_impossible': True, 'reason': 'User and/or item is unknown.'}),\n",
              " Prediction(uid='christian', iid='B004H23JXW', r_ui=3.4, est=3.3999999999999986, details={'actual_k': 1, 'was_impossible': False}),\n",
              " Prediction(uid='Mateo', iid='B07X5SHN81', r_ui=4.5, est=3.7664425299432653, details={'was_impossible': True, 'reason': 'User and/or item is unknown.'}),\n",
              " Prediction(uid='AM L.', iid='B076XLLCQC', r_ui=4.0, est=3.7664425299432653, details={'was_impossible': True, 'reason': 'User and/or item is unknown.'}),\n",
              " Prediction(uid='TeeJ', iid='B00HPP3QD6', r_ui=4.0, est=3.7664425299432653, details={'was_impossible': True, 'reason': 'User and/or item is unknown.'}),\n",
              " Prediction(uid='Dane Brown', iid='B07Y8YWTFL', r_ui=4.5, est=4.5, details={'actual_k': 1, 'was_impossible': False}),\n",
              " Prediction(uid='Santiago Azpurua', iid='B07FM9913M', r_ui=4.2, est=3.7664425299432653, details={'was_impossible': True, 'reason': 'User and/or item is unknown.'}),\n",
              " Prediction(uid='Christian Franco', iid='B07PY52GVP', r_ui=4.4, est=3.7664425299432653, details={'was_impossible': True, 'reason': 'User and/or item is unknown.'}),\n",
              " Prediction(uid='Abdulahi', iid='B076M9RQJ2', r_ui=4.1, est=3.7664425299432653, details={'was_impossible': True, 'reason': 'User and/or item is unknown.'}),\n",
              " Prediction(uid='javeed', iid='B00O2ALRNS', r_ui=2.8, est=3.7664425299432653, details={'was_impossible': True, 'reason': 'User and/or item is unknown.'}),\n",
              " Prediction(uid='Mm7bbf', iid='B0766TPHSH', r_ui=4.1, est=4.100000000000002, details={'actual_k': 0, 'was_impossible': False}),\n",
              " Prediction(uid='adam kontras', iid='B07QK32C8M', r_ui=4.1, est=3.7664425299432653, details={'was_impossible': True, 'reason': 'User and/or item is unknown.'}),\n",
              " Prediction(uid='Bryan Mufor', iid='B07QQYHSR5', r_ui=4.2, est=3.7664425299432653, details={'was_impossible': True, 'reason': 'User and/or item is unknown.'}),\n",
              " Prediction(uid='Alex G.', iid='B00LAEA84S', r_ui=3.2, est=3.7664425299432653, details={'was_impossible': True, 'reason': 'User and/or item is unknown.'}),\n",
              " Prediction(uid='Brett Moore III', iid='B075FLG6MV', r_ui=3.1, est=3.7664425299432653, details={'was_impossible': True, 'reason': 'User and/or item is unknown.'}),\n",
              " Prediction(uid='Amazon Customer', iid='B06X9HVVC5', r_ui=3.0, est=3.0, details={'actual_k': 5, 'was_impossible': False}),\n",
              " Prediction(uid='Amazon Customer', iid='B00836Y6B2', r_ui=3.2, est=3.2, details={'actual_k': 5, 'was_impossible': False}),\n",
              " Prediction(uid='Oscar Portillo', iid='B07GPNGWNK', r_ui=4.5, est=3.7664425299432653, details={'was_impossible': True, 'reason': 'User and/or item is unknown.'}),\n",
              " Prediction(uid='Pelagie', iid='B00836Y6B2', r_ui=3.2, est=3.7664425299432653, details={'was_impossible': True, 'reason': 'User and/or item is unknown.'}),\n",
              " Prediction(uid='Martin', iid='B00MWI4KKE', r_ui=3.5, est=3.499999999999999, details={'actual_k': 5, 'was_impossible': False}),\n",
              " Prediction(uid='Amazon Customer', iid='B06XR8G1TX', r_ui=3.5, est=3.5, details={'actual_k': 5, 'was_impossible': False}),\n",
              " Prediction(uid='Joe Roca', iid='B078YXQ38Z', r_ui=3.9, est=3.7664425299432653, details={'was_impossible': True, 'reason': 'User and/or item is unknown.'}),\n",
              " Prediction(uid='Charles A', iid='B0799ZMY6D', r_ui=4.1, est=3.7664425299432653, details={'was_impossible': True, 'reason': 'User and/or item is unknown.'}),\n",
              " Prediction(uid=\"elishu'a saleh\", iid='B07N91S9MW', r_ui=4.1, est=3.7664425299432653, details={'was_impossible': True, 'reason': 'User and/or item is unknown.'}),\n",
              " Prediction(uid='Ramona', iid='B06XZRH5ZC', r_ui=4.0, est=3.7664425299432653, details={'was_impossible': True, 'reason': 'User and/or item is unknown.'}),\n",
              " Prediction(uid='gloria', iid='B07QP9R469', r_ui=3.7, est=3.7000000000000015, details={'actual_k': 0, 'was_impossible': False}),\n",
              " Prediction(uid='Norma Rae', iid='B00CEKXJ3Y', r_ui=3.5, est=3.7664425299432653, details={'was_impossible': True, 'reason': 'User and/or item is unknown.'}),\n",
              " Prediction(uid='Barry', iid='B07Q6ZNJNT', r_ui=4.2, est=4.199999999999999, details={'actual_k': 1, 'was_impossible': False}),\n",
              " Prediction(uid='Marisel Ana Haubl', iid='B07G8VPHG3', r_ui=4.3, est=3.7664425299432653, details={'was_impossible': True, 'reason': 'User and/or item is unknown.'}),\n",
              " Prediction(uid='nicole', iid='B00NKR9MJA', r_ui=3.2, est=3.1999999999999984, details={'actual_k': 1, 'was_impossible': False}),\n",
              " Prediction(uid='zahid', iid='B00VH2TWBS', r_ui=3.1, est=3.7664425299432653, details={'was_impossible': True, 'reason': 'User and/or item is unknown.'}),\n",
              " Prediction(uid='Elle', iid='B077ZKKDWK', r_ui=3.8, est=3.799999999999999, details={'actual_k': 1, 'was_impossible': False}),\n",
              " Prediction(uid='mohi uddin', iid='B0192XJ0P6', r_ui=2.8, est=3.7664425299432653, details={'was_impossible': True, 'reason': 'User and/or item is unknown.'}),\n",
              " Prediction(uid='Amazon Customer', iid='B07PB77Z4J', r_ui=4.0, est=4.0, details={'actual_k': 5, 'was_impossible': False}),\n",
              " Prediction(uid='Sailorlen10', iid='B07VZL3L5V', r_ui=4.4, est=3.7664425299432653, details={'was_impossible': True, 'reason': 'User and/or item is unknown.'}),\n",
              " Prediction(uid='Charles Belletsky', iid='B079C1K282', r_ui=4.1, est=3.7664425299432653, details={'was_impossible': True, 'reason': 'User and/or item is unknown.'}),\n",
              " Prediction(uid='Kaitlyn00', iid='B07QQYHSR5', r_ui=4.2, est=3.7664425299432653, details={'was_impossible': True, 'reason': 'User and/or item is unknown.'}),\n",
              " Prediction(uid='Kate', iid='B008PAW5EQ', r_ui=3.7, est=3.6999999999999997, details={'actual_k': 0, 'was_impossible': False}),\n",
              " Prediction(uid='Amazon Customer', iid='B07FZH9BGV', r_ui=4.1, est=4.1, details={'actual_k': 5, 'was_impossible': False}),\n",
              " Prediction(uid='Amazon Customer', iid='B00WHE2WCG', r_ui=2.9, est=2.9, details={'actual_k': 5, 'was_impossible': False}),\n",
              " Prediction(uid='Mike Burnett', iid='B01K5R3GXK', r_ui=3.2, est=3.7664425299432653, details={'was_impossible': True, 'reason': 'User and/or item is unknown.'}),\n",
              " Prediction(uid='akondakci', iid='B013XAPUW6', r_ui=3.6, est=3.7664425299432653, details={'was_impossible': True, 'reason': 'User and/or item is unknown.'}),\n",
              " Prediction(uid='Pablin', iid='B07QK32C8M', r_ui=4.1, est=3.7664425299432653, details={'was_impossible': True, 'reason': 'User and/or item is unknown.'}),\n",
              " Prediction(uid='Mikeyt1818', iid='B071ZDQ6MV', r_ui=3.7, est=3.700000000000001, details={'actual_k': 1, 'was_impossible': False}),\n",
              " Prediction(uid='Daryl', iid='B06X9HVVC5', r_ui=3.0, est=3.0, details={'actual_k': 0, 'was_impossible': False}),\n",
              " Prediction(uid='ervin blanco', iid='B00836Y6B2', r_ui=3.2, est=3.7664425299432653, details={'was_impossible': True, 'reason': 'User and/or item is unknown.'}),\n",
              " Prediction(uid='Amazon Customer', iid='B018OMP8ES', r_ui=3.6, est=3.6, details={'actual_k': 5, 'was_impossible': False}),\n",
              " Prediction(uid='RKD', iid='B07DCB61LG', r_ui=4.4, est=3.7664425299432653, details={'was_impossible': True, 'reason': 'User and/or item is unknown.'}),\n",
              " Prediction(uid='Chasidy Lambert', iid='B018OMP8ES', r_ui=3.6, est=3.6000000000000005, details={'actual_k': 1, 'was_impossible': False}),\n",
              " Prediction(uid='StaceyB', iid='B00E6FGSHY', r_ui=3.7, est=3.7664425299432653, details={'was_impossible': True, 'reason': 'User and/or item is unknown.'}),\n",
              " Prediction(uid='Fatfinger', iid='B06XW9RMYW', r_ui=3.5, est=3.7664425299432653, details={'was_impossible': True, 'reason': 'User and/or item is unknown.'}),\n",
              " Prediction(uid='Clayto', iid='B07NPRQYP1', r_ui=4.0, est=3.7664425299432653, details={'was_impossible': True, 'reason': 'User and/or item is unknown.'}),\n",
              " Prediction(uid='Sergio G.', iid='B075FL4H89', r_ui=3.4, est=3.7664425299432653, details={'was_impossible': True, 'reason': 'User and/or item is unknown.'}),\n",
              " Prediction(uid='Ana Romano Baca', iid='B00836Y6B2', r_ui=3.2, est=3.7664425299432653, details={'was_impossible': True, 'reason': 'User and/or item is unknown.'}),\n",
              " Prediction(uid='davidlewis7', iid='B003FCO9XE', r_ui=2.6, est=3.7664425299432653, details={'was_impossible': True, 'reason': 'User and/or item is unknown.'}),\n",
              " Prediction(uid='Casey sheperd', iid='B00N532A34', r_ui=3.1, est=3.7664425299432653, details={'was_impossible': True, 'reason': 'User and/or item is unknown.'}),\n",
              " Prediction(uid='John Costa', iid='B018OMP8ES', r_ui=3.6, est=3.7664425299432653, details={'was_impossible': True, 'reason': 'User and/or item is unknown.'}),\n",
              " Prediction(uid='Amazon Customer', iid='B01N9XOXCK', r_ui=3.8, est=3.8, details={'actual_k': 5, 'was_impossible': False}),\n",
              " Prediction(uid='LUVUNZA Bony', iid='B07MGKGHGP', r_ui=3.8, est=3.7664425299432653, details={'was_impossible': True, 'reason': 'User and/or item is unknown.'}),\n",
              " Prediction(uid='justin shannon', iid='B076XLLCQC', r_ui=4.0, est=3.7664425299432653, details={'was_impossible': True, 'reason': 'User and/or item is unknown.'}),\n",
              " Prediction(uid='Don Jon', iid='B07CMBB6PH', r_ui=4.3, est=3.7664425299432653, details={'was_impossible': True, 'reason': 'User and/or item is unknown.'}),\n",
              " Prediction(uid='D. Portello', iid='B07CHWMYHP', r_ui=4.1, est=3.7664425299432653, details={'was_impossible': True, 'reason': 'User and/or item is unknown.'}),\n",
              " Prediction(uid='TheAwesome', iid='B00836Y6B2', r_ui=3.2, est=3.7664425299432653, details={'was_impossible': True, 'reason': 'User and/or item is unknown.'}),\n",
              " Prediction(uid='when i started to play this game it was just realy fun and my brother has issues and i let him play and it realy calmed him down alot so get this', iid='B00ZE8HRYK', r_ui=3.7, est=3.7664425299432653, details={'was_impossible': True, 'reason': 'User and/or item is unknown.'}),\n",
              " Prediction(uid='james parham', iid='B07753NSQZ', r_ui=4.0, est=3.7664425299432653, details={'was_impossible': True, 'reason': 'User and/or item is unknown.'}),\n",
              " Prediction(uid='Luis Arias', iid='B07NZXXZB2', r_ui=4.4, est=3.7664425299432653, details={'was_impossible': True, 'reason': 'User and/or item is unknown.'}),\n",
              " Prediction(uid='LOLLIE', iid='B06XYMCMHD', r_ui=3.9, est=3.7664425299432653, details={'was_impossible': True, 'reason': 'User and/or item is unknown.'}),\n",
              " Prediction(uid='Ryanjpowers', iid='B013XAPUW6', r_ui=3.6, est=3.5999999999999996, details={'actual_k': 1, 'was_impossible': False}),\n",
              " Prediction(uid='1988AmazonCustomer', iid='B003P2VNAQ', r_ui=3.6, est=3.7664425299432653, details={'was_impossible': True, 'reason': 'User and/or item is unknown.'}),\n",
              " Prediction(uid='Amazon Customer', iid='B00NKR9MJA', r_ui=3.2, est=3.2, details={'actual_k': 5, 'was_impossible': False}),\n",
              " Prediction(uid='S.F.B.MOM', iid='B00JS73V2U', r_ui=4.1, est=3.7664425299432653, details={'was_impossible': True, 'reason': 'User and/or item is unknown.'}),\n",
              " Prediction(uid='Amanda', iid='B013XAPUW6', r_ui=3.6, est=3.5999999999999996, details={'actual_k': 5, 'was_impossible': False}),\n",
              " Prediction(uid='amanda', iid='B018OMP8ES', r_ui=3.6, est=3.6000000000000005, details={'actual_k': 3, 'was_impossible': False}),\n",
              " Prediction(uid='Dennis D.', iid='B006OU39QW', r_ui=4.1, est=3.7664425299432653, details={'was_impossible': True, 'reason': 'User and/or item is unknown.'}),\n",
              " Prediction(uid='Amazon Customer', iid='B00KM10ITK', r_ui=3.5, est=3.5, details={'actual_k': 5, 'was_impossible': False}),\n",
              " Prediction(uid='Rev. John Timothy Owens', iid='B07NPRQYP1', r_ui=4.0, est=3.7664425299432653, details={'was_impossible': True, 'reason': 'User and/or item is unknown.'}),\n",
              " Prediction(uid='mushtaq', iid='B01CU22RL0', r_ui=3.3, est=3.7664425299432653, details={'was_impossible': True, 'reason': 'User and/or item is unknown.'}),\n",
              " Prediction(uid='ShowtheCocoa', iid='B07CMBB6PH', r_ui=4.3, est=3.7664425299432653, details={'was_impossible': True, 'reason': 'User and/or item is unknown.'}),\n",
              " Prediction(uid='terry', iid='B0192XJ0P6', r_ui=2.8, est=2.8, details={'actual_k': 0, 'was_impossible': False}),\n",
              " Prediction(uid='Ruddy', iid='B01N9TM7KG', r_ui=3.7, est=3.7664425299432653, details={'was_impossible': True, 'reason': 'User and/or item is unknown.'}),\n",
              " Prediction(uid='JA', iid='B006OU39QW', r_ui=4.1, est=4.100000000000001, details={'actual_k': 0, 'was_impossible': False}),\n",
              " Prediction(uid='Amazon Customer', iid='B07Q6ZNJNT', r_ui=4.2, est=4.2, details={'actual_k': 5, 'was_impossible': False}),\n",
              " Prediction(uid='Vadim Sedletsky', iid='B07HK4JNV1', r_ui=4.3, est=3.7664425299432653, details={'was_impossible': True, 'reason': 'User and/or item is unknown.'}),\n",
              " Prediction(uid='Mr. Reid', iid='B014GCG150', r_ui=4.1, est=3.7664425299432653, details={'was_impossible': True, 'reason': 'User and/or item is unknown.'}),\n",
              " Prediction(uid='Amazon Customer Rita', iid='B076M9RQJ2', r_ui=4.1, est=3.7664425299432653, details={'was_impossible': True, 'reason': 'User and/or item is unknown.'}),\n",
              " Prediction(uid='Josh Cox', iid='B01M1HY1E3', r_ui=3.6, est=3.7664425299432653, details={'was_impossible': True, 'reason': 'User and/or item is unknown.'}),\n",
              " Prediction(uid='Ashley', iid='B00WHE2WCG', r_ui=2.9, est=2.8999999999999977, details={'actual_k': 5, 'was_impossible': False}),\n",
              " Prediction(uid='Jacquetta Zeigler', iid='B0096QYH80', r_ui=3.0, est=3.7664425299432653, details={'was_impossible': True, 'reason': 'User and/or item is unknown.'}),\n",
              " Prediction(uid='Stephanie', iid='B00N532A34', r_ui=3.1, est=3.1000000000000014, details={'actual_k': 5, 'was_impossible': False}),\n",
              " Prediction(uid='markallentunney', iid='B00CEKXJ3Y', r_ui=3.5, est=3.7664425299432653, details={'was_impossible': True, 'reason': 'User and/or item is unknown.'}),\n",
              " Prediction(uid='bernado theosmy', iid='B00OEK6TWU', r_ui=3.6, est=3.7664425299432653, details={'was_impossible': True, 'reason': 'User and/or item is unknown.'}),\n",
              " Prediction(uid='John P.', iid='B07FZH9BGV', r_ui=4.1, est=4.1000000000000005, details={'actual_k': 2, 'was_impossible': False}),\n",
              " Prediction(uid='Marco Antonio Perez Medellin', iid='B07NZX5BKH', r_ui=4.3, est=3.7664425299432653, details={'was_impossible': True, 'reason': 'User and/or item is unknown.'}),\n",
              " Prediction(uid='hinata', iid='B01FIW1B9S', r_ui=3.8, est=3.7664425299432653, details={'was_impossible': True, 'reason': 'User and/or item is unknown.'}),\n",
              " Prediction(uid='Parmod Chopra', iid='B00MWI4KKE', r_ui=3.5, est=3.7664425299432653, details={'was_impossible': True, 'reason': 'User and/or item is unknown.'}),\n",
              " Prediction(uid='britt', iid='B07Q2X19LG', r_ui=4.5, est=3.7664425299432653, details={'was_impossible': True, 'reason': 'User and/or item is unknown.'}),\n",
              " Prediction(uid='CAROL ISBELL', iid='B01EIVMETG', r_ui=3.2, est=3.7664425299432653, details={'was_impossible': True, 'reason': 'User and/or item is unknown.'}),\n",
              " Prediction(uid='Daniel Matteo', iid='B01NB1KG8U', r_ui=4.0, est=3.7664425299432653, details={'was_impossible': True, 'reason': 'User and/or item is unknown.'}),\n",
              " Prediction(uid='Dane C. Kinman', iid='B06X9HVVC5', r_ui=3.0, est=3.7664425299432653, details={'was_impossible': True, 'reason': 'User and/or item is unknown.'}),\n",
              " Prediction(uid='Bolorunduro Winner-Timothy', iid='B0731HBTZ7', r_ui=3.8, est=3.7664425299432653, details={'was_impossible': True, 'reason': 'User and/or item is unknown.'}),\n",
              " Prediction(uid='Elizabeth Xiao', iid='B06XW9RMYW', r_ui=3.5, est=3.7664425299432653, details={'was_impossible': True, 'reason': 'User and/or item is unknown.'}),\n",
              " Prediction(uid='tamanu', iid='B0799ZMY6D', r_ui=4.1, est=3.7664425299432653, details={'was_impossible': True, 'reason': 'User and/or item is unknown.'}),\n",
              " Prediction(uid='M. L. Brown', iid='B06Y16RL4W', r_ui=3.7, est=3.7664425299432653, details={'was_impossible': True, 'reason': 'User and/or item is unknown.'}),\n",
              " Prediction(uid='Naria', iid='B00E6FGSHY', r_ui=3.7, est=3.7664425299432653, details={'was_impossible': True, 'reason': 'User and/or item is unknown.'}),\n",
              " Prediction(uid='Sandra Rodriguez', iid='B019S654DO', r_ui=3.7, est=3.7664425299432653, details={'was_impossible': True, 'reason': 'User and/or item is unknown.'}),\n",
              " Prediction(uid='glomaga', iid='B071JP8XDJ', r_ui=3.6, est=3.7664425299432653, details={'was_impossible': True, 'reason': 'User and/or item is unknown.'}),\n",
              " Prediction(uid='Nou', iid='B076M9RQJ2', r_ui=4.1, est=3.7664425299432653, details={'was_impossible': True, 'reason': 'User and/or item is unknown.'}),\n",
              " Prediction(uid='Chaccette', iid='B00HWEMZ1E', r_ui=3.8, est=3.7664425299432653, details={'was_impossible': True, 'reason': 'User and/or item is unknown.'}),\n",
              " Prediction(uid='Dan White', iid='B07HFHX6HX', r_ui=4.2, est=3.7664425299432653, details={'was_impossible': True, 'reason': 'User and/or item is unknown.'}),\n",
              " Prediction(uid='NotQuiteHappy', iid='B00JEHJMG8', r_ui=3.3, est=3.7664425299432653, details={'was_impossible': True, 'reason': 'User and/or item is unknown.'}),\n",
              " Prediction(uid='Amazon Customer', iid='B07QB8QYYZ', r_ui=4.4, est=4.4, details={'actual_k': 5, 'was_impossible': False}),\n",
              " Prediction(uid='Amazon Customer', iid='B00F2SKPIM', r_ui=3.9, est=3.9, details={'actual_k': 5, 'was_impossible': False}),\n",
              " Prediction(uid='Jonathan Staley', iid='B00F3JPKCG', r_ui=2.7, est=3.7664425299432653, details={'was_impossible': True, 'reason': 'User and/or item is unknown.'}),\n",
              " Prediction(uid='Suki Ren', iid='B07PXV5GXJ', r_ui=4.4, est=3.7664425299432653, details={'was_impossible': True, 'reason': 'User and/or item is unknown.'}),\n",
              " Prediction(uid='Dellon', iid='B07CHWMYHP', r_ui=4.1, est=3.7664425299432653, details={'was_impossible': True, 'reason': 'User and/or item is unknown.'}),\n",
              " Prediction(uid='Brett Smith', iid='B071ZDQ6MV', r_ui=3.7, est=3.7664425299432653, details={'was_impossible': True, 'reason': 'User and/or item is unknown.'}),\n",
              " Prediction(uid='Amazon Customer', iid='B00V7FY44A', r_ui=3.5, est=3.5, details={'actual_k': 5, 'was_impossible': False}),\n",
              " Prediction(uid='Tony', iid='B07QCCW5KB', r_ui=4.4, est=4.399999999999997, details={'actual_k': 5, 'was_impossible': False}),\n",
              " Prediction(uid='Mypublicname', iid='B00E6FGSHY', r_ui=3.7, est=3.7664425299432653, details={'was_impossible': True, 'reason': 'User and/or item is unknown.'}),\n",
              " Prediction(uid='Buddy Norris', iid='B002UHS0UI', r_ui=2.7, est=3.7664425299432653, details={'was_impossible': True, 'reason': 'User and/or item is unknown.'}),\n",
              " Prediction(uid='Carolyn', iid='B07Q26V49K', r_ui=4.5, est=4.499999999999999, details={'actual_k': 2, 'was_impossible': False}),\n",
              " Prediction(uid='H from SPhilly', iid='B007X6FFLS', r_ui=3.4, est=3.7664425299432653, details={'was_impossible': True, 'reason': 'User and/or item is unknown.'}),\n",
              " Prediction(uid='Chantoy E.', iid='B07RJZH9N2', r_ui=4.1, est=3.7664425299432653, details={'was_impossible': True, 'reason': 'User and/or item is unknown.'}),\n",
              " Prediction(uid='Johana camilo', iid='B07Q84DPZH', r_ui=4.1, est=3.7664425299432653, details={'was_impossible': True, 'reason': 'User and/or item is unknown.'}),\n",
              " Prediction(uid='Larry W.', iid='B014V5XDV2', r_ui=3.2, est=3.7664425299432653, details={'was_impossible': True, 'reason': 'User and/or item is unknown.'}),\n",
              " Prediction(uid='Holodeck Guy', iid='B01FCFZS3G', r_ui=3.5, est=3.7664425299432653, details={'was_impossible': True, 'reason': 'User and/or item is unknown.'}),\n",
              " Prediction(uid='wendy', iid='B07Q84DPZH', r_ui=4.1, est=3.7664425299432653, details={'was_impossible': True, 'reason': 'User and/or item is unknown.'}),\n",
              " Prediction(uid='Asperger mom', iid='B002WTC1NG', r_ui=3.6, est=3.7664425299432653, details={'was_impossible': True, 'reason': 'User and/or item is unknown.'}),\n",
              " Prediction(uid='Jesse H.', iid='B013XAPUW6', r_ui=3.6, est=3.5999999999999996, details={'actual_k': 1, 'was_impossible': False}),\n",
              " Prediction(uid='Michael Johnston', iid='B07DDD8PNQ', r_ui=3.9, est=3.7664425299432653, details={'was_impossible': True, 'reason': 'User and/or item is unknown.'}),\n",
              " Prediction(uid='BooBoo.59', iid='B07FZH9BGV', r_ui=4.1, est=4.100000000000002, details={'actual_k': 1, 'was_impossible': False}),\n",
              " Prediction(uid='Aaron Michael Mayes', iid='B07FM9913M', r_ui=4.2, est=3.7664425299432653, details={'was_impossible': True, 'reason': 'User and/or item is unknown.'}),\n",
              " Prediction(uid='Michelle', iid='B07PXV5GXJ', r_ui=4.4, est=4.400000000000001, details={'actual_k': 0, 'was_impossible': False}),\n",
              " Prediction(uid='Craig Cumberland', iid='B075FL4H89', r_ui=3.4, est=3.7664425299432653, details={'was_impossible': True, 'reason': 'User and/or item is unknown.'}),\n",
              " Prediction(uid='Amazon Customer', iid='B018OMP8ES', r_ui=3.6, est=3.6, details={'actual_k': 5, 'was_impossible': False}),\n",
              " Prediction(uid='Marisol', iid='B0732NTJ2M', r_ui=3.5, est=3.5000000000000004, details={'actual_k': 1, 'was_impossible': False}),\n",
              " Prediction(uid='WiscoMick', iid='B01K5RGPIS', r_ui=2.9, est=2.8999999999999995, details={'actual_k': 1, 'was_impossible': False}),\n",
              " Prediction(uid='S. Deitrick', iid='B07VZL1W7K', r_ui=4.0, est=3.7664425299432653, details={'was_impossible': True, 'reason': 'User and/or item is unknown.'}),\n",
              " Prediction(uid='sherif', iid='B07VB9MMMW', r_ui=4.5, est=4.5, details={'actual_k': 0, 'was_impossible': False}),\n",
              " Prediction(uid='rebecca mick', iid='B072N3GKSM', r_ui=2.9, est=3.7664425299432653, details={'was_impossible': True, 'reason': 'User and/or item is unknown.'}),\n",
              " Prediction(uid='Amazon Customer', iid='B01LXF0WML', r_ui=3.9, est=3.9, details={'actual_k': 5, 'was_impossible': False}),\n",
              " Prediction(uid='Jocelynn Y. Cooper', iid='B013XAPUW6', r_ui=3.6, est=3.7664425299432653, details={'was_impossible': True, 'reason': 'User and/or item is unknown.'}),\n",
              " Prediction(uid='ATUL', iid='B07WSJYDXX', r_ui=3.9, est=3.7664425299432653, details={'was_impossible': True, 'reason': 'User and/or item is unknown.'}),\n",
              " Prediction(uid='Diego Barrantes', iid='B07Y8YWTFL', r_ui=4.5, est=4.5, details={'actual_k': 1, 'was_impossible': False}),\n",
              " Prediction(uid='Anonymous', iid='B07J4Z9647', r_ui=4.4, est=4.3999999999999995, details={'actual_k': 5, 'was_impossible': False}),\n",
              " Prediction(uid='pixiebdg', iid='B009LRMQTG', r_ui=3.9, est=3.7664425299432653, details={'was_impossible': True, 'reason': 'User and/or item is unknown.'}),\n",
              " Prediction(uid='Nidia', iid='B00WHE2WCG', r_ui=2.9, est=3.7664425299432653, details={'was_impossible': True, 'reason': 'User and/or item is unknown.'}),\n",
              " Prediction(uid='Darryl', iid='B07NZXXZB2', r_ui=4.4, est=3.7664425299432653, details={'was_impossible': True, 'reason': 'User and/or item is unknown.'}),\n",
              " Prediction(uid='COOKIE', iid='B07J4Z9647', r_ui=4.4, est=3.7664425299432653, details={'was_impossible': True, 'reason': 'User and/or item is unknown.'}),\n",
              " Prediction(uid='Nina Jo Wells', iid='B00OZTSY6Y', r_ui=3.6, est=3.7664425299432653, details={'was_impossible': True, 'reason': 'User and/or item is unknown.'}),\n",
              " Prediction(uid='Pam Campbell', iid='B01CJ3SCN2', r_ui=3.6, est=3.7664425299432653, details={'was_impossible': True, 'reason': 'User and/or item is unknown.'}),\n",
              " Prediction(uid='Claudina', iid='B0775451TT', r_ui=3.9, est=3.899999999999999, details={'actual_k': 2, 'was_impossible': False}),\n",
              " ...]"
            ]
          },
          "metadata": {
            "tags": []
          },
          "execution_count": 39
        }
      ]
    },
    {
      "cell_type": "code",
      "metadata": {
        "colab": {
          "base_uri": "https://localhost:8080/"
        },
        "id": "ivVCMfsGjRcT",
        "outputId": "b12e4c58-8e98-4081-ff1c-0e3c2b11548d"
      },
      "source": [
        "print(\"Item-based Model : Test Set\")\n",
        "accuracy.rmse(test_pred, verbose=True)"
      ],
      "execution_count": null,
      "outputs": [
        {
          "output_type": "stream",
          "text": [
            "Item-based Model : Test Set\n",
            "RMSE: 0.3510\n"
          ],
          "name": "stdout"
        },
        {
          "output_type": "execute_result",
          "data": {
            "text/plain": [
              "0.35101779393237514"
            ]
          },
          "metadata": {
            "tags": []
          },
          "execution_count": 40
        }
      ]
    },
    {
      "cell_type": "code",
      "metadata": {
        "colab": {
          "base_uri": "https://localhost:8080/",
          "height": 282
        },
        "id": "5A22M0IejjOJ",
        "outputId": "c168eea2-9e56-4cc7-9a39-8a7ef36f1f17"
      },
      "source": [
        "new_df1=new_df.head(10000)\n",
        "ratings_matrix = new_df1.pivot_table(values='rating', index='name', columns='asin', fill_value=0)\n",
        "ratings_matrix.head()"
      ],
      "execution_count": null,
      "outputs": [
        {
          "output_type": "execute_result",
          "data": {
            "text/html": [
              "<div>\n",
              "<style scoped>\n",
              "    .dataframe tbody tr th:only-of-type {\n",
              "        vertical-align: middle;\n",
              "    }\n",
              "\n",
              "    .dataframe tbody tr th {\n",
              "        vertical-align: top;\n",
              "    }\n",
              "\n",
              "    .dataframe thead th {\n",
              "        text-align: right;\n",
              "    }\n",
              "</style>\n",
              "<table border=\"1\" class=\"dataframe\">\n",
              "  <thead>\n",
              "    <tr style=\"text-align: right;\">\n",
              "      <th>asin</th>\n",
              "      <th>B0000SX2UC</th>\n",
              "      <th>B0009N5L7K</th>\n",
              "      <th>B000SKTZ0S</th>\n",
              "      <th>B001AO4OUC</th>\n",
              "      <th>B001DCJAJG</th>\n",
              "      <th>B001GQ3DJM</th>\n",
              "      <th>B0029F2O3A</th>\n",
              "      <th>B002AS9WEA</th>\n",
              "      <th>B002UHS0UI</th>\n",
              "      <th>B002WTC1NG</th>\n",
              "      <th>B0033SFV5A</th>\n",
              "      <th>B003FCO9XE</th>\n",
              "      <th>B003P2VNAQ</th>\n",
              "      <th>B003W646YK</th>\n",
              "      <th>B003XREZ4O</th>\n",
              "      <th>B0046REOWS</th>\n",
              "      <th>B004C7NVD0</th>\n",
              "      <th>B004GLQTG8</th>\n",
              "      <th>B004H23JXW</th>\n",
              "      <th>B004MK9VLS</th>\n",
              "      <th>B004YBP8EY</th>\n",
              "      <th>B005B3OXWC</th>\n",
              "      <th>B006OU39QW</th>\n",
              "      <th>B006VH79R8</th>\n",
              "      <th>B00727AODC</th>\n",
              "      <th>B007LU0HU0</th>\n",
              "      <th>B007X6FFLS</th>\n",
              "      <th>B0081TDISI</th>\n",
              "      <th>B00836Y6B2</th>\n",
              "      <th>B008PAW5EQ</th>\n",
              "      <th>B0096DERAG</th>\n",
              "      <th>B0096QYH80</th>\n",
              "      <th>B009LRMQTG</th>\n",
              "      <th>B00A2V7BA4</th>\n",
              "      <th>B00A2V7ULY</th>\n",
              "      <th>B00A408AF8</th>\n",
              "      <th>B00A7F57EM</th>\n",
              "      <th>B00A7F5M9W</th>\n",
              "      <th>B00ACZ0DUA</th>\n",
              "      <th>B00B5081MI</th>\n",
              "      <th>B00BV1MVJ0</th>\n",
              "      <th>B00CEKXJ3Y</th>\n",
              "      <th>B00CEKXZA6</th>\n",
              "      <th>B00CGIULGC</th>\n",
              "      <th>B00CQAODG4</th>\n",
              "      <th>B00CS2ZWKQ</th>\n",
              "      <th>B00D35Z6OE</th>\n",
              "      <th>B00D99ZBR6</th>\n",
              "      <th>B00E45043A</th>\n",
              "      <th>B00E6FGSHY</th>\n",
              "      <th>B00E8TGT1S</th>\n",
              "      <th>B00EP2BN00</th>\n",
              "      <th>B00F1HVZ0Q</th>\n",
              "      <th>B00F2SKPIM</th>\n",
              "      <th>B00F3JPKCG</th>\n",
              "      <th>B00F9RRVUG</th>\n",
              "      <th>B00FTV382C</th>\n",
              "      <th>B00G9G0HTI</th>\n",
              "      <th>B00HE5834Y</th>\n",
              "      <th>B00HPP3QD6</th>\n",
              "    </tr>\n",
              "    <tr>\n",
              "      <th>name</th>\n",
              "      <th></th>\n",
              "      <th></th>\n",
              "      <th></th>\n",
              "      <th></th>\n",
              "      <th></th>\n",
              "      <th></th>\n",
              "      <th></th>\n",
              "      <th></th>\n",
              "      <th></th>\n",
              "      <th></th>\n",
              "      <th></th>\n",
              "      <th></th>\n",
              "      <th></th>\n",
              "      <th></th>\n",
              "      <th></th>\n",
              "      <th></th>\n",
              "      <th></th>\n",
              "      <th></th>\n",
              "      <th></th>\n",
              "      <th></th>\n",
              "      <th></th>\n",
              "      <th></th>\n",
              "      <th></th>\n",
              "      <th></th>\n",
              "      <th></th>\n",
              "      <th></th>\n",
              "      <th></th>\n",
              "      <th></th>\n",
              "      <th></th>\n",
              "      <th></th>\n",
              "      <th></th>\n",
              "      <th></th>\n",
              "      <th></th>\n",
              "      <th></th>\n",
              "      <th></th>\n",
              "      <th></th>\n",
              "      <th></th>\n",
              "      <th></th>\n",
              "      <th></th>\n",
              "      <th></th>\n",
              "      <th></th>\n",
              "      <th></th>\n",
              "      <th></th>\n",
              "      <th></th>\n",
              "      <th></th>\n",
              "      <th></th>\n",
              "      <th></th>\n",
              "      <th></th>\n",
              "      <th></th>\n",
              "      <th></th>\n",
              "      <th></th>\n",
              "      <th></th>\n",
              "      <th></th>\n",
              "      <th></th>\n",
              "      <th></th>\n",
              "      <th></th>\n",
              "      <th></th>\n",
              "      <th></th>\n",
              "      <th></th>\n",
              "      <th></th>\n",
              "    </tr>\n",
              "  </thead>\n",
              "  <tbody>\n",
              "    <tr>\n",
              "      <th>#1reader</th>\n",
              "      <td>0</td>\n",
              "      <td>0</td>\n",
              "      <td>0.0</td>\n",
              "      <td>0.0</td>\n",
              "      <td>0.0</td>\n",
              "      <td>0.0</td>\n",
              "      <td>0</td>\n",
              "      <td>0.0</td>\n",
              "      <td>0.0</td>\n",
              "      <td>0.0</td>\n",
              "      <td>0.0</td>\n",
              "      <td>0.0</td>\n",
              "      <td>0.0</td>\n",
              "      <td>0.0</td>\n",
              "      <td>0.0</td>\n",
              "      <td>0.0</td>\n",
              "      <td>0.0</td>\n",
              "      <td>0.0</td>\n",
              "      <td>0.0</td>\n",
              "      <td>0</td>\n",
              "      <td>0.0</td>\n",
              "      <td>0.0</td>\n",
              "      <td>0.0</td>\n",
              "      <td>0.0</td>\n",
              "      <td>0.0</td>\n",
              "      <td>0.0</td>\n",
              "      <td>0.0</td>\n",
              "      <td>0.0</td>\n",
              "      <td>0.0</td>\n",
              "      <td>0.0</td>\n",
              "      <td>0</td>\n",
              "      <td>3</td>\n",
              "      <td>0.0</td>\n",
              "      <td>0.0</td>\n",
              "      <td>0</td>\n",
              "      <td>0.0</td>\n",
              "      <td>0.0</td>\n",
              "      <td>0.0</td>\n",
              "      <td>0</td>\n",
              "      <td>0.0</td>\n",
              "      <td>0.0</td>\n",
              "      <td>0.0</td>\n",
              "      <td>0.0</td>\n",
              "      <td>0.0</td>\n",
              "      <td>0.0</td>\n",
              "      <td>0.0</td>\n",
              "      <td>0.0</td>\n",
              "      <td>0.0</td>\n",
              "      <td>0.0</td>\n",
              "      <td>0.0</td>\n",
              "      <td>0.0</td>\n",
              "      <td>0.0</td>\n",
              "      <td>0.0</td>\n",
              "      <td>0.0</td>\n",
              "      <td>0.0</td>\n",
              "      <td>0.0</td>\n",
              "      <td>0.0</td>\n",
              "      <td>0</td>\n",
              "      <td>0.0</td>\n",
              "      <td>0</td>\n",
              "    </tr>\n",
              "    <tr>\n",
              "      <th>&amp;amp;Drea</th>\n",
              "      <td>0</td>\n",
              "      <td>0</td>\n",
              "      <td>0.0</td>\n",
              "      <td>0.0</td>\n",
              "      <td>0.0</td>\n",
              "      <td>0.0</td>\n",
              "      <td>0</td>\n",
              "      <td>0.0</td>\n",
              "      <td>0.0</td>\n",
              "      <td>0.0</td>\n",
              "      <td>0.0</td>\n",
              "      <td>0.0</td>\n",
              "      <td>0.0</td>\n",
              "      <td>0.0</td>\n",
              "      <td>0.0</td>\n",
              "      <td>0.0</td>\n",
              "      <td>0.0</td>\n",
              "      <td>0.0</td>\n",
              "      <td>0.0</td>\n",
              "      <td>0</td>\n",
              "      <td>0.0</td>\n",
              "      <td>0.0</td>\n",
              "      <td>0.0</td>\n",
              "      <td>0.0</td>\n",
              "      <td>0.0</td>\n",
              "      <td>0.0</td>\n",
              "      <td>0.0</td>\n",
              "      <td>0.0</td>\n",
              "      <td>0.0</td>\n",
              "      <td>0.0</td>\n",
              "      <td>0</td>\n",
              "      <td>0</td>\n",
              "      <td>0.0</td>\n",
              "      <td>0.0</td>\n",
              "      <td>0</td>\n",
              "      <td>0.0</td>\n",
              "      <td>0.0</td>\n",
              "      <td>0.0</td>\n",
              "      <td>0</td>\n",
              "      <td>0.0</td>\n",
              "      <td>0.0</td>\n",
              "      <td>0.0</td>\n",
              "      <td>0.0</td>\n",
              "      <td>3.2</td>\n",
              "      <td>0.0</td>\n",
              "      <td>0.0</td>\n",
              "      <td>0.0</td>\n",
              "      <td>0.0</td>\n",
              "      <td>0.0</td>\n",
              "      <td>0.0</td>\n",
              "      <td>0.0</td>\n",
              "      <td>0.0</td>\n",
              "      <td>0.0</td>\n",
              "      <td>0.0</td>\n",
              "      <td>0.0</td>\n",
              "      <td>0.0</td>\n",
              "      <td>0.0</td>\n",
              "      <td>0</td>\n",
              "      <td>0.0</td>\n",
              "      <td>0</td>\n",
              "    </tr>\n",
              "    <tr>\n",
              "      <th>05stram</th>\n",
              "      <td>0</td>\n",
              "      <td>0</td>\n",
              "      <td>0.0</td>\n",
              "      <td>0.0</td>\n",
              "      <td>0.0</td>\n",
              "      <td>0.0</td>\n",
              "      <td>0</td>\n",
              "      <td>0.0</td>\n",
              "      <td>0.0</td>\n",
              "      <td>0.0</td>\n",
              "      <td>0.0</td>\n",
              "      <td>0.0</td>\n",
              "      <td>0.0</td>\n",
              "      <td>0.0</td>\n",
              "      <td>0.0</td>\n",
              "      <td>0.0</td>\n",
              "      <td>0.0</td>\n",
              "      <td>0.0</td>\n",
              "      <td>0.0</td>\n",
              "      <td>0</td>\n",
              "      <td>0.0</td>\n",
              "      <td>0.0</td>\n",
              "      <td>0.0</td>\n",
              "      <td>0.0</td>\n",
              "      <td>0.0</td>\n",
              "      <td>0.0</td>\n",
              "      <td>3.4</td>\n",
              "      <td>0.0</td>\n",
              "      <td>0.0</td>\n",
              "      <td>0.0</td>\n",
              "      <td>0</td>\n",
              "      <td>0</td>\n",
              "      <td>0.0</td>\n",
              "      <td>0.0</td>\n",
              "      <td>0</td>\n",
              "      <td>0.0</td>\n",
              "      <td>0.0</td>\n",
              "      <td>0.0</td>\n",
              "      <td>0</td>\n",
              "      <td>0.0</td>\n",
              "      <td>0.0</td>\n",
              "      <td>0.0</td>\n",
              "      <td>0.0</td>\n",
              "      <td>0.0</td>\n",
              "      <td>0.0</td>\n",
              "      <td>0.0</td>\n",
              "      <td>0.0</td>\n",
              "      <td>0.0</td>\n",
              "      <td>0.0</td>\n",
              "      <td>0.0</td>\n",
              "      <td>0.0</td>\n",
              "      <td>0.0</td>\n",
              "      <td>0.0</td>\n",
              "      <td>0.0</td>\n",
              "      <td>0.0</td>\n",
              "      <td>0.0</td>\n",
              "      <td>0.0</td>\n",
              "      <td>0</td>\n",
              "      <td>0.0</td>\n",
              "      <td>0</td>\n",
              "    </tr>\n",
              "    <tr>\n",
              "      <th>1 Stop 4 Whats HOT</th>\n",
              "      <td>0</td>\n",
              "      <td>3</td>\n",
              "      <td>0.0</td>\n",
              "      <td>0.0</td>\n",
              "      <td>0.0</td>\n",
              "      <td>0.0</td>\n",
              "      <td>0</td>\n",
              "      <td>0.0</td>\n",
              "      <td>0.0</td>\n",
              "      <td>0.0</td>\n",
              "      <td>0.0</td>\n",
              "      <td>0.0</td>\n",
              "      <td>0.0</td>\n",
              "      <td>0.0</td>\n",
              "      <td>0.0</td>\n",
              "      <td>0.0</td>\n",
              "      <td>0.0</td>\n",
              "      <td>0.0</td>\n",
              "      <td>0.0</td>\n",
              "      <td>0</td>\n",
              "      <td>0.0</td>\n",
              "      <td>0.0</td>\n",
              "      <td>0.0</td>\n",
              "      <td>0.0</td>\n",
              "      <td>0.0</td>\n",
              "      <td>0.0</td>\n",
              "      <td>0.0</td>\n",
              "      <td>0.0</td>\n",
              "      <td>0.0</td>\n",
              "      <td>0.0</td>\n",
              "      <td>0</td>\n",
              "      <td>0</td>\n",
              "      <td>0.0</td>\n",
              "      <td>0.0</td>\n",
              "      <td>0</td>\n",
              "      <td>0.0</td>\n",
              "      <td>0.0</td>\n",
              "      <td>0.0</td>\n",
              "      <td>0</td>\n",
              "      <td>0.0</td>\n",
              "      <td>0.0</td>\n",
              "      <td>0.0</td>\n",
              "      <td>0.0</td>\n",
              "      <td>0.0</td>\n",
              "      <td>0.0</td>\n",
              "      <td>0.0</td>\n",
              "      <td>0.0</td>\n",
              "      <td>0.0</td>\n",
              "      <td>0.0</td>\n",
              "      <td>0.0</td>\n",
              "      <td>0.0</td>\n",
              "      <td>0.0</td>\n",
              "      <td>0.0</td>\n",
              "      <td>0.0</td>\n",
              "      <td>0.0</td>\n",
              "      <td>0.0</td>\n",
              "      <td>0.0</td>\n",
              "      <td>0</td>\n",
              "      <td>0.0</td>\n",
              "      <td>0</td>\n",
              "    </tr>\n",
              "    <tr>\n",
              "      <th>101345</th>\n",
              "      <td>0</td>\n",
              "      <td>0</td>\n",
              "      <td>0.0</td>\n",
              "      <td>0.0</td>\n",
              "      <td>0.0</td>\n",
              "      <td>0.0</td>\n",
              "      <td>0</td>\n",
              "      <td>0.0</td>\n",
              "      <td>0.0</td>\n",
              "      <td>3.6</td>\n",
              "      <td>0.0</td>\n",
              "      <td>0.0</td>\n",
              "      <td>0.0</td>\n",
              "      <td>0.0</td>\n",
              "      <td>0.0</td>\n",
              "      <td>0.0</td>\n",
              "      <td>0.0</td>\n",
              "      <td>0.0</td>\n",
              "      <td>0.0</td>\n",
              "      <td>0</td>\n",
              "      <td>0.0</td>\n",
              "      <td>0.0</td>\n",
              "      <td>0.0</td>\n",
              "      <td>0.0</td>\n",
              "      <td>0.0</td>\n",
              "      <td>0.0</td>\n",
              "      <td>0.0</td>\n",
              "      <td>0.0</td>\n",
              "      <td>0.0</td>\n",
              "      <td>0.0</td>\n",
              "      <td>0</td>\n",
              "      <td>0</td>\n",
              "      <td>0.0</td>\n",
              "      <td>0.0</td>\n",
              "      <td>0</td>\n",
              "      <td>0.0</td>\n",
              "      <td>0.0</td>\n",
              "      <td>0.0</td>\n",
              "      <td>0</td>\n",
              "      <td>0.0</td>\n",
              "      <td>0.0</td>\n",
              "      <td>0.0</td>\n",
              "      <td>0.0</td>\n",
              "      <td>0.0</td>\n",
              "      <td>0.0</td>\n",
              "      <td>0.0</td>\n",
              "      <td>0.0</td>\n",
              "      <td>0.0</td>\n",
              "      <td>0.0</td>\n",
              "      <td>0.0</td>\n",
              "      <td>0.0</td>\n",
              "      <td>0.0</td>\n",
              "      <td>0.0</td>\n",
              "      <td>0.0</td>\n",
              "      <td>0.0</td>\n",
              "      <td>0.0</td>\n",
              "      <td>0.0</td>\n",
              "      <td>0</td>\n",
              "      <td>0.0</td>\n",
              "      <td>0</td>\n",
              "    </tr>\n",
              "  </tbody>\n",
              "</table>\n",
              "</div>"
            ],
            "text/plain": [
              "asin                B0000SX2UC  B0009N5L7K  ...  B00HE5834Y  B00HPP3QD6\n",
              "name                                        ...                        \n",
              "#1reader                     0           0  ...         0.0           0\n",
              "&amp;Drea                    0           0  ...         0.0           0\n",
              "05stram                      0           0  ...         0.0           0\n",
              "1 Stop 4 Whats HOT           0           3  ...         0.0           0\n",
              "101345                       0           0  ...         0.0           0\n",
              "\n",
              "[5 rows x 60 columns]"
            ]
          },
          "metadata": {
            "tags": []
          },
          "execution_count": 41
        }
      ]
    },
    {
      "cell_type": "code",
      "metadata": {
        "colab": {
          "base_uri": "https://localhost:8080/"
        },
        "id": "CTLIgHwIju-S",
        "outputId": "2f3f92b1-4066-4d78-a7b1-0be6f77c1085"
      },
      "source": [
        "ratings_matrix.shape"
      ],
      "execution_count": null,
      "outputs": [
        {
          "output_type": "execute_result",
          "data": {
            "text/plain": [
              "(8639, 60)"
            ]
          },
          "metadata": {
            "tags": []
          },
          "execution_count": 42
        }
      ]
    },
    {
      "cell_type": "code",
      "metadata": {
        "colab": {
          "base_uri": "https://localhost:8080/",
          "height": 346
        },
        "id": "jlZDC2-dkhv0",
        "outputId": "c0713299-d458-4e3b-cd5e-e989a76e0733"
      },
      "source": [
        "X = ratings_matrix.T\n",
        "X.head()"
      ],
      "execution_count": null,
      "outputs": [
        {
          "output_type": "execute_result",
          "data": {
            "text/html": [
              "<div>\n",
              "<style scoped>\n",
              "    .dataframe tbody tr th:only-of-type {\n",
              "        vertical-align: middle;\n",
              "    }\n",
              "\n",
              "    .dataframe tbody tr th {\n",
              "        vertical-align: top;\n",
              "    }\n",
              "\n",
              "    .dataframe thead th {\n",
              "        text-align: right;\n",
              "    }\n",
              "</style>\n",
              "<table border=\"1\" class=\"dataframe\">\n",
              "  <thead>\n",
              "    <tr style=\"text-align: right;\">\n",
              "      <th>name</th>\n",
              "      <th>#1reader</th>\n",
              "      <th>&amp;amp;Drea</th>\n",
              "      <th>05stram</th>\n",
              "      <th>1 Stop 4 Whats HOT</th>\n",
              "      <th>101345</th>\n",
              "      <th>1111</th>\n",
              "      <th>11WyoFan</th>\n",
              "      <th>1607jh</th>\n",
              "      <th>1973 AMCJavelin</th>\n",
              "      <th>1988AmazonCustomer</th>\n",
              "      <th>1stCivDiv</th>\n",
              "      <th>1stKlass</th>\n",
              "      <th>1treasurehunter</th>\n",
              "      <th>240Brick</th>\n",
              "      <th>28Alpha3</th>\n",
              "      <th>2ACTIVE BOYS</th>\n",
              "      <th>2BitPixel</th>\n",
              "      <th>2ndadamlike</th>\n",
              "      <th>31f</th>\n",
              "      <th>321andme</th>\n",
              "      <th>411</th>\n",
              "      <th>49erJoe</th>\n",
              "      <th>49ergal777</th>\n",
              "      <th>51audio</th>\n",
              "      <th>671buyer</th>\n",
              "      <th>707smartshop</th>\n",
              "      <th>816-536-1609</th>\n",
              "      <th>906TechTalk</th>\n",
              "      <th>@TSDiamondFire</th>\n",
              "      <th>A</th>\n",
              "      <th>A Bateman</th>\n",
              "      <th>A Charlie brown</th>\n",
              "      <th>A Consumer</th>\n",
              "      <th>A Customer</th>\n",
              "      <th>A J Lewis</th>\n",
              "      <th>A Lynchy</th>\n",
              "      <th>A Shopper</th>\n",
              "      <th>A movie fan</th>\n",
              "      <th>A normal Dude</th>\n",
              "      <th>A techno geek</th>\n",
              "      <th>...</th>\n",
              "      <th>wkwebb</th>\n",
              "      <th>wmy76ram</th>\n",
              "      <th>workingman</th>\n",
              "      <th>xenojoey</th>\n",
              "      <th>xinghan wang</th>\n",
              "      <th>xiulan chi</th>\n",
              "      <th>xlayn</th>\n",
              "      <th>yang</th>\n",
              "      <th>yessika sanchez</th>\n",
              "      <th>yezenia04</th>\n",
              "      <th>yiwei</th>\n",
              "      <th>yohendry zabala</th>\n",
              "      <th>yoldy</th>\n",
              "      <th>yolibel</th>\n",
              "      <th>yong</th>\n",
              "      <th>your friendly mac book user</th>\n",
              "      <th>your mom</th>\n",
              "      <th>yous</th>\n",
              "      <th>yu shao</th>\n",
              "      <th>yuhao zhang</th>\n",
              "      <th>yulimir</th>\n",
              "      <th>yurih</th>\n",
              "      <th>yvette</th>\n",
              "      <th>zack bouma</th>\n",
              "      <th>zahava frist</th>\n",
              "      <th>zahir</th>\n",
              "      <th>zaphod</th>\n",
              "      <th>zazen_tao</th>\n",
              "      <th>zeb reneau</th>\n",
              "      <th>zekarias</th>\n",
              "      <th>zhang</th>\n",
              "      <th>zia165</th>\n",
              "      <th>zooranger</th>\n",
              "      <th>zoraida romero</th>\n",
              "      <th>zqy</th>\n",
              "      <th>zt</th>\n",
              "      <th>zzzzzzzzzz</th>\n",
              "      <th>~RCL~</th>\n",
              "      <th>Ángel Rafael Gonzalez Carvajal</th>\n",
              "      <th>小贝❤️ 星星</th>\n",
              "    </tr>\n",
              "    <tr>\n",
              "      <th>asin</th>\n",
              "      <th></th>\n",
              "      <th></th>\n",
              "      <th></th>\n",
              "      <th></th>\n",
              "      <th></th>\n",
              "      <th></th>\n",
              "      <th></th>\n",
              "      <th></th>\n",
              "      <th></th>\n",
              "      <th></th>\n",
              "      <th></th>\n",
              "      <th></th>\n",
              "      <th></th>\n",
              "      <th></th>\n",
              "      <th></th>\n",
              "      <th></th>\n",
              "      <th></th>\n",
              "      <th></th>\n",
              "      <th></th>\n",
              "      <th></th>\n",
              "      <th></th>\n",
              "      <th></th>\n",
              "      <th></th>\n",
              "      <th></th>\n",
              "      <th></th>\n",
              "      <th></th>\n",
              "      <th></th>\n",
              "      <th></th>\n",
              "      <th></th>\n",
              "      <th></th>\n",
              "      <th></th>\n",
              "      <th></th>\n",
              "      <th></th>\n",
              "      <th></th>\n",
              "      <th></th>\n",
              "      <th></th>\n",
              "      <th></th>\n",
              "      <th></th>\n",
              "      <th></th>\n",
              "      <th></th>\n",
              "      <th></th>\n",
              "      <th></th>\n",
              "      <th></th>\n",
              "      <th></th>\n",
              "      <th></th>\n",
              "      <th></th>\n",
              "      <th></th>\n",
              "      <th></th>\n",
              "      <th></th>\n",
              "      <th></th>\n",
              "      <th></th>\n",
              "      <th></th>\n",
              "      <th></th>\n",
              "      <th></th>\n",
              "      <th></th>\n",
              "      <th></th>\n",
              "      <th></th>\n",
              "      <th></th>\n",
              "      <th></th>\n",
              "      <th></th>\n",
              "      <th></th>\n",
              "      <th></th>\n",
              "      <th></th>\n",
              "      <th></th>\n",
              "      <th></th>\n",
              "      <th></th>\n",
              "      <th></th>\n",
              "      <th></th>\n",
              "      <th></th>\n",
              "      <th></th>\n",
              "      <th></th>\n",
              "      <th></th>\n",
              "      <th></th>\n",
              "      <th></th>\n",
              "      <th></th>\n",
              "      <th></th>\n",
              "      <th></th>\n",
              "      <th></th>\n",
              "      <th></th>\n",
              "      <th></th>\n",
              "      <th></th>\n",
              "    </tr>\n",
              "  </thead>\n",
              "  <tbody>\n",
              "    <tr>\n",
              "      <th>B0000SX2UC</th>\n",
              "      <td>0.0</td>\n",
              "      <td>0.0</td>\n",
              "      <td>0.0</td>\n",
              "      <td>0.0</td>\n",
              "      <td>0.0</td>\n",
              "      <td>0.0</td>\n",
              "      <td>0.0</td>\n",
              "      <td>0.0</td>\n",
              "      <td>0.0</td>\n",
              "      <td>0.0</td>\n",
              "      <td>0.0</td>\n",
              "      <td>0.0</td>\n",
              "      <td>0.0</td>\n",
              "      <td>0.0</td>\n",
              "      <td>0.0</td>\n",
              "      <td>0.0</td>\n",
              "      <td>0.0</td>\n",
              "      <td>0.0</td>\n",
              "      <td>0.0</td>\n",
              "      <td>0.0</td>\n",
              "      <td>0.0</td>\n",
              "      <td>0.0</td>\n",
              "      <td>0.0</td>\n",
              "      <td>0.0</td>\n",
              "      <td>0.0</td>\n",
              "      <td>0.0</td>\n",
              "      <td>0.0</td>\n",
              "      <td>0.0</td>\n",
              "      <td>0.0</td>\n",
              "      <td>0.0</td>\n",
              "      <td>0.0</td>\n",
              "      <td>0.0</td>\n",
              "      <td>0.0</td>\n",
              "      <td>0.0</td>\n",
              "      <td>0.0</td>\n",
              "      <td>0.0</td>\n",
              "      <td>0.0</td>\n",
              "      <td>0.0</td>\n",
              "      <td>0.0</td>\n",
              "      <td>0.0</td>\n",
              "      <td>...</td>\n",
              "      <td>0.0</td>\n",
              "      <td>0.0</td>\n",
              "      <td>0.0</td>\n",
              "      <td>0.0</td>\n",
              "      <td>0.0</td>\n",
              "      <td>0.0</td>\n",
              "      <td>0.0</td>\n",
              "      <td>0.0</td>\n",
              "      <td>0.0</td>\n",
              "      <td>0.0</td>\n",
              "      <td>0.0</td>\n",
              "      <td>0.0</td>\n",
              "      <td>0.0</td>\n",
              "      <td>0.0</td>\n",
              "      <td>0.0</td>\n",
              "      <td>0.0</td>\n",
              "      <td>0.0</td>\n",
              "      <td>0.0</td>\n",
              "      <td>0.0</td>\n",
              "      <td>0.0</td>\n",
              "      <td>0.0</td>\n",
              "      <td>0.0</td>\n",
              "      <td>0.0</td>\n",
              "      <td>0.0</td>\n",
              "      <td>0.0</td>\n",
              "      <td>0.0</td>\n",
              "      <td>0.0</td>\n",
              "      <td>0.0</td>\n",
              "      <td>0.0</td>\n",
              "      <td>0.0</td>\n",
              "      <td>0.0</td>\n",
              "      <td>0.0</td>\n",
              "      <td>0.0</td>\n",
              "      <td>0.0</td>\n",
              "      <td>0.0</td>\n",
              "      <td>0.0</td>\n",
              "      <td>0.0</td>\n",
              "      <td>0.0</td>\n",
              "      <td>0.0</td>\n",
              "      <td>0.0</td>\n",
              "    </tr>\n",
              "    <tr>\n",
              "      <th>B0009N5L7K</th>\n",
              "      <td>0.0</td>\n",
              "      <td>0.0</td>\n",
              "      <td>0.0</td>\n",
              "      <td>3.0</td>\n",
              "      <td>0.0</td>\n",
              "      <td>0.0</td>\n",
              "      <td>0.0</td>\n",
              "      <td>0.0</td>\n",
              "      <td>0.0</td>\n",
              "      <td>0.0</td>\n",
              "      <td>0.0</td>\n",
              "      <td>0.0</td>\n",
              "      <td>0.0</td>\n",
              "      <td>0.0</td>\n",
              "      <td>0.0</td>\n",
              "      <td>0.0</td>\n",
              "      <td>0.0</td>\n",
              "      <td>0.0</td>\n",
              "      <td>0.0</td>\n",
              "      <td>0.0</td>\n",
              "      <td>0.0</td>\n",
              "      <td>0.0</td>\n",
              "      <td>0.0</td>\n",
              "      <td>0.0</td>\n",
              "      <td>0.0</td>\n",
              "      <td>0.0</td>\n",
              "      <td>0.0</td>\n",
              "      <td>0.0</td>\n",
              "      <td>0.0</td>\n",
              "      <td>0.0</td>\n",
              "      <td>0.0</td>\n",
              "      <td>0.0</td>\n",
              "      <td>0.0</td>\n",
              "      <td>0.0</td>\n",
              "      <td>0.0</td>\n",
              "      <td>0.0</td>\n",
              "      <td>0.0</td>\n",
              "      <td>0.0</td>\n",
              "      <td>0.0</td>\n",
              "      <td>0.0</td>\n",
              "      <td>...</td>\n",
              "      <td>0.0</td>\n",
              "      <td>0.0</td>\n",
              "      <td>0.0</td>\n",
              "      <td>0.0</td>\n",
              "      <td>0.0</td>\n",
              "      <td>0.0</td>\n",
              "      <td>0.0</td>\n",
              "      <td>0.0</td>\n",
              "      <td>0.0</td>\n",
              "      <td>0.0</td>\n",
              "      <td>0.0</td>\n",
              "      <td>0.0</td>\n",
              "      <td>0.0</td>\n",
              "      <td>0.0</td>\n",
              "      <td>0.0</td>\n",
              "      <td>0.0</td>\n",
              "      <td>0.0</td>\n",
              "      <td>0.0</td>\n",
              "      <td>0.0</td>\n",
              "      <td>0.0</td>\n",
              "      <td>0.0</td>\n",
              "      <td>0.0</td>\n",
              "      <td>0.0</td>\n",
              "      <td>0.0</td>\n",
              "      <td>0.0</td>\n",
              "      <td>0.0</td>\n",
              "      <td>0.0</td>\n",
              "      <td>0.0</td>\n",
              "      <td>0.0</td>\n",
              "      <td>0.0</td>\n",
              "      <td>0.0</td>\n",
              "      <td>0.0</td>\n",
              "      <td>0.0</td>\n",
              "      <td>0.0</td>\n",
              "      <td>0.0</td>\n",
              "      <td>0.0</td>\n",
              "      <td>0.0</td>\n",
              "      <td>0.0</td>\n",
              "      <td>0.0</td>\n",
              "      <td>0.0</td>\n",
              "    </tr>\n",
              "    <tr>\n",
              "      <th>B000SKTZ0S</th>\n",
              "      <td>0.0</td>\n",
              "      <td>0.0</td>\n",
              "      <td>0.0</td>\n",
              "      <td>0.0</td>\n",
              "      <td>0.0</td>\n",
              "      <td>0.0</td>\n",
              "      <td>0.0</td>\n",
              "      <td>0.0</td>\n",
              "      <td>0.0</td>\n",
              "      <td>0.0</td>\n",
              "      <td>0.0</td>\n",
              "      <td>0.0</td>\n",
              "      <td>0.0</td>\n",
              "      <td>0.0</td>\n",
              "      <td>0.0</td>\n",
              "      <td>0.0</td>\n",
              "      <td>0.0</td>\n",
              "      <td>0.0</td>\n",
              "      <td>0.0</td>\n",
              "      <td>0.0</td>\n",
              "      <td>0.0</td>\n",
              "      <td>0.0</td>\n",
              "      <td>0.0</td>\n",
              "      <td>0.0</td>\n",
              "      <td>0.0</td>\n",
              "      <td>0.0</td>\n",
              "      <td>0.0</td>\n",
              "      <td>0.0</td>\n",
              "      <td>0.0</td>\n",
              "      <td>0.0</td>\n",
              "      <td>0.0</td>\n",
              "      <td>0.0</td>\n",
              "      <td>0.0</td>\n",
              "      <td>0.0</td>\n",
              "      <td>0.0</td>\n",
              "      <td>0.0</td>\n",
              "      <td>0.0</td>\n",
              "      <td>0.0</td>\n",
              "      <td>0.0</td>\n",
              "      <td>0.0</td>\n",
              "      <td>...</td>\n",
              "      <td>0.0</td>\n",
              "      <td>0.0</td>\n",
              "      <td>0.0</td>\n",
              "      <td>0.0</td>\n",
              "      <td>0.0</td>\n",
              "      <td>0.0</td>\n",
              "      <td>0.0</td>\n",
              "      <td>0.0</td>\n",
              "      <td>0.0</td>\n",
              "      <td>0.0</td>\n",
              "      <td>0.0</td>\n",
              "      <td>0.0</td>\n",
              "      <td>0.0</td>\n",
              "      <td>0.0</td>\n",
              "      <td>0.0</td>\n",
              "      <td>0.0</td>\n",
              "      <td>0.0</td>\n",
              "      <td>0.0</td>\n",
              "      <td>0.0</td>\n",
              "      <td>0.0</td>\n",
              "      <td>0.0</td>\n",
              "      <td>0.0</td>\n",
              "      <td>0.0</td>\n",
              "      <td>0.0</td>\n",
              "      <td>0.0</td>\n",
              "      <td>0.0</td>\n",
              "      <td>0.0</td>\n",
              "      <td>0.0</td>\n",
              "      <td>0.0</td>\n",
              "      <td>0.0</td>\n",
              "      <td>0.0</td>\n",
              "      <td>0.0</td>\n",
              "      <td>0.0</td>\n",
              "      <td>0.0</td>\n",
              "      <td>0.0</td>\n",
              "      <td>0.0</td>\n",
              "      <td>2.7</td>\n",
              "      <td>0.0</td>\n",
              "      <td>0.0</td>\n",
              "      <td>0.0</td>\n",
              "    </tr>\n",
              "    <tr>\n",
              "      <th>B001AO4OUC</th>\n",
              "      <td>0.0</td>\n",
              "      <td>0.0</td>\n",
              "      <td>0.0</td>\n",
              "      <td>0.0</td>\n",
              "      <td>0.0</td>\n",
              "      <td>0.0</td>\n",
              "      <td>0.0</td>\n",
              "      <td>0.0</td>\n",
              "      <td>0.0</td>\n",
              "      <td>0.0</td>\n",
              "      <td>0.0</td>\n",
              "      <td>0.0</td>\n",
              "      <td>0.0</td>\n",
              "      <td>0.0</td>\n",
              "      <td>0.0</td>\n",
              "      <td>0.0</td>\n",
              "      <td>0.0</td>\n",
              "      <td>0.0</td>\n",
              "      <td>0.0</td>\n",
              "      <td>0.0</td>\n",
              "      <td>0.0</td>\n",
              "      <td>0.0</td>\n",
              "      <td>0.0</td>\n",
              "      <td>0.0</td>\n",
              "      <td>0.0</td>\n",
              "      <td>0.0</td>\n",
              "      <td>0.0</td>\n",
              "      <td>0.0</td>\n",
              "      <td>0.0</td>\n",
              "      <td>0.0</td>\n",
              "      <td>0.0</td>\n",
              "      <td>0.0</td>\n",
              "      <td>0.0</td>\n",
              "      <td>0.0</td>\n",
              "      <td>0.0</td>\n",
              "      <td>0.0</td>\n",
              "      <td>0.0</td>\n",
              "      <td>0.0</td>\n",
              "      <td>0.0</td>\n",
              "      <td>0.0</td>\n",
              "      <td>...</td>\n",
              "      <td>0.0</td>\n",
              "      <td>0.0</td>\n",
              "      <td>0.0</td>\n",
              "      <td>0.0</td>\n",
              "      <td>0.0</td>\n",
              "      <td>0.0</td>\n",
              "      <td>0.0</td>\n",
              "      <td>0.0</td>\n",
              "      <td>0.0</td>\n",
              "      <td>0.0</td>\n",
              "      <td>0.0</td>\n",
              "      <td>0.0</td>\n",
              "      <td>0.0</td>\n",
              "      <td>0.0</td>\n",
              "      <td>0.0</td>\n",
              "      <td>0.0</td>\n",
              "      <td>0.0</td>\n",
              "      <td>0.0</td>\n",
              "      <td>0.0</td>\n",
              "      <td>0.0</td>\n",
              "      <td>0.0</td>\n",
              "      <td>0.0</td>\n",
              "      <td>0.0</td>\n",
              "      <td>0.0</td>\n",
              "      <td>0.0</td>\n",
              "      <td>0.0</td>\n",
              "      <td>0.0</td>\n",
              "      <td>0.0</td>\n",
              "      <td>0.0</td>\n",
              "      <td>0.0</td>\n",
              "      <td>0.0</td>\n",
              "      <td>0.0</td>\n",
              "      <td>0.0</td>\n",
              "      <td>0.0</td>\n",
              "      <td>0.0</td>\n",
              "      <td>0.0</td>\n",
              "      <td>0.0</td>\n",
              "      <td>0.0</td>\n",
              "      <td>0.0</td>\n",
              "      <td>0.0</td>\n",
              "    </tr>\n",
              "    <tr>\n",
              "      <th>B001DCJAJG</th>\n",
              "      <td>0.0</td>\n",
              "      <td>0.0</td>\n",
              "      <td>0.0</td>\n",
              "      <td>0.0</td>\n",
              "      <td>0.0</td>\n",
              "      <td>0.0</td>\n",
              "      <td>0.0</td>\n",
              "      <td>0.0</td>\n",
              "      <td>0.0</td>\n",
              "      <td>0.0</td>\n",
              "      <td>0.0</td>\n",
              "      <td>0.0</td>\n",
              "      <td>0.0</td>\n",
              "      <td>0.0</td>\n",
              "      <td>0.0</td>\n",
              "      <td>0.0</td>\n",
              "      <td>0.0</td>\n",
              "      <td>0.0</td>\n",
              "      <td>0.0</td>\n",
              "      <td>0.0</td>\n",
              "      <td>0.0</td>\n",
              "      <td>0.0</td>\n",
              "      <td>0.0</td>\n",
              "      <td>0.0</td>\n",
              "      <td>0.0</td>\n",
              "      <td>0.0</td>\n",
              "      <td>0.0</td>\n",
              "      <td>0.0</td>\n",
              "      <td>0.0</td>\n",
              "      <td>0.0</td>\n",
              "      <td>0.0</td>\n",
              "      <td>0.0</td>\n",
              "      <td>0.0</td>\n",
              "      <td>0.0</td>\n",
              "      <td>0.0</td>\n",
              "      <td>0.0</td>\n",
              "      <td>0.0</td>\n",
              "      <td>0.0</td>\n",
              "      <td>0.0</td>\n",
              "      <td>0.0</td>\n",
              "      <td>...</td>\n",
              "      <td>0.0</td>\n",
              "      <td>0.0</td>\n",
              "      <td>0.0</td>\n",
              "      <td>0.0</td>\n",
              "      <td>0.0</td>\n",
              "      <td>0.0</td>\n",
              "      <td>0.0</td>\n",
              "      <td>0.0</td>\n",
              "      <td>0.0</td>\n",
              "      <td>0.0</td>\n",
              "      <td>0.0</td>\n",
              "      <td>0.0</td>\n",
              "      <td>0.0</td>\n",
              "      <td>0.0</td>\n",
              "      <td>0.0</td>\n",
              "      <td>0.0</td>\n",
              "      <td>0.0</td>\n",
              "      <td>0.0</td>\n",
              "      <td>0.0</td>\n",
              "      <td>0.0</td>\n",
              "      <td>0.0</td>\n",
              "      <td>0.0</td>\n",
              "      <td>0.0</td>\n",
              "      <td>0.0</td>\n",
              "      <td>0.0</td>\n",
              "      <td>0.0</td>\n",
              "      <td>0.0</td>\n",
              "      <td>0.0</td>\n",
              "      <td>0.0</td>\n",
              "      <td>0.0</td>\n",
              "      <td>0.0</td>\n",
              "      <td>0.0</td>\n",
              "      <td>0.0</td>\n",
              "      <td>0.0</td>\n",
              "      <td>0.0</td>\n",
              "      <td>0.0</td>\n",
              "      <td>0.0</td>\n",
              "      <td>0.0</td>\n",
              "      <td>0.0</td>\n",
              "      <td>0.0</td>\n",
              "    </tr>\n",
              "  </tbody>\n",
              "</table>\n",
              "<p>5 rows × 8639 columns</p>\n",
              "</div>"
            ],
            "text/plain": [
              "name        #1reader  &amp;Drea  ...  Ángel Rafael Gonzalez Carvajal  小贝❤️ 星星\n",
              "asin                             ...                                         \n",
              "B0000SX2UC       0.0        0.0  ...                             0.0      0.0\n",
              "B0009N5L7K       0.0        0.0  ...                             0.0      0.0\n",
              "B000SKTZ0S       0.0        0.0  ...                             0.0      0.0\n",
              "B001AO4OUC       0.0        0.0  ...                             0.0      0.0\n",
              "B001DCJAJG       0.0        0.0  ...                             0.0      0.0\n",
              "\n",
              "[5 rows x 8639 columns]"
            ]
          },
          "metadata": {
            "tags": []
          },
          "execution_count": 43
        }
      ]
    },
    {
      "cell_type": "code",
      "metadata": {
        "colab": {
          "base_uri": "https://localhost:8080/"
        },
        "id": "P8ye0nuOklsl",
        "outputId": "bf3670e8-1483-4493-b77d-25e8c9291178"
      },
      "source": [
        "X.shape"
      ],
      "execution_count": null,
      "outputs": [
        {
          "output_type": "execute_result",
          "data": {
            "text/plain": [
              "(60, 8639)"
            ]
          },
          "metadata": {
            "tags": []
          },
          "execution_count": 44
        }
      ]
    },
    {
      "cell_type": "code",
      "metadata": {
        "id": "7JdsflIxk0g3"
      },
      "source": [
        "X1 = X"
      ],
      "execution_count": null,
      "outputs": []
    },
    {
      "cell_type": "code",
      "metadata": {
        "colab": {
          "base_uri": "https://localhost:8080/"
        },
        "id": "FpSDKiH9k7wO",
        "outputId": "38d89882-aa99-48c2-87ed-04c8d295b508"
      },
      "source": [
        "from sklearn.decomposition import TruncatedSVD\n",
        "SVD = TruncatedSVD(n_components=10)\n",
        "decomposed_matrix = SVD.fit_transform(X)\n",
        "decomposed_matrix.shape"
      ],
      "execution_count": null,
      "outputs": [
        {
          "output_type": "execute_result",
          "data": {
            "text/plain": [
              "(60, 10)"
            ]
          },
          "metadata": {
            "tags": []
          },
          "execution_count": 46
        }
      ]
    },
    {
      "cell_type": "code",
      "metadata": {
        "colab": {
          "base_uri": "https://localhost:8080/"
        },
        "id": "AdbUwA__lDPu",
        "outputId": "4ecbbe03-7d3c-4f2d-eb9b-d41270e56a87"
      },
      "source": [
        "correlation_matrix = np.corrcoef(decomposed_matrix)\n",
        "correlation_matrix.shape\n",
        "correlation_matrix"
      ],
      "execution_count": null,
      "outputs": [
        {
          "output_type": "execute_result",
          "data": {
            "text/plain": [
              "(60, 60)"
            ]
          },
          "metadata": {
            "tags": []
          },
          "execution_count": 47
        },
        {
          "output_type": "execute_result",
          "data": {
            "text/plain": [
              "array([[ 1.        , -0.03995687,  0.63532906, ...,  0.69680192,\n",
              "         0.77687009,  0.36595017],\n",
              "       [-0.03995687,  1.        , -0.32760169, ..., -0.13138795,\n",
              "        -0.31121836,  0.01415589],\n",
              "       [ 0.63532906, -0.32760169,  1.        , ...,  0.89511122,\n",
              "         0.87517364,  0.22406436],\n",
              "       ...,\n",
              "       [ 0.69680192, -0.13138795,  0.89511122, ...,  1.        ,\n",
              "         0.8377383 ,  0.25972106],\n",
              "       [ 0.77687009, -0.31121836,  0.87517364, ...,  0.8377383 ,\n",
              "         1.        ,  0.42823927],\n",
              "       [ 0.36595017,  0.01415589,  0.22406436, ...,  0.25972106,\n",
              "         0.42823927,  1.        ]])"
            ]
          },
          "metadata": {
            "tags": []
          },
          "execution_count": 47
        }
      ]
    },
    {
      "cell_type": "code",
      "metadata": {
        "colab": {
          "base_uri": "https://localhost:8080/",
          "height": 35
        },
        "id": "-FEKzc14lM3M",
        "outputId": "11548012-4d4c-4bfc-ba58-4e60574f13b0"
      },
      "source": [
        "X.index[45]"
      ],
      "execution_count": null,
      "outputs": [
        {
          "output_type": "execute_result",
          "data": {
            "application/vnd.google.colaboratory.intrinsic+json": {
              "type": "string"
            },
            "text/plain": [
              "'B00CS2ZWKQ'"
            ]
          },
          "metadata": {
            "tags": []
          },
          "execution_count": 48
        }
      ]
    },
    {
      "cell_type": "code",
      "metadata": {
        "colab": {
          "base_uri": "https://localhost:8080/"
        },
        "id": "kuZl6ssulbdq",
        "outputId": "2ee4c560-e584-4dad-c5f8-9e7e0501a1fa"
      },
      "source": [
        "i = \"B00CS2ZWKQ\"\n",
        "\n",
        "product_names = list(X.index)\n",
        "product_ID = product_names.index(i)\n",
        "product_ID"
      ],
      "execution_count": null,
      "outputs": [
        {
          "output_type": "execute_result",
          "data": {
            "text/plain": [
              "45"
            ]
          },
          "metadata": {
            "tags": []
          },
          "execution_count": 49
        }
      ]
    },
    {
      "cell_type": "code",
      "metadata": {
        "colab": {
          "base_uri": "https://localhost:8080/"
        },
        "id": "tBK30CfClzyR",
        "outputId": "588a2b4c-602e-4ccb-f5df-68a43b0438e3"
      },
      "source": [
        "correlation_product_ID = correlation_matrix[product_ID]\n",
        "correlation_product_ID.shape\n",
        "correlation_product_ID"
      ],
      "execution_count": null,
      "outputs": [
        {
          "output_type": "execute_result",
          "data": {
            "text/plain": [
              "(60,)"
            ]
          },
          "metadata": {
            "tags": []
          },
          "execution_count": 50
        },
        {
          "output_type": "execute_result",
          "data": {
            "text/plain": [
              "array([ 7.62625130e-01, -1.52989889e-01,  8.99351843e-01,  9.00387723e-01,\n",
              "        8.19420961e-01, -1.99031055e-01,  3.20920891e-01,  9.70897686e-01,\n",
              "        8.04412384e-01,  7.14059163e-02,  7.52258315e-01,  9.33356261e-01,\n",
              "        9.30927745e-01,  9.59913570e-01,  7.48248070e-01,  9.42561062e-01,\n",
              "        8.47723257e-01,  9.56381968e-01,  9.24909740e-01,  9.14807799e-01,\n",
              "        2.43511175e-01,  4.33168875e-01,  9.54634934e-01,  9.70539281e-01,\n",
              "        9.44460437e-01, -1.45524012e-01,  8.90398116e-01,  2.69962122e-01,\n",
              "       -5.28509407e-02,  9.28410495e-01,  9.72051676e-01, -4.08951099e-01,\n",
              "        8.96783199e-01,  4.67545976e-02,  6.87833588e-02,  8.47115971e-01,\n",
              "        9.31933698e-01,  5.90527404e-01,  7.68206432e-01,  8.75562305e-01,\n",
              "        9.30008165e-01, -3.58845399e-02, -5.27324325e-04,  8.27627046e-01,\n",
              "        8.65154669e-01,  1.00000000e+00,  8.59448180e-01,  9.49164034e-01,\n",
              "        8.28218726e-02,  6.18349266e-02,  1.91134315e-01,  8.73568756e-01,\n",
              "        7.04516377e-01,  3.34730976e-02,  8.60122896e-01,  7.90342488e-01,\n",
              "        9.52317050e-01,  9.85998629e-01,  8.62283707e-01,  2.06720921e-01])"
            ]
          },
          "metadata": {
            "tags": []
          },
          "execution_count": 50
        }
      ]
    },
    {
      "cell_type": "code",
      "metadata": {
        "colab": {
          "base_uri": "https://localhost:8080/"
        },
        "id": "Uxbc3XBPl5Au",
        "outputId": "5434422f-7476-4330-b4e8-e7c96bf247b6"
      },
      "source": [
        "Recommend = list(X.index[correlation_product_ID > 0.65])\n",
        "\n",
        "# Removes the item already bought by the customer\n",
        "Recommend.remove(i) \n",
        "\n",
        "Recommend[0:24]"
      ],
      "execution_count": null,
      "outputs": [
        {
          "output_type": "execute_result",
          "data": {
            "text/plain": [
              "['B0000SX2UC',\n",
              " 'B000SKTZ0S',\n",
              " 'B001AO4OUC',\n",
              " 'B001DCJAJG',\n",
              " 'B002AS9WEA',\n",
              " 'B002UHS0UI',\n",
              " 'B0033SFV5A',\n",
              " 'B003FCO9XE',\n",
              " 'B003P2VNAQ',\n",
              " 'B003W646YK',\n",
              " 'B003XREZ4O',\n",
              " 'B0046REOWS',\n",
              " 'B004C7NVD0',\n",
              " 'B004GLQTG8',\n",
              " 'B004H23JXW',\n",
              " 'B004MK9VLS',\n",
              " 'B006OU39QW',\n",
              " 'B006VH79R8',\n",
              " 'B00727AODC',\n",
              " 'B007X6FFLS',\n",
              " 'B008PAW5EQ',\n",
              " 'B0096DERAG',\n",
              " 'B009LRMQTG',\n",
              " 'B00A408AF8']"
            ]
          },
          "metadata": {
            "tags": []
          },
          "execution_count": 51
        }
      ]
    },
    {
      "cell_type": "code",
      "metadata": {
        "id": "fCIGiO9ml88z"
      },
      "source": [
        ""
      ],
      "execution_count": null,
      "outputs": []
    }
  ]
}